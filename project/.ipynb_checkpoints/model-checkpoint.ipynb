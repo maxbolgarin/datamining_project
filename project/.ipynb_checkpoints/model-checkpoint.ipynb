{
 "cells": [
  {
   "cell_type": "markdown",
   "metadata": {},
   "source": [
    "# Оценка рыночной стоимости мотоцикла с пробегом"
   ]
  },
  {
   "cell_type": "markdown",
   "metadata": {},
   "source": [
    "## Выполнили: Болгарин Максим, Моисеенков Павел. BD-11"
   ]
  },
  {
   "cell_type": "markdown",
   "metadata": {},
   "source": [
    "<br>"
   ]
  },
  {
   "cell_type": "markdown",
   "metadata": {},
   "source": [
    "**Цель проекта:** проанализировать факторы, влияющие на рыночную стоимость подержанных мотоциклов, и научиться её предсказывать. Какую пользу можно вынести из этого простому человеку? Зная, как образуется стоимость мотоцикла, владелец подобного транспортного средства может подобрать подходящую для него цену для продажи. С другой стороны, будущий владелец сможет оценить адекватность заинтересовавшего его предложения."
   ]
  },
  {
   "cell_type": "markdown",
   "metadata": {},
   "source": [
    "**План выполнения:**\n",
    "1. Поиск данных, формирование датасета\n",
    "    * Скачивание и парсинг данных.\n",
    "    * Формирование датасета.\n",
    "2. Первичный анализ данных\n",
    "    * Изучение данных: определение смысла признаков, типов данных, наличия пропусков и т.д.\n",
    "3. Предобработка данных\n",
    "    * Очистка и отбор данных, выполнение необходимых преобразований.\n",
    "4. Визуальный анализ данных\n",
    "    * Поиск скрытых особенностей в данных, анализ корреляций.\n",
    "5. Применение моделей анализа данных для предсказания стоимости\n",
    "    * Тестирование нескольких простых моделей, сравнение качества, выбор baseline.\n",
    "    * Обучение и проверка модели, показывающей наилучшее качество.\n",
    "6. Вывод"
   ]
  },
  {
   "cell_type": "markdown",
   "metadata": {},
   "source": [
    "<br>"
   ]
  },
  {
   "cell_type": "markdown",
   "metadata": {},
   "source": [
    "### 1. Поиск данных, формирование датасета"
   ]
  },
  {
   "cell_type": "markdown",
   "metadata": {},
   "source": [
    "Источником данных послужил архив объявлений на сайте moto.drom.ru\n",
    "\n",
    "Всего было обработано около 7000 объявлений из Москвы. Скачивание производилось в [другом Jupyter Notebook](https://github.com/maxbolgarin/datamining_project/blob/master/project/parce.ipynb). На выходе мы имеем .csv файл, с ним нам и предстоит работать."
   ]
  },
  {
   "cell_type": "markdown",
   "metadata": {},
   "source": [
    "#### Подключим необходимые библиотеки"
   ]
  },
  {
   "cell_type": "code",
   "execution_count": 2,
   "metadata": {},
   "outputs": [],
   "source": [
    "import numpy as np\n",
    "import pandas as pd\n",
    "from datetime import datetime"
   ]
  },
  {
   "cell_type": "markdown",
   "metadata": {},
   "source": [
    "ДОБАВИЛ"
   ]
  },
  {
   "cell_type": "code",
   "execution_count": 3,
   "metadata": {},
   "outputs": [],
   "source": [
    "import matplotlib.pyplot as plt \n",
    "import statsmodels.api as sm\n",
    "from pylab import rcParams\n",
    "\n",
    "import seaborn as sns\n",
    "\n",
    "%matplotlib inline"
   ]
  },
  {
   "cell_type": "markdown",
   "metadata": {},
   "source": [
    "#### Теперь загрузим данные"
   ]
  },
  {
   "cell_type": "code",
   "execution_count": 4,
   "metadata": {},
   "outputs": [],
   "source": [
    "motorcycles = pd.read_csv('data/motorcycles.csv', index_col='id')"
   ]
  },
  {
   "cell_type": "code",
   "execution_count": 5,
   "metadata": {},
   "outputs": [
    {
     "data": {
      "text/html": [
       "<div>\n",
       "<style scoped>\n",
       "    .dataframe tbody tr th:only-of-type {\n",
       "        vertical-align: middle;\n",
       "    }\n",
       "\n",
       "    .dataframe tbody tr th {\n",
       "        vertical-align: top;\n",
       "    }\n",
       "\n",
       "    .dataframe thead th {\n",
       "        text-align: right;\n",
       "    }\n",
       "</style>\n",
       "<table border=\"1\" class=\"dataframe\">\n",
       "  <thead>\n",
       "    <tr style=\"text-align: right;\">\n",
       "      <th></th>\n",
       "      <th>price</th>\n",
       "      <th>model</th>\n",
       "      <th>mileage</th>\n",
       "      <th>motorcycle_class</th>\n",
       "      <th>year</th>\n",
       "      <th>engine_capacity</th>\n",
       "      <th>engine_strokes</th>\n",
       "      <th>damaged</th>\n",
       "      <th>documents</th>\n",
       "      <th>city</th>\n",
       "      <th>date</th>\n",
       "    </tr>\n",
       "    <tr>\n",
       "      <th>id</th>\n",
       "      <th></th>\n",
       "      <th></th>\n",
       "      <th></th>\n",
       "      <th></th>\n",
       "      <th></th>\n",
       "      <th></th>\n",
       "      <th></th>\n",
       "      <th></th>\n",
       "      <th></th>\n",
       "      <th></th>\n",
       "      <th></th>\n",
       "    </tr>\n",
       "  </thead>\n",
       "  <tbody>\n",
       "    <tr>\n",
       "      <th>2441</th>\n",
       "      <td>859 000₽</td>\n",
       "      <td>Ducati Diavel Carbon</td>\n",
       "      <td>5 500 км</td>\n",
       "      <td>None</td>\n",
       "      <td>2011</td>\n",
       "      <td>1 199 куб. см.</td>\n",
       "      <td>None</td>\n",
       "      <td>Исправен</td>\n",
       "      <td>Есть ПТС</td>\n",
       "      <td>Москва</td>\n",
       "      <td>17 декабря 2016</td>\n",
       "    </tr>\n",
       "    <tr>\n",
       "      <th>5001</th>\n",
       "      <td>405 000₽</td>\n",
       "      <td>Yamaha XJ 600</td>\n",
       "      <td>546 км</td>\n",
       "      <td>None</td>\n",
       "      <td>None</td>\n",
       "      <td>600 куб. см.</td>\n",
       "      <td>4х тактный</td>\n",
       "      <td>Исправен</td>\n",
       "      <td>Есть ПТС</td>\n",
       "      <td>Москва</td>\n",
       "      <td>9 марта 2015</td>\n",
       "    </tr>\n",
       "    <tr>\n",
       "      <th>2188</th>\n",
       "      <td>10 000₽</td>\n",
       "      <td>Днепр МТ-10-36</td>\n",
       "      <td>20 000 км</td>\n",
       "      <td>None</td>\n",
       "      <td>1975</td>\n",
       "      <td>650 куб. см.</td>\n",
       "      <td>4х тактный</td>\n",
       "      <td>Неисправен</td>\n",
       "      <td>Есть ПТС</td>\n",
       "      <td>Москва</td>\n",
       "      <td>14 апреля 2017</td>\n",
       "    </tr>\n",
       "    <tr>\n",
       "      <th>879</th>\n",
       "      <td>350 000₽</td>\n",
       "      <td>Kawasaki VN Vulcan 900</td>\n",
       "      <td>30 000 км</td>\n",
       "      <td>Туристический</td>\n",
       "      <td>2010</td>\n",
       "      <td>900 куб. см.</td>\n",
       "      <td>2х тактный</td>\n",
       "      <td>Исправен</td>\n",
       "      <td>Есть ПТС</td>\n",
       "      <td>Москва</td>\n",
       "      <td>11 декабря 2017</td>\n",
       "    </tr>\n",
       "    <tr>\n",
       "      <th>3723</th>\n",
       "      <td>65 000₽</td>\n",
       "      <td>GasGas</td>\n",
       "      <td>1 км</td>\n",
       "      <td>None</td>\n",
       "      <td>None</td>\n",
       "      <td>49 куб. см.</td>\n",
       "      <td>4х тактный</td>\n",
       "      <td>Исправен</td>\n",
       "      <td>Без ПТС</td>\n",
       "      <td>Москва</td>\n",
       "      <td>28 марта 2016</td>\n",
       "    </tr>\n",
       "  </tbody>\n",
       "</table>\n",
       "</div>"
      ],
      "text/plain": [
       "         price                   model    mileage motorcycle_class  year  \\\n",
       "id                                                                         \n",
       "2441  859 000₽    Ducati Diavel Carbon   5 500 км             None  2011   \n",
       "5001  405 000₽           Yamaha XJ 600     546 км             None  None   \n",
       "2188   10 000₽          Днепр МТ-10-36  20 000 км             None  1975   \n",
       "879   350 000₽  Kawasaki VN Vulcan 900  30 000 км    Туристический  2010   \n",
       "3723   65 000₽                  GasGas       1 км             None  None   \n",
       "\n",
       "     engine_capacity engine_strokes     damaged documents    city  \\\n",
       "id                                                                  \n",
       "2441  1 199 куб. см.           None    Исправен  Есть ПТС  Москва   \n",
       "5001    600 куб. см.     4х тактный    Исправен  Есть ПТС  Москва   \n",
       "2188    650 куб. см.     4х тактный  Неисправен  Есть ПТС  Москва   \n",
       "879     900 куб. см.     2х тактный    Исправен  Есть ПТС  Москва   \n",
       "3723     49 куб. см.     4х тактный    Исправен   Без ПТС  Москва   \n",
       "\n",
       "                 date  \n",
       "id                     \n",
       "2441  17 декабря 2016  \n",
       "5001     9 марта 2015  \n",
       "2188   14 апреля 2017  \n",
       "879   11 декабря 2017  \n",
       "3723    28 марта 2016  "
      ]
     },
     "execution_count": 5,
     "metadata": {},
     "output_type": "execute_result"
    }
   ],
   "source": [
    "motorcycles.sample(5)"
   ]
  },
  {
   "cell_type": "code",
   "execution_count": 6,
   "metadata": {},
   "outputs": [
    {
     "data": {
      "text/html": [
       "<div>\n",
       "<style scoped>\n",
       "    .dataframe tbody tr th:only-of-type {\n",
       "        vertical-align: middle;\n",
       "    }\n",
       "\n",
       "    .dataframe tbody tr th {\n",
       "        vertical-align: top;\n",
       "    }\n",
       "\n",
       "    .dataframe thead th {\n",
       "        text-align: right;\n",
       "    }\n",
       "</style>\n",
       "<table border=\"1\" class=\"dataframe\">\n",
       "  <thead>\n",
       "    <tr style=\"text-align: right;\">\n",
       "      <th></th>\n",
       "      <th>price</th>\n",
       "      <th>model</th>\n",
       "      <th>mileage</th>\n",
       "      <th>motorcycle_class</th>\n",
       "      <th>year</th>\n",
       "      <th>engine_capacity</th>\n",
       "      <th>engine_strokes</th>\n",
       "      <th>damaged</th>\n",
       "      <th>documents</th>\n",
       "      <th>city</th>\n",
       "      <th>date</th>\n",
       "    </tr>\n",
       "    <tr>\n",
       "      <th>id</th>\n",
       "      <th></th>\n",
       "      <th></th>\n",
       "      <th></th>\n",
       "      <th></th>\n",
       "      <th></th>\n",
       "      <th></th>\n",
       "      <th></th>\n",
       "      <th></th>\n",
       "      <th></th>\n",
       "      <th></th>\n",
       "      <th></th>\n",
       "    </tr>\n",
       "  </thead>\n",
       "  <tbody>\n",
       "    <tr>\n",
       "      <th>1</th>\n",
       "      <td>300 000₽</td>\n",
       "      <td>Kawasaki KX 250F</td>\n",
       "      <td>148 км</td>\n",
       "      <td>Кроссовый</td>\n",
       "      <td>2015</td>\n",
       "      <td>250 куб. см.</td>\n",
       "      <td>4х тактный</td>\n",
       "      <td>Исправен</td>\n",
       "      <td>Без ПТС</td>\n",
       "      <td>Москва</td>\n",
       "      <td>22 ноября</td>\n",
       "    </tr>\n",
       "    <tr>\n",
       "      <th>2</th>\n",
       "      <td>98 000₽</td>\n",
       "      <td>Suzuki GN 125</td>\n",
       "      <td>2 677 км</td>\n",
       "      <td>Классика</td>\n",
       "      <td>2008</td>\n",
       "      <td>125 куб. см.</td>\n",
       "      <td>4х тактный</td>\n",
       "      <td>Исправен</td>\n",
       "      <td>Есть ПТС</td>\n",
       "      <td>Москва</td>\n",
       "      <td>22 ноября</td>\n",
       "    </tr>\n",
       "    <tr>\n",
       "      <th>3</th>\n",
       "      <td>595 000₽</td>\n",
       "      <td>Suzuki V-Strom DL650A</td>\n",
       "      <td>2 км</td>\n",
       "      <td>Эндуро</td>\n",
       "      <td>2014</td>\n",
       "      <td>645 куб. см.</td>\n",
       "      <td>4х тактный</td>\n",
       "      <td>Исправен</td>\n",
       "      <td>Есть ПТС</td>\n",
       "      <td>Москва</td>\n",
       "      <td>22 ноября</td>\n",
       "    </tr>\n",
       "    <tr>\n",
       "      <th>4</th>\n",
       "      <td>100 000₽</td>\n",
       "      <td>Honda CB 400SF</td>\n",
       "      <td>45 000 км</td>\n",
       "      <td>Классика</td>\n",
       "      <td>1993</td>\n",
       "      <td>400 куб. см.</td>\n",
       "      <td>4х тактный</td>\n",
       "      <td>Исправен</td>\n",
       "      <td>Есть ПТС</td>\n",
       "      <td>Москва</td>\n",
       "      <td>22 ноября</td>\n",
       "    </tr>\n",
       "    <tr>\n",
       "      <th>5</th>\n",
       "      <td>190 000₽</td>\n",
       "      <td>Kawasaki KLX 250</td>\n",
       "      <td>17 854 км</td>\n",
       "      <td>Эндуро</td>\n",
       "      <td>2011</td>\n",
       "      <td>250 куб. см.</td>\n",
       "      <td>4х тактный</td>\n",
       "      <td>Исправен</td>\n",
       "      <td>Есть ПТС</td>\n",
       "      <td>Москва</td>\n",
       "      <td>22 ноября</td>\n",
       "    </tr>\n",
       "  </tbody>\n",
       "</table>\n",
       "</div>"
      ],
      "text/plain": [
       "       price                  model    mileage motorcycle_class  year  \\\n",
       "id                                                                      \n",
       "1   300 000₽       Kawasaki KX 250F     148 км        Кроссовый  2015   \n",
       "2    98 000₽          Suzuki GN 125   2 677 км         Классика  2008   \n",
       "3   595 000₽  Suzuki V-Strom DL650A       2 км           Эндуро  2014   \n",
       "4   100 000₽         Honda CB 400SF  45 000 км         Классика  1993   \n",
       "5   190 000₽       Kawasaki KLX 250  17 854 км           Эндуро  2011   \n",
       "\n",
       "   engine_capacity engine_strokes   damaged documents    city       date  \n",
       "id                                                                        \n",
       "1     250 куб. см.     4х тактный  Исправен   Без ПТС  Москва  22 ноября  \n",
       "2     125 куб. см.     4х тактный  Исправен  Есть ПТС  Москва  22 ноября  \n",
       "3     645 куб. см.     4х тактный  Исправен  Есть ПТС  Москва  22 ноября  \n",
       "4     400 куб. см.     4х тактный  Исправен  Есть ПТС  Москва  22 ноября  \n",
       "5     250 куб. см.     4х тактный  Исправен  Есть ПТС  Москва  22 ноября  "
      ]
     },
     "execution_count": 6,
     "metadata": {},
     "output_type": "execute_result"
    }
   ],
   "source": [
    "motorcycles.head()"
   ]
  },
  {
   "cell_type": "code",
   "execution_count": 7,
   "metadata": {},
   "outputs": [
    {
     "data": {
      "text/plain": [
       "(6848, 11)"
      ]
     },
     "execution_count": 7,
     "metadata": {},
     "output_type": "execute_result"
    }
   ],
   "source": [
    "motorcycles.shape"
   ]
  },
  {
   "cell_type": "markdown",
   "metadata": {},
   "source": [
    "Видим, что данные успешно загрузились и выглядят вполне адекватно. Можем работать дальше."
   ]
  },
  {
   "cell_type": "markdown",
   "metadata": {},
   "source": [
    "<br>"
   ]
  },
  {
   "cell_type": "markdown",
   "metadata": {},
   "source": [
    "### 2. Первичный анализ данных"
   ]
  },
  {
   "cell_type": "markdown",
   "metadata": {},
   "source": [
    "Посмотрим общую информацию по датасету:"
   ]
  },
  {
   "cell_type": "code",
   "execution_count": 8,
   "metadata": {
    "scrolled": true
   },
   "outputs": [
    {
     "name": "stdout",
     "output_type": "stream",
     "text": [
      "<class 'pandas.core.frame.DataFrame'>\n",
      "Int64Index: 6848 entries, 1 to 7100\n",
      "Data columns (total 11 columns):\n",
      "price               6848 non-null object\n",
      "model               6848 non-null object\n",
      "mileage             6848 non-null object\n",
      "motorcycle_class    6848 non-null object\n",
      "year                6848 non-null object\n",
      "engine_capacity     6848 non-null object\n",
      "engine_strokes      6848 non-null object\n",
      "damaged             6848 non-null object\n",
      "documents           6848 non-null object\n",
      "city                6848 non-null object\n",
      "date                6848 non-null object\n",
      "dtypes: object(11)\n",
      "memory usage: 642.0+ KB\n"
     ]
    }
   ],
   "source": [
    "motorcycles.info()"
   ]
  },
  {
   "cell_type": "code",
   "execution_count": 9,
   "metadata": {},
   "outputs": [
    {
     "data": {
      "text/plain": [
       "price               1059\n",
       "model               2284\n",
       "mileage             1958\n",
       "motorcycle_class      15\n",
       "year                  56\n",
       "engine_capacity      348\n",
       "engine_strokes         3\n",
       "damaged                3\n",
       "documents              3\n",
       "city                   1\n",
       "date                2133\n",
       "dtype: int64"
      ]
     },
     "execution_count": 9,
     "metadata": {},
     "output_type": "execute_result"
    }
   ],
   "source": [
    "motorcycles.nunique()"
   ]
  },
  {
   "cell_type": "code",
   "execution_count": 10,
   "metadata": {},
   "outputs": [
    {
     "data": {
      "text/plain": [
       "(6797, 11)"
      ]
     },
     "execution_count": 10,
     "metadata": {},
     "output_type": "execute_result"
    }
   ],
   "source": [
    "motorcycles.drop_duplicates().shape"
   ]
  },
  {
   "cell_type": "markdown",
   "metadata": {},
   "source": [
    "Теперь подробнее рассмотрим столбцы:"
   ]
  },
  {
   "cell_type": "markdown",
   "metadata": {},
   "source": [
    "**price:**"
   ]
  },
  {
   "cell_type": "code",
   "execution_count": 11,
   "metadata": {},
   "outputs": [
    {
     "data": {
      "text/plain": [
       "150 000₽           135\n",
       "250 000₽           132\n",
       "200 000₽           132\n",
       "300 000₽           115\n",
       "350 000₽           109\n",
       "220 000₽           103\n",
       "120 000₽           101\n",
       "180 000₽            92\n",
       "100 000₽            89\n",
       "160 000₽            86\n",
       "190 000₽            86\n",
       "Цена не указана     85\n",
       "110 000₽            85\n",
       "450 000₽            83\n",
       "170 000₽            83\n",
       "230 000₽            83\n",
       "130 000₽            80\n",
       "280 000₽            74\n",
       "140 000₽            72\n",
       "165 000₽            71\n",
       "240 000₽            71\n",
       "400 000₽            69\n",
       "90 000₽             63\n",
       "260 000₽            60\n",
       "125 000₽            58\n",
       "320 000₽            58\n",
       "210 000₽            58\n",
       "270 000₽            58\n",
       "500 000₽            55\n",
       "290 000₽            54\n",
       "                  ... \n",
       "46 940₽              1\n",
       "999 900₽             1\n",
       "1 069 900₽           1\n",
       "845 000₽             1\n",
       "340 200₽             1\n",
       "54 980₽              1\n",
       "144 050₽             1\n",
       "1 149 000₽           1\n",
       "107 160₽             1\n",
       "164 999₽             1\n",
       "37 399₽              1\n",
       "603 000₽             1\n",
       "388 000₽             1\n",
       "3 999 000₽           1\n",
       "45 970₽              1\n",
       "594 900₽             1\n",
       "1 145 000₽           1\n",
       "177 990₽             1\n",
       "611 000₽             1\n",
       "171 600₽             1\n",
       "2 900₽               1\n",
       "83 000₽              1\n",
       "65 400₽              1\n",
       "1 499 000₽           1\n",
       "1 275 000₽           1\n",
       "42 900₽              1\n",
       "250 500₽             1\n",
       "119 900₽             1\n",
       "796 000₽             1\n",
       "803 000₽             1\n",
       "Name: price, Length: 1059, dtype: int64"
      ]
     },
     "execution_count": 11,
     "metadata": {},
     "output_type": "execute_result"
    }
   ],
   "source": [
    "motorcycles.price.value_counts()"
   ]
  },
  {
   "cell_type": "markdown",
   "metadata": {},
   "source": [
    "**model:**"
   ]
  },
  {
   "cell_type": "code",
   "execution_count": 12,
   "metadata": {},
   "outputs": [
    {
     "data": {
      "text/plain": [
       "Yamaha YZF R6             95\n",
       "Honda CBR 600RR           73\n",
       "Suzuki Boulevard M109R    58\n",
       "Yamaha YZF R1             58\n",
       "Yamaha FZ 6               55\n",
       "Yamaha                    52\n",
       "Honda CB 400SF            51\n",
       "Kawasaki Ninja ZX-6R      51\n",
       "Name: model, dtype: int64"
      ]
     },
     "execution_count": 12,
     "metadata": {},
     "output_type": "execute_result"
    }
   ],
   "source": [
    "motorcycles.model.value_counts()[:8]"
   ]
  },
  {
   "cell_type": "markdown",
   "metadata": {},
   "source": [
    "**mileage:**"
   ]
  },
  {
   "cell_type": "code",
   "execution_count": 13,
   "metadata": {},
   "outputs": [
    {
     "data": {
      "text/plain": [
       "None         0.088201\n",
       "1 км         0.068633\n",
       "30 000 км    0.017377\n",
       "20 000 км    0.016063\n",
       "25 000 км    0.014895\n",
       "40 000 км    0.010952\n",
       "12 000 км    0.010806\n",
       "15 000 км    0.009930\n",
       "10 000 км    0.009784\n",
       "23 000 км    0.009784\n",
       "Name: mileage, dtype: float64"
      ]
     },
     "execution_count": 13,
     "metadata": {},
     "output_type": "execute_result"
    }
   ],
   "source": [
    "motorcycles.mileage.value_counts()[:10] / motorcycles.mileage.size"
   ]
  },
  {
   "cell_type": "markdown",
   "metadata": {},
   "source": [
    "**motorcycle_class:**"
   ]
  },
  {
   "cell_type": "code",
   "execution_count": 14,
   "metadata": {},
   "outputs": [
    {
     "data": {
      "text/plain": [
       "None               0.518400\n",
       "Чоппер             0.178592\n",
       "Классика           0.067465\n",
       "Спортивный         0.053154\n",
       "Круизер            0.040888\n",
       "Спорт-турист       0.037967\n",
       "Эндуро             0.025263\n",
       "Питбайк            0.024971\n",
       "Туристический      0.018692\n",
       "Стритфайтер        0.011536\n",
       "Кроссовый          0.008470\n",
       "Кастом             0.007155\n",
       "Мотард             0.003213\n",
       "Детский            0.002482\n",
       "Трайк (трицикл)    0.001752\n",
       "Name: motorcycle_class, dtype: float64"
      ]
     },
     "execution_count": 14,
     "metadata": {},
     "output_type": "execute_result"
    }
   ],
   "source": [
    "motorcycles.motorcycle_class.value_counts() / motorcycles.motorcycle_class.size"
   ]
  },
  {
   "cell_type": "markdown",
   "metadata": {},
   "source": [
    "**year:**"
   ]
  },
  {
   "cell_type": "code",
   "execution_count": 15,
   "metadata": {},
   "outputs": [
    {
     "data": {
      "text/plain": [
       "2014    0.070093\n",
       "2013    0.063960\n",
       "2008    0.062354\n",
       "2006    0.059725\n",
       "2007    0.058557\n",
       "2005    0.047605\n",
       "2012    0.045853\n",
       "2009    0.044539\n",
       "2003    0.043954\n",
       "None    0.043808\n",
       "Name: year, dtype: float64"
      ]
     },
     "execution_count": 15,
     "metadata": {},
     "output_type": "execute_result"
    }
   ],
   "source": [
    "motorcycles.year.value_counts()[:10] / motorcycles.year.size"
   ]
  },
  {
   "cell_type": "markdown",
   "metadata": {},
   "source": [
    "**engine_capacity:**"
   ]
  },
  {
   "cell_type": "code",
   "execution_count": 16,
   "metadata": {},
   "outputs": [
    {
     "data": {
      "text/plain": [
       "400 куб. см.      0.110981\n",
       "600 куб. см.      0.097985\n",
       "250 куб. см.      0.088347\n",
       "1 000 куб. см.    0.049504\n",
       "650 куб. см.      0.045999\n",
       "750 куб. см.      0.036069\n",
       "1 200 куб. см.    0.035193\n",
       "1 300 куб. см.    0.032856\n",
       "125 куб. см.      0.027599\n",
       "1 800 куб. см.    0.025847\n",
       "1 100 куб. см.    0.025701\n",
       "800 куб. см.      0.024533\n",
       "None              0.019860\n",
       "Name: engine_capacity, dtype: float64"
      ]
     },
     "execution_count": 16,
     "metadata": {},
     "output_type": "execute_result"
    }
   ],
   "source": [
    "motorcycles.engine_capacity.value_counts()[:13] / motorcycles.engine_capacity.size"
   ]
  },
  {
   "cell_type": "markdown",
   "metadata": {},
   "source": [
    "**engine_strokes:**"
   ]
  },
  {
   "cell_type": "code",
   "execution_count": 17,
   "metadata": {},
   "outputs": [
    {
     "data": {
      "text/plain": [
       "4х тактный    0.863902\n",
       "None          0.081484\n",
       "2х тактный    0.054614\n",
       "Name: engine_strokes, dtype: float64"
      ]
     },
     "execution_count": 17,
     "metadata": {},
     "output_type": "execute_result"
    }
   ],
   "source": [
    "motorcycles.engine_strokes.value_counts() / motorcycles.engine_strokes.size"
   ]
  },
  {
   "cell_type": "markdown",
   "metadata": {},
   "source": [
    "**damaged:**"
   ]
  },
  {
   "cell_type": "code",
   "execution_count": 18,
   "metadata": {},
   "outputs": [
    {
     "data": {
      "text/plain": [
       "Исправен      0.968166\n",
       "None          0.019568\n",
       "Неисправен    0.012266\n",
       "Name: damaged, dtype: float64"
      ]
     },
     "execution_count": 18,
     "metadata": {},
     "output_type": "execute_result"
    }
   ],
   "source": [
    "motorcycles.damaged.value_counts() / motorcycles.damaged.size"
   ]
  },
  {
   "cell_type": "markdown",
   "metadata": {},
   "source": [
    "**documents:**"
   ]
  },
  {
   "cell_type": "code",
   "execution_count": 19,
   "metadata": {},
   "outputs": [
    {
     "data": {
      "text/plain": [
       "Есть ПТС    0.908732\n",
       "Без ПТС     0.089223\n",
       "None        0.002044\n",
       "Name: documents, dtype: float64"
      ]
     },
     "execution_count": 19,
     "metadata": {},
     "output_type": "execute_result"
    }
   ],
   "source": [
    "motorcycles.documents.value_counts() / motorcycles.documents.size"
   ]
  },
  {
   "cell_type": "markdown",
   "metadata": {},
   "source": [
    "**date:**"
   ]
  },
  {
   "cell_type": "code",
   "execution_count": 20,
   "metadata": {},
   "outputs": [
    {
     "data": {
      "text/plain": [
       "id\n",
       "6067    16 сентября 2013\n",
       "3367         1 июня 2016\n",
       "5745        3 марта 2014\n",
       "849             1 января\n",
       "3525      27 апреля 2016\n",
       "5127      25 ноября 2014\n",
       "837            12 января\n",
       "1346        10 июля 2017\n",
       "4057      5 декабря 2015\n",
       "1316        14 июля 2017\n",
       "Name: date, dtype: object"
      ]
     },
     "execution_count": 20,
     "metadata": {},
     "output_type": "execute_result"
    }
   ],
   "source": [
    "motorcycles.sample(10).date"
   ]
  },
  {
   "cell_type": "markdown",
   "metadata": {},
   "source": [
    "Пройдемся по столбцам и, на основе уже имеющейся информации, дадим им некоторое описание:\n",
    "1. **id:** просто порядковый номер мотоцикла, который вряд ли несет какую либо полезную информацию.\n",
    "2. **price:** цена мотоцикла, целевая переменная. Видим, что есть объекты со значением \"Цена не указана\". Их нам придется отбросить. Также можно заметить, что не у всех мотоциклов стоит адекватная цена (290₽ и т.п.). Такие объекты тоже скорее всего можно отбросить, так как они вряд ли составляют весомую долю от всех остальных. Также следует преобразовать стоимость в числовой тип, отбросив символ \"₽\".\n",
    "3. **model:** модель мотоцикла. Можно построить отдельный столбец **manufacturer**, в котором указывать только производителя, и рассматривать его как новое свойство.\n",
    "4. **mileage:** пробег мотоцикла. 9% имею пропуски, возможно это из за того, что такие мотоциклы являются новыми. Было бы странно, если бы продавец не указывал хотя бы примерный пробег своего подержанного транспортного средства, ведь это является один из самых главных факторов при покупке. Так что заполним пропуски нулями. Также 7% имеют пробег \"1 км\", это странное значение можно тоже занулить. Значения стоит привести к числовым, отбросить подстроку \"км\".\n",
    "5. **motorcycle_class:** класс мотоцикла. Как видим, около 50% всех объектов не имеют информции о классе. Возможно, этот столбец придется убрать из рассмотрения, так как заполнить пропуски сложно без искажения реальной информации. Считать отсутстиве значения как свойство не имеет смысла, так как класс присущ каждому мотоциклу, и отстуствие информации об этом характеризует скорее не мотоцикл, а человека, составляющего объявление.\n",
    "6. **year:** год выпуска мотоцикла. Как видим, значения отсутсвуют лишь у 4% всех объявлений, что не значительно.\n",
    "7. **engine_capacity:** объем двигателя. Пропуски имеют 2% объектов. Значения можно преобразовать с числовой тип, отбросив подстроку \"куб. см.\".\n",
    "8. **engine_strokes:** число тактов двигателя. Видим, что всего 2 разных значения, и что больше 85% мотоциклов обладают четырехтактным двигателем. Также имеем 8% пропусков. Можно попробовать заменить пропуски на \"4х тактный\", так как большинство двигателей именно такие, и скорее всего продавец скорее всего знал бы, что у него особенный \"2х тактный\" двигатель, и указал бы это. Не думаю, что ошибка будет более 1% от общего количества. Также обрежем строку до одного числа, 2 или 4.\n",
    "9. **damaged:** состояние мотоцикла. Пропуски имеют 2%, и с большой уверенностью можно заполнить их значениями \"Исправен\", так как предполагается, что если мотоцикл сломан, то продавец об этом скорее всего сообщит заранее (если он добросовестный, конечно). Также значение \"Исправен\" можно закодировать под 0, а \"Неисправен\" - под 1.\n",
    "10. **documents:** наличие ПТС у продавца. Аналогично с прошлым столбцом, можно заполнить пропуски самым популярным вариантом и закодировать \"Есть ПТС\" как 0 и \"Без ПТС\" как 1.\n",
    "11. **city:** все объявления из одного города, не несет информации.\n",
    "12. **date:** как можно заметить из семпла, у некоторых объявлений есть информация о годе, а у некоторых нет. Те, у которых нет - объявления за 2018 год. Надо подправить это и дописать 2018 к этим датам."
   ]
  },
  {
   "cell_type": "markdown",
   "metadata": {},
   "source": [
    "<br>"
   ]
  },
  {
   "cell_type": "markdown",
   "metadata": {},
   "source": [
    "### 3. Предобработка данных"
   ]
  },
  {
   "cell_type": "markdown",
   "metadata": {},
   "source": [
    "Для начала избавимся от повторяющихся значений и запомним изначальное число объявлений:"
   ]
  },
  {
   "cell_type": "code",
   "execution_count": 21,
   "metadata": {},
   "outputs": [],
   "source": [
    "motorcycles = motorcycles.drop_duplicates()\n",
    "number_of_motocycles = motorcycles.shape[0]"
   ]
  },
  {
   "cell_type": "markdown",
   "metadata": {},
   "source": [
    "Напишем функцию drop_none для упрощения работы:"
   ]
  },
  {
   "cell_type": "code",
   "execution_count": 22,
   "metadata": {},
   "outputs": [],
   "source": [
    "def drop_none(df):\n",
    "    return df.replace(to_replace='None', value=np.nan).dropna()"
   ]
  },
  {
   "cell_type": "markdown",
   "metadata": {},
   "source": [
    "Теперь произведем обработку слобцов в соответствии с замечаниями, данными выше.\n",
    "\n",
    "Начнем с преобразования целевого столбца **price**:"
   ]
  },
  {
   "cell_type": "code",
   "execution_count": 23,
   "metadata": {},
   "outputs": [],
   "source": [
    "motorcycles.price = drop_none(motorcycles.price)\n",
    "motorcycles = motorcycles[motorcycles.price != \"Цена не указана\"]\n",
    "motorcycles.price = motorcycles.price.str[:-1].replace(' ', '', regex=True).astype(np.int64)\n",
    "motorcycles.price = motorcycles.price[motorcycles.price.values > 4999]"
   ]
  },
  {
   "cell_type": "markdown",
   "metadata": {},
   "source": [
    "Перейдем к столбцу **model**:"
   ]
  },
  {
   "cell_type": "code",
   "execution_count": 24,
   "metadata": {},
   "outputs": [
    {
     "data": {
      "text/plain": [
       "0.0010429082240762813"
      ]
     },
     "execution_count": 24,
     "metadata": {},
     "output_type": "execute_result"
    }
   ],
   "source": [
    "(motorcycles.model.shape[0] - drop_none(motorcycles.model).shape[0]) / motorcycles.model.shape[0]"
   ]
  },
  {
   "cell_type": "markdown",
   "metadata": {},
   "source": [
    "Как видим, None имеют один процент мотоциклов, поэтому отбросим их и создадим новый столбец **manufacturer**:"
   ]
  },
  {
   "cell_type": "code",
   "execution_count": 25,
   "metadata": {},
   "outputs": [],
   "source": [
    "motorcycles.model = drop_none(motorcycles.model)\n",
    "motorcycles['manufacturer'] = [item[0] if type(item) is list else item\n",
    "                               for item in motorcycles.model.str.split(' ').values]"
   ]
  },
  {
   "cell_type": "markdown",
   "metadata": {},
   "source": [
    "Преобразуем столбец **mileage**:"
   ]
  },
  {
   "cell_type": "code",
   "execution_count": 26,
   "metadata": {},
   "outputs": [],
   "source": [
    "motorcycles.mileage = motorcycles.mileage.str.replace(\"None\", \"0\")\n",
    "motorcycles.mileage = motorcycles.mileage.str.replace(\"1 км\", \"0\", regex=True)\n",
    "motorcycles.mileage = motorcycles.mileage.str.replace(\"км\", \"\", regex=True)\n",
    "motorcycles.mileage = motorcycles.mileage.str.replace(' ', '', regex=True).astype(np.int64)"
   ]
  },
  {
   "cell_type": "markdown",
   "metadata": {},
   "source": [
    "Как решили ранее, с **motorcycle_class** работать сложно, поэтому просто не будем рассматривать этот столбец."
   ]
  },
  {
   "cell_type": "code",
   "execution_count": 27,
   "metadata": {},
   "outputs": [],
   "source": [
    "motorcycles = motorcycles.drop(['motorcycle_class'], axis=1)"
   ]
  },
  {
   "cell_type": "markdown",
   "metadata": {},
   "source": [
    "Отбросим пропуски и преобразуем тип значений столбца **year** в integer:"
   ]
  },
  {
   "cell_type": "code",
   "execution_count": 28,
   "metadata": {},
   "outputs": [],
   "source": [
    "motorcycles.year = drop_none(motorcycles.year)\n",
    "motorcycles.year = motorcycles.year.dropna().astype(np.int32)"
   ]
  },
  {
   "cell_type": "markdown",
   "metadata": {},
   "source": [
    "На очереди **engine_capacity**:"
   ]
  },
  {
   "cell_type": "code",
   "execution_count": 29,
   "metadata": {},
   "outputs": [],
   "source": [
    "motorcycles.engine_capacity = drop_none(motorcycles.engine_capacity)\n",
    "motorcycles.engine_capacity = motorcycles.engine_capacity.str.replace(\"куб. см.\", '', regex=True)\n",
    "motorcycles.engine_capacity = motorcycles.engine_capacity.str.replace(' ', '', regex=True)\n",
    "motorcycles.engine_capacity = motorcycles.engine_capacity.dropna().astype(np.int64)"
   ]
  },
  {
   "cell_type": "markdown",
   "metadata": {},
   "source": [
    "В столбце **engine_strokes** заменим None на \"4х тактный\":"
   ]
  },
  {
   "cell_type": "code",
   "execution_count": 30,
   "metadata": {},
   "outputs": [],
   "source": [
    "motorcycles.engine_strokes = motorcycles.engine_strokes.str.replace(\"None\", \"4\", regex=True)\n",
    "motorcycles.engine_strokes = motorcycles.engine_strokes.str.replace(\"х тактный\", '', regex=True)\n",
    "motorcycles.engine_strokes = motorcycles.engine_strokes.dropna().astype(np.int64)"
   ]
  },
  {
   "cell_type": "markdown",
   "metadata": {},
   "source": [
    "Преобразуем **damaged**:"
   ]
  },
  {
   "cell_type": "code",
   "execution_count": 31,
   "metadata": {},
   "outputs": [],
   "source": [
    "motorcycles.damaged = motorcycles.damaged.str.replace(\"None\", \"0\", regex=True)\n",
    "motorcycles.damaged = motorcycles.damaged.str.replace(\"Исправен\", \"0\", regex=True)\n",
    "motorcycles.damaged = motorcycles.damaged.str.replace(\"Неисправен\", \"1\", regex=True)\n",
    "motorcycles.damaged = motorcycles.damaged.dropna().astype(np.int64)"
   ]
  },
  {
   "cell_type": "markdown",
   "metadata": {},
   "source": [
    "Аналогично **documents**:"
   ]
  },
  {
   "cell_type": "code",
   "execution_count": 32,
   "metadata": {},
   "outputs": [],
   "source": [
    "motorcycles.documents = motorcycles.documents.str.replace(\"None\", \"0\", regex=True)\n",
    "motorcycles.documents = motorcycles.documents.str.replace(\"Есть ПТС\", \"0\", regex=True)\n",
    "motorcycles.documents = motorcycles.documents.str.replace(\"Без ПТС\", \"1\", regex=True)\n",
    "motorcycles.documents = motorcycles.documents.dropna().astype(np.int64)"
   ]
  },
  {
   "cell_type": "markdown",
   "metadata": {},
   "source": [
    "Выкидываем за ненадобностью столбец **city**:"
   ]
  },
  {
   "cell_type": "code",
   "execution_count": 33,
   "metadata": {},
   "outputs": [],
   "source": [
    "motorcycles = motorcycles.drop(['city'], axis=1)"
   ]
  },
  {
   "cell_type": "markdown",
   "metadata": {},
   "source": [
    "Наконец, преобразуем столбец **date**. Сначала добавим год тем объектам, у которых его нет:"
   ]
  },
  {
   "cell_type": "code",
   "execution_count": 34,
   "metadata": {},
   "outputs": [],
   "source": [
    "motorcycles.date = [s + \" 2018\" if len(s.split()) == 2 else s for s in motorcycles.date.values]"
   ]
  },
  {
   "cell_type": "markdown",
   "metadata": {},
   "source": [
    "По хорошему, строки с датой надо бы привести к формату datetime. Однако, не совсем понятно, как работать с названиями месяцев на русском языке. Поэтому поменяем их на английский, а потом приведем значения к datetime:"
   ]
  },
  {
   "cell_type": "code",
   "execution_count": 35,
   "metadata": {},
   "outputs": [],
   "source": [
    "rus_eng_month = {\n",
    "    'января': 'January',\n",
    "    'февраля': 'February',\n",
    "    'марта': 'March',\n",
    "    'апреля': 'April',\n",
    "    'мая': 'May',\n",
    "    'июня': 'June',\n",
    "    'июля': 'July',\n",
    "    'августа': 'August',\n",
    "    'сентября': 'September',\n",
    "    'октября': 'October',\n",
    "    'ноября': 'November',\n",
    "    'декабря': 'December',  \n",
    "}\n",
    "\n",
    "dates = []\n",
    "for s in motorcycles.date.values:\n",
    "    temp_s = s.split()\n",
    "    dates.append(temp_s[0] + ' ' + rus_eng_month[temp_s[1]] + ' ' + temp_s[2])\n",
    "    \n",
    "motorcycles.date = [datetime.strptime(s, '%d %B %Y').strftime('%Y-%m-%d') for s in dates]\n",
    "motorcycles.date = pd.to_datetime(motorcycles.date.dropna()).dt.date"
   ]
  },
  {
   "cell_type": "markdown",
   "metadata": {},
   "source": [
    "Отбросим оставшиеся неопределенные значения:"
   ]
  },
  {
   "cell_type": "code",
   "execution_count": 36,
   "metadata": {},
   "outputs": [],
   "source": [
    "motorcycles = drop_none(motorcycles)\n",
    "motorcycles = motorcycles.dropna()"
   ]
  },
  {
   "cell_type": "markdown",
   "metadata": {},
   "source": [
    "Вот так теперь выглядит таблица:"
   ]
  },
  {
   "cell_type": "code",
   "execution_count": 37,
   "metadata": {},
   "outputs": [
    {
     "data": {
      "text/html": [
       "<div>\n",
       "<style scoped>\n",
       "    .dataframe tbody tr th:only-of-type {\n",
       "        vertical-align: middle;\n",
       "    }\n",
       "\n",
       "    .dataframe tbody tr th {\n",
       "        vertical-align: top;\n",
       "    }\n",
       "\n",
       "    .dataframe thead th {\n",
       "        text-align: right;\n",
       "    }\n",
       "</style>\n",
       "<table border=\"1\" class=\"dataframe\">\n",
       "  <thead>\n",
       "    <tr style=\"text-align: right;\">\n",
       "      <th></th>\n",
       "      <th>price</th>\n",
       "      <th>model</th>\n",
       "      <th>mileage</th>\n",
       "      <th>year</th>\n",
       "      <th>engine_capacity</th>\n",
       "      <th>engine_strokes</th>\n",
       "      <th>damaged</th>\n",
       "      <th>documents</th>\n",
       "      <th>date</th>\n",
       "      <th>manufacturer</th>\n",
       "    </tr>\n",
       "    <tr>\n",
       "      <th>id</th>\n",
       "      <th></th>\n",
       "      <th></th>\n",
       "      <th></th>\n",
       "      <th></th>\n",
       "      <th></th>\n",
       "      <th></th>\n",
       "      <th></th>\n",
       "      <th></th>\n",
       "      <th></th>\n",
       "      <th></th>\n",
       "    </tr>\n",
       "  </thead>\n",
       "  <tbody>\n",
       "    <tr>\n",
       "      <th>1176</th>\n",
       "      <td>259999.0</td>\n",
       "      <td>Honda CBR 600RR</td>\n",
       "      <td>30000</td>\n",
       "      <td>2005.0</td>\n",
       "      <td>600.0</td>\n",
       "      <td>4</td>\n",
       "      <td>0</td>\n",
       "      <td>0</td>\n",
       "      <td>2017-08-20</td>\n",
       "      <td>Honda</td>\n",
       "    </tr>\n",
       "    <tr>\n",
       "      <th>4149</th>\n",
       "      <td>210000.0</td>\n",
       "      <td>Suzuki GSR 600</td>\n",
       "      <td>26000</td>\n",
       "      <td>2006.0</td>\n",
       "      <td>600.0</td>\n",
       "      <td>4</td>\n",
       "      <td>0</td>\n",
       "      <td>0</td>\n",
       "      <td>2015-11-13</td>\n",
       "      <td>Suzuki</td>\n",
       "    </tr>\n",
       "    <tr>\n",
       "      <th>620</th>\n",
       "      <td>745000.0</td>\n",
       "      <td>Victory High-Ball</td>\n",
       "      <td>4700</td>\n",
       "      <td>2014.0</td>\n",
       "      <td>1731.0</td>\n",
       "      <td>4</td>\n",
       "      <td>0</td>\n",
       "      <td>0</td>\n",
       "      <td>2018-04-18</td>\n",
       "      <td>Victory</td>\n",
       "    </tr>\n",
       "    <tr>\n",
       "      <th>48</th>\n",
       "      <td>300000.0</td>\n",
       "      <td>Yamaha YZF R6</td>\n",
       "      <td>35000</td>\n",
       "      <td>2006.0</td>\n",
       "      <td>600.0</td>\n",
       "      <td>4</td>\n",
       "      <td>0</td>\n",
       "      <td>0</td>\n",
       "      <td>2018-10-29</td>\n",
       "      <td>Yamaha</td>\n",
       "    </tr>\n",
       "    <tr>\n",
       "      <th>2556</th>\n",
       "      <td>1000000.0</td>\n",
       "      <td>BMW R 1200 GS</td>\n",
       "      <td>50000</td>\n",
       "      <td>2014.0</td>\n",
       "      <td>1200.0</td>\n",
       "      <td>4</td>\n",
       "      <td>0</td>\n",
       "      <td>0</td>\n",
       "      <td>2016-11-03</td>\n",
       "      <td>BMW</td>\n",
       "    </tr>\n",
       "  </tbody>\n",
       "</table>\n",
       "</div>"
      ],
      "text/plain": [
       "          price              model  mileage    year  engine_capacity  \\\n",
       "id                                                                     \n",
       "1176   259999.0    Honda CBR 600RR    30000  2005.0            600.0   \n",
       "4149   210000.0     Suzuki GSR 600    26000  2006.0            600.0   \n",
       "620    745000.0  Victory High-Ball     4700  2014.0           1731.0   \n",
       "48     300000.0      Yamaha YZF R6    35000  2006.0            600.0   \n",
       "2556  1000000.0      BMW R 1200 GS    50000  2014.0           1200.0   \n",
       "\n",
       "      engine_strokes  damaged  documents        date manufacturer  \n",
       "id                                                                 \n",
       "1176               4        0          0  2017-08-20        Honda  \n",
       "4149               4        0          0  2015-11-13       Suzuki  \n",
       "620                4        0          0  2018-04-18      Victory  \n",
       "48                 4        0          0  2018-10-29       Yamaha  \n",
       "2556               4        0          0  2016-11-03          BMW  "
      ]
     },
     "execution_count": 37,
     "metadata": {},
     "output_type": "execute_result"
    }
   ],
   "source": [
    "motorcycles.sample(5)"
   ]
  },
  {
   "cell_type": "code",
   "execution_count": 38,
   "metadata": {},
   "outputs": [
    {
     "name": "stdout",
     "output_type": "stream",
     "text": [
      "<class 'pandas.core.frame.DataFrame'>\n",
      "Int64Index: 6334 entries, 1 to 7100\n",
      "Data columns (total 10 columns):\n",
      "price              6334 non-null float64\n",
      "model              6334 non-null object\n",
      "mileage            6334 non-null int64\n",
      "year               6334 non-null float64\n",
      "engine_capacity    6334 non-null float64\n",
      "engine_strokes     6334 non-null int64\n",
      "damaged            6334 non-null int64\n",
      "documents          6334 non-null int64\n",
      "date               6334 non-null object\n",
      "manufacturer       6334 non-null object\n",
      "dtypes: float64(3), int64(4), object(3)\n",
      "memory usage: 544.3+ KB\n"
     ]
    }
   ],
   "source": [
    "motorcycles.info()"
   ]
  },
  {
   "cell_type": "markdown",
   "metadata": {},
   "source": [
    "Посмотрим, сколько осталось объектов после всех преобразований:"
   ]
  },
  {
   "cell_type": "code",
   "execution_count": 39,
   "metadata": {},
   "outputs": [
    {
     "name": "stdout",
     "output_type": "stream",
     "text": [
      "Было: 6797\n",
      "Осталось: 6334\n",
      "Датасет уменьшился на 6.81% от первоначального размера\n"
     ]
    }
   ],
   "source": [
    "print('Было: {}'.format(number_of_motocycles))\n",
    "print('Осталось: {}'.format(motorcycles.shape[0]))\n",
    "print('Датасет уменьшился на {:.3}% от первоначального размера'.format(\n",
    "    100*(number_of_motocycles - motorcycles.shape[0]) / number_of_motocycles)\n",
    "     )"
   ]
  },
  {
   "cell_type": "markdown",
   "metadata": {},
   "source": [
    "Как видим, после всех преобразований, датасет уменьшился незначительно. Теперь мы можем приступать к основной счасти работы."
   ]
  },
  {
   "cell_type": "markdown",
   "metadata": {},
   "source": [
    "1. Посмотрим какие макри мотоциклов встречаются чаще других, а какие марки самые редкие"
   ]
  },
  {
   "cell_type": "code",
   "execution_count": 50,
   "metadata": {},
   "outputs": [
    {
     "data": {
      "text/plain": [
       "Honda              1423\n",
       "Yamaha             1136\n",
       "Suzuki              770\n",
       "Kawasaki            646\n",
       "Harley-Davidson     313\n",
       "BMW                 300\n",
       "KTM                 143\n",
       "Ducati              125\n",
       "Stels                66\n",
       "Racer                57\n",
       "Triumph              56\n",
       "Irbis                50\n",
       "Kayo                 48\n",
       "Урал                 44\n",
       "Aprilia              37\n",
       "Baltmotors           28\n",
       "NO.                  28\n",
       "Ява                  23\n",
       "Sym                  23\n",
       "BSE                  21\n",
       "HONDA                19\n",
       "CBR                  17\n",
       "BRP                  17\n",
       "Иж                   17\n",
       "Hyosung              16\n",
       "Минск                15\n",
       "CB                   15\n",
       "Husqvarna            14\n",
       "YCF                  14\n",
       "YAMAHA               13\n",
       "                   ... \n",
       "FZR250R               1\n",
       "Pannonia              1\n",
       "Vecstar               1\n",
       "VT1100CX              1\n",
       "nidza                 1\n",
       "Trophi                1\n",
       "Vino                  1\n",
       "СBR600RR              1\n",
       "RVF                   1\n",
       "Lead                  1\n",
       "SV                    1\n",
       "xv                    1\n",
       "Godzilla              1\n",
       "gsx-r                 1\n",
       "СB                    1\n",
       "Brutale               1\n",
       "FMX650                1\n",
       "HORIZON               1\n",
       "FZ6-S                 1\n",
       "ZXR400R               1\n",
       "СВ-400                1\n",
       "Vision                1\n",
       "FZ400                 1\n",
       "diversion             1\n",
       "vn800                 1\n",
       "Camp                  1\n",
       "GSXR-750              1\n",
       "Viper                 1\n",
       "FZX-750               1\n",
       "CBR-1000RR            1\n",
       "Name: manufacturer, Length: 507, dtype: int64"
      ]
     },
     "execution_count": 50,
     "metadata": {},
     "output_type": "execute_result"
    }
   ],
   "source": [
    "motorcycles.manufacturer.value_counts()"
   ]
  },
  {
   "cell_type": "code",
   "execution_count": 43,
   "metadata": {},
   "outputs": [
    {
     "data": {
      "text/plain": [
       "<matplotlib.axes._subplots.AxesSubplot at 0x1c1f59b908>"
      ]
     },
     "execution_count": 43,
     "metadata": {},
     "output_type": "execute_result"
    },
    {
     "data": {
      "image/png": "[encoded data removed]",
      "text/plain": [
       "<Figure size 1008x360 with 1 Axes>"
      ]
     },
     "metadata": {},
     "output_type": "display_data"
    }
   ],
   "source": [
    "fig = plt.figure(figsize= (14,5))\n",
    "motorcyclesmotorcycles['manufacturer'].value_counts().plot.bar()"
   ]
  },
  {
   "cell_type": "markdown",
   "metadata": {},
   "source": [
    "Нужно учести тот факт, что Honda, HONDA, ХОНДА и Хонда это одна и та же марка. "
   ]
  },
  {
   "cell_type": "code",
   "execution_count": 64,
   "metadata": {},
   "outputs": [],
   "source": [
    "motorcycles.manufacturer = motorcycles.manufacturer.str.replace(\"HONDA\", \"Honda\" ,regex=True)\n",
    "motorcycles.manufacturer = motorcycles.manufacturer.str.replace(\"ХОНДА\", \"Honda\" ,regex=True)\n",
    "motorcycles.manufacturer = motorcycles.manufacturer.str.replace(\"Хонда\", \"Honda\" ,regex=True)"
   ]
  },
  {
   "cell_type": "markdown",
   "metadata": {},
   "source": [
    "Yamaha, YAMAHA"
   ]
  },
  {
   "cell_type": "code",
   "execution_count": 66,
   "metadata": {},
   "outputs": [],
   "source": [
    "motorcycles.manufacturer = motorcycles.manufacturer.str.replace(\"YAMAHA\", \"Yamaha\" ,regex=True)"
   ]
  },
  {
   "cell_type": "code",
   "execution_count": 67,
   "metadata": {},
   "outputs": [
    {
     "data": {
      "text/plain": [
       "Honda              1445\n",
       "Yamaha             1149\n",
       "Suzuki              770\n",
       "Kawasaki            646\n",
       "Harley-Davidson     313\n",
       "BMW                 300\n",
       "KTM                 143\n",
       "Ducati              125\n",
       "Stels                66\n",
       "Racer                57\n",
       "Triumph              56\n",
       "Irbis                50\n",
       "Kayo                 48\n",
       "Урал                 44\n",
       "Aprilia              37\n",
       "Baltmotors           28\n",
       "NO.                  28\n",
       "Sym                  23\n",
       "Ява                  23\n",
       "BSE                  21\n",
       "CBR                  17\n",
       "BRP                  17\n",
       "Иж                   17\n",
       "Hyosung              16\n",
       "CB                   15\n",
       "Минск                15\n",
       "Husqvarna            14\n",
       "YCF                  14\n",
       "Dio                  13\n",
       "ABM                  13\n",
       "                   ... \n",
       "F800ST                1\n",
       "Forsage               1\n",
       "sx                    1\n",
       "Fighter               1\n",
       "FreeRider             1\n",
       "XP                    1\n",
       "Zeal                  1\n",
       "ЗАЗоцикл              1\n",
       "СB                    1\n",
       "Brutale               1\n",
       "FMX650                1\n",
       "HORIZON               1\n",
       "FZ6-S                 1\n",
       "ZXR400R               1\n",
       "СВ-400                1\n",
       "FZ400                 1\n",
       "diversion             1\n",
       "vn800                 1\n",
       "Camp                  1\n",
       "GSXR-750              1\n",
       "FZX-750               1\n",
       "СBR600RR              1\n",
       "AF35zx                1\n",
       "nidza                 1\n",
       "FXDB103               1\n",
       "hayabusa              1\n",
       "FJR1300               1\n",
       "3                     1\n",
       "ER-6n                 1\n",
       "CBR-1000RR            1\n",
       "Name: manufacturer, Length: 503, dtype: int64"
      ]
     },
     "execution_count": 67,
     "metadata": {},
     "output_type": "execute_result"
    }
   ],
   "source": [
    "motorcycles.manufacturer.value_counts()"
   ]
  },
  {
   "cell_type": "markdown",
   "metadata": {},
   "source": [
    "2. Вычеслим среднее значение, медиану, дисперсию, стандартное отклонение, наибольшую и наименьшую температуру для каждого месяца"
   ]
  },
  {
   "cell_type": "code",
   "execution_count": 57,
   "metadata": {},
   "outputs": [
    {
     "data": {
      "text/html": [
       "<div>\n",
       "<style scoped>\n",
       "    .dataframe tbody tr th:only-of-type {\n",
       "        vertical-align: middle;\n",
       "    }\n",
       "\n",
       "    .dataframe tbody tr th {\n",
       "        vertical-align: top;\n",
       "    }\n",
       "\n",
       "    .dataframe thead th {\n",
       "        text-align: right;\n",
       "    }\n",
       "</style>\n",
       "<table border=\"1\" class=\"dataframe\">\n",
       "  <thead>\n",
       "    <tr style=\"text-align: right;\">\n",
       "      <th></th>\n",
       "      <th>mean</th>\n",
       "      <th>median</th>\n",
       "      <th>std</th>\n",
       "      <th>var</th>\n",
       "      <th>amin</th>\n",
       "      <th>amax</th>\n",
       "    </tr>\n",
       "    <tr>\n",
       "      <th>manufacturer</th>\n",
       "      <th></th>\n",
       "      <th></th>\n",
       "      <th></th>\n",
       "      <th></th>\n",
       "      <th></th>\n",
       "      <th></th>\n",
       "    </tr>\n",
       "  </thead>\n",
       "  <tbody>\n",
       "    <tr>\n",
       "      <th>000</th>\n",
       "      <td>6.000000e+03</td>\n",
       "      <td>6000.0</td>\n",
       "      <td>NaN</td>\n",
       "      <td>NaN</td>\n",
       "      <td>6000.0</td>\n",
       "      <td>6000.0</td>\n",
       "    </tr>\n",
       "    <tr>\n",
       "      <th>1098s</th>\n",
       "      <td>5.600000e+05</td>\n",
       "      <td>560000.0</td>\n",
       "      <td>NaN</td>\n",
       "      <td>NaN</td>\n",
       "      <td>560000.0</td>\n",
       "      <td>560000.0</td>\n",
       "    </tr>\n",
       "    <tr>\n",
       "      <th>1300</th>\n",
       "      <td>5.500000e+05</td>\n",
       "      <td>550000.0</td>\n",
       "      <td>NaN</td>\n",
       "      <td>NaN</td>\n",
       "      <td>550000.0</td>\n",
       "      <td>550000.0</td>\n",
       "    </tr>\n",
       "    <tr>\n",
       "      <th>3</th>\n",
       "      <td>9.000000e+04</td>\n",
       "      <td>90000.0</td>\n",
       "      <td>NaN</td>\n",
       "      <td>NaN</td>\n",
       "      <td>90000.0</td>\n",
       "      <td>90000.0</td>\n",
       "    </tr>\n",
       "    <tr>\n",
       "      <th>35-56</th>\n",
       "      <td>2.300000e+04</td>\n",
       "      <td>23000.0</td>\n",
       "      <td>NaN</td>\n",
       "      <td>NaN</td>\n",
       "      <td>23000.0</td>\n",
       "      <td>23000.0</td>\n",
       "    </tr>\n",
       "    <tr>\n",
       "      <th>600rr</th>\n",
       "      <td>2.225000e+05</td>\n",
       "      <td>222500.0</td>\n",
       "      <td>74246.212025</td>\n",
       "      <td>5.512500e+09</td>\n",
       "      <td>170000.0</td>\n",
       "      <td>275000.0</td>\n",
       "    </tr>\n",
       "    <tr>\n",
       "      <th>ABM</th>\n",
       "      <td>6.419231e+04</td>\n",
       "      <td>60000.0</td>\n",
       "      <td>26405.127707</td>\n",
       "      <td>6.972308e+08</td>\n",
       "      <td>20000.0</td>\n",
       "      <td>105000.0</td>\n",
       "    </tr>\n",
       "    <tr>\n",
       "      <th>AF35zx</th>\n",
       "      <td>1.500000e+04</td>\n",
       "      <td>15000.0</td>\n",
       "      <td>NaN</td>\n",
       "      <td>NaN</td>\n",
       "      <td>15000.0</td>\n",
       "      <td>15000.0</td>\n",
       "    </tr>\n",
       "    <tr>\n",
       "      <th>ATV</th>\n",
       "      <td>2.400000e+05</td>\n",
       "      <td>240000.0</td>\n",
       "      <td>14142.135624</td>\n",
       "      <td>2.000000e+08</td>\n",
       "      <td>230000.0</td>\n",
       "      <td>250000.0</td>\n",
       "    </tr>\n",
       "    <tr>\n",
       "      <th>AVM</th>\n",
       "      <td>3.900000e+04</td>\n",
       "      <td>39000.0</td>\n",
       "      <td>NaN</td>\n",
       "      <td>NaN</td>\n",
       "      <td>39000.0</td>\n",
       "      <td>39000.0</td>\n",
       "    </tr>\n",
       "    <tr>\n",
       "      <th>Alpha</th>\n",
       "      <td>1.200000e+04</td>\n",
       "      <td>12000.0</td>\n",
       "      <td>NaN</td>\n",
       "      <td>NaN</td>\n",
       "      <td>12000.0</td>\n",
       "      <td>12000.0</td>\n",
       "    </tr>\n",
       "    <tr>\n",
       "      <th>American</th>\n",
       "      <td>4.750000e+05</td>\n",
       "      <td>475000.0</td>\n",
       "      <td>247487.373415</td>\n",
       "      <td>6.125000e+10</td>\n",
       "      <td>300000.0</td>\n",
       "      <td>650000.0</td>\n",
       "    </tr>\n",
       "    <tr>\n",
       "      <th>Apollo</th>\n",
       "      <td>7.222500e+04</td>\n",
       "      <td>75000.0</td>\n",
       "      <td>16605.295340</td>\n",
       "      <td>2.757358e+08</td>\n",
       "      <td>49900.0</td>\n",
       "      <td>89000.0</td>\n",
       "    </tr>\n",
       "    <tr>\n",
       "      <th>Aprilia</th>\n",
       "      <td>2.567297e+05</td>\n",
       "      <td>210000.0</td>\n",
       "      <td>151647.370320</td>\n",
       "      <td>2.299692e+10</td>\n",
       "      <td>85000.0</td>\n",
       "      <td>750000.0</td>\n",
       "    </tr>\n",
       "    <tr>\n",
       "      <th>Arlen</th>\n",
       "      <td>2.050000e+06</td>\n",
       "      <td>2050000.0</td>\n",
       "      <td>NaN</td>\n",
       "      <td>NaN</td>\n",
       "      <td>2050000.0</td>\n",
       "      <td>2050000.0</td>\n",
       "    </tr>\n",
       "    <tr>\n",
       "      <th>Avantis</th>\n",
       "      <td>7.543333e+04</td>\n",
       "      <td>51300.0</td>\n",
       "      <td>66851.053345</td>\n",
       "      <td>4.469063e+09</td>\n",
       "      <td>24000.0</td>\n",
       "      <td>151000.0</td>\n",
       "    </tr>\n",
       "    <tr>\n",
       "      <th>Axis</th>\n",
       "      <td>3.200000e+04</td>\n",
       "      <td>32000.0</td>\n",
       "      <td>NaN</td>\n",
       "      <td>NaN</td>\n",
       "      <td>32000.0</td>\n",
       "      <td>32000.0</td>\n",
       "    </tr>\n",
       "    <tr>\n",
       "      <th>B-King</th>\n",
       "      <td>4.700000e+05</td>\n",
       "      <td>470000.0</td>\n",
       "      <td>NaN</td>\n",
       "      <td>NaN</td>\n",
       "      <td>470000.0</td>\n",
       "      <td>470000.0</td>\n",
       "    </tr>\n",
       "    <tr>\n",
       "      <th>B3756</th>\n",
       "      <td>2.150000e+05</td>\n",
       "      <td>215000.0</td>\n",
       "      <td>NaN</td>\n",
       "      <td>NaN</td>\n",
       "      <td>215000.0</td>\n",
       "      <td>215000.0</td>\n",
       "    </tr>\n",
       "    <tr>\n",
       "      <th>BMW</th>\n",
       "      <td>4.936398e+05</td>\n",
       "      <td>410000.0</td>\n",
       "      <td>290490.132461</td>\n",
       "      <td>8.438452e+10</td>\n",
       "      <td>40000.0</td>\n",
       "      <td>1850000.0</td>\n",
       "    </tr>\n",
       "    <tr>\n",
       "      <th>BROS</th>\n",
       "      <td>9.000000e+04</td>\n",
       "      <td>90000.0</td>\n",
       "      <td>NaN</td>\n",
       "      <td>NaN</td>\n",
       "      <td>90000.0</td>\n",
       "      <td>90000.0</td>\n",
       "    </tr>\n",
       "    <tr>\n",
       "      <th>BRP</th>\n",
       "      <td>7.004116e+05</td>\n",
       "      <td>750000.0</td>\n",
       "      <td>293119.101145</td>\n",
       "      <td>8.591881e+10</td>\n",
       "      <td>60000.0</td>\n",
       "      <td>1100000.0</td>\n",
       "    </tr>\n",
       "    <tr>\n",
       "      <th>BSE</th>\n",
       "      <td>1.058762e+05</td>\n",
       "      <td>70000.0</td>\n",
       "      <td>95789.158597</td>\n",
       "      <td>9.175563e+09</td>\n",
       "      <td>32600.0</td>\n",
       "      <td>440000.0</td>\n",
       "    </tr>\n",
       "    <tr>\n",
       "      <th>BW's</th>\n",
       "      <td>5.700000e+04</td>\n",
       "      <td>57000.0</td>\n",
       "      <td>NaN</td>\n",
       "      <td>NaN</td>\n",
       "      <td>57000.0</td>\n",
       "      <td>57000.0</td>\n",
       "    </tr>\n",
       "    <tr>\n",
       "      <th>Bajaj</th>\n",
       "      <td>1.263800e+05</td>\n",
       "      <td>139000.0</td>\n",
       "      <td>35631.755500</td>\n",
       "      <td>1.269622e+09</td>\n",
       "      <td>68000.0</td>\n",
       "      <td>159900.0</td>\n",
       "    </tr>\n",
       "    <tr>\n",
       "      <th>Balius</th>\n",
       "      <td>6.500000e+04</td>\n",
       "      <td>65000.0</td>\n",
       "      <td>NaN</td>\n",
       "      <td>NaN</td>\n",
       "      <td>65000.0</td>\n",
       "      <td>65000.0</td>\n",
       "    </tr>\n",
       "    <tr>\n",
       "      <th>Baltmotors</th>\n",
       "      <td>6.788214e+04</td>\n",
       "      <td>64850.0</td>\n",
       "      <td>20475.822302</td>\n",
       "      <td>4.192593e+08</td>\n",
       "      <td>39000.0</td>\n",
       "      <td>140000.0</td>\n",
       "    </tr>\n",
       "    <tr>\n",
       "      <th>Bandit</th>\n",
       "      <td>1.211000e+05</td>\n",
       "      <td>118000.0</td>\n",
       "      <td>53624.155005</td>\n",
       "      <td>2.875550e+09</td>\n",
       "      <td>78000.0</td>\n",
       "      <td>210000.0</td>\n",
       "    </tr>\n",
       "    <tr>\n",
       "      <th>Bars</th>\n",
       "      <td>6.500000e+04</td>\n",
       "      <td>65000.0</td>\n",
       "      <td>NaN</td>\n",
       "      <td>NaN</td>\n",
       "      <td>65000.0</td>\n",
       "      <td>65000.0</td>\n",
       "    </tr>\n",
       "    <tr>\n",
       "      <th>Benelli</th>\n",
       "      <td>1.914286e+05</td>\n",
       "      <td>200000.0</td>\n",
       "      <td>69204.665408</td>\n",
       "      <td>4.789286e+09</td>\n",
       "      <td>65000.0</td>\n",
       "      <td>300000.0</td>\n",
       "    </tr>\n",
       "    <tr>\n",
       "      <th>...</th>\n",
       "      <td>...</td>\n",
       "      <td>...</td>\n",
       "      <td>...</td>\n",
       "      <td>...</td>\n",
       "      <td>...</td>\n",
       "      <td>...</td>\n",
       "    </tr>\n",
       "    <tr>\n",
       "      <th>Соло</th>\n",
       "      <td>6.000000e+04</td>\n",
       "      <td>60000.0</td>\n",
       "      <td>NaN</td>\n",
       "      <td>NaN</td>\n",
       "      <td>60000.0</td>\n",
       "      <td>60000.0</td>\n",
       "    </tr>\n",
       "    <tr>\n",
       "      <th>Спринтер</th>\n",
       "      <td>4.000000e+04</td>\n",
       "      <td>40000.0</td>\n",
       "      <td>NaN</td>\n",
       "      <td>NaN</td>\n",
       "      <td>40000.0</td>\n",
       "      <td>40000.0</td>\n",
       "    </tr>\n",
       "    <tr>\n",
       "      <th>ТМЗ</th>\n",
       "      <td>4.833333e+04</td>\n",
       "      <td>55000.0</td>\n",
       "      <td>11547.005384</td>\n",
       "      <td>1.333333e+08</td>\n",
       "      <td>35000.0</td>\n",
       "      <td>55000.0</td>\n",
       "    </tr>\n",
       "    <tr>\n",
       "      <th>ТМЗ-5.952</th>\n",
       "      <td>1.500000e+04</td>\n",
       "      <td>15000.0</td>\n",
       "      <td>NaN</td>\n",
       "      <td>NaN</td>\n",
       "      <td>15000.0</td>\n",
       "      <td>15000.0</td>\n",
       "    </tr>\n",
       "    <tr>\n",
       "      <th>ТМЗ-5.952-01</th>\n",
       "      <td>4.500000e+04</td>\n",
       "      <td>45000.0</td>\n",
       "      <td>NaN</td>\n",
       "      <td>NaN</td>\n",
       "      <td>45000.0</td>\n",
       "      <td>45000.0</td>\n",
       "    </tr>\n",
       "    <tr>\n",
       "      <th>ТРИЦИКЛ</th>\n",
       "      <td>5.500000e+05</td>\n",
       "      <td>550000.0</td>\n",
       "      <td>NaN</td>\n",
       "      <td>NaN</td>\n",
       "      <td>550000.0</td>\n",
       "      <td>550000.0</td>\n",
       "    </tr>\n",
       "    <tr>\n",
       "      <th>Такт-30</th>\n",
       "      <td>3.000000e+04</td>\n",
       "      <td>30000.0</td>\n",
       "      <td>NaN</td>\n",
       "      <td>NaN</td>\n",
       "      <td>30000.0</td>\n",
       "      <td>30000.0</td>\n",
       "    </tr>\n",
       "    <tr>\n",
       "      <th>Триггер</th>\n",
       "      <td>7.000000e+04</td>\n",
       "      <td>70000.0</td>\n",
       "      <td>NaN</td>\n",
       "      <td>NaN</td>\n",
       "      <td>70000.0</td>\n",
       "      <td>70000.0</td>\n",
       "    </tr>\n",
       "    <tr>\n",
       "      <th>Трицикл</th>\n",
       "      <td>1.319000e+05</td>\n",
       "      <td>131900.0</td>\n",
       "      <td>NaN</td>\n",
       "      <td>NaN</td>\n",
       "      <td>131900.0</td>\n",
       "      <td>131900.0</td>\n",
       "    </tr>\n",
       "    <tr>\n",
       "      <th>Урал</th>\n",
       "      <td>1.653180e+05</td>\n",
       "      <td>85000.0</td>\n",
       "      <td>204787.913656</td>\n",
       "      <td>4.193809e+10</td>\n",
       "      <td>19000.0</td>\n",
       "      <td>727000.0</td>\n",
       "    </tr>\n",
       "    <tr>\n",
       "      <th>ХОНДА</th>\n",
       "      <td>1.600000e+05</td>\n",
       "      <td>160000.0</td>\n",
       "      <td>NaN</td>\n",
       "      <td>NaN</td>\n",
       "      <td>160000.0</td>\n",
       "      <td>160000.0</td>\n",
       "    </tr>\n",
       "    <tr>\n",
       "      <th>Харли</th>\n",
       "      <td>4.600000e+05</td>\n",
       "      <td>460000.0</td>\n",
       "      <td>NaN</td>\n",
       "      <td>NaN</td>\n",
       "      <td>460000.0</td>\n",
       "      <td>460000.0</td>\n",
       "    </tr>\n",
       "    <tr>\n",
       "      <th>Хонда</th>\n",
       "      <td>1.390000e+05</td>\n",
       "      <td>139000.0</td>\n",
       "      <td>33941.125497</td>\n",
       "      <td>1.152000e+09</td>\n",
       "      <td>115000.0</td>\n",
       "      <td>163000.0</td>\n",
       "    </tr>\n",
       "    <tr>\n",
       "      <th>ЯВА</th>\n",
       "      <td>3.000000e+04</td>\n",
       "      <td>30000.0</td>\n",
       "      <td>NaN</td>\n",
       "      <td>NaN</td>\n",
       "      <td>30000.0</td>\n",
       "      <td>30000.0</td>\n",
       "    </tr>\n",
       "    <tr>\n",
       "      <th>Ява</th>\n",
       "      <td>1.446087e+05</td>\n",
       "      <td>140000.0</td>\n",
       "      <td>99490.858022</td>\n",
       "      <td>9.898431e+09</td>\n",
       "      <td>28000.0</td>\n",
       "      <td>450000.0</td>\n",
       "    </tr>\n",
       "    <tr>\n",
       "      <th>аджилити</th>\n",
       "      <td>6.300000e+04</td>\n",
       "      <td>63000.0</td>\n",
       "      <td>NaN</td>\n",
       "      <td>NaN</td>\n",
       "      <td>63000.0</td>\n",
       "      <td>63000.0</td>\n",
       "    </tr>\n",
       "    <tr>\n",
       "      <th>восход</th>\n",
       "      <td>1.000000e+04</td>\n",
       "      <td>10000.0</td>\n",
       "      <td>NaN</td>\n",
       "      <td>NaN</td>\n",
       "      <td>10000.0</td>\n",
       "      <td>10000.0</td>\n",
       "    </tr>\n",
       "    <tr>\n",
       "      <th>вулкан</th>\n",
       "      <td>2.875000e+05</td>\n",
       "      <td>287500.0</td>\n",
       "      <td>229809.703886</td>\n",
       "      <td>5.281250e+10</td>\n",
       "      <td>125000.0</td>\n",
       "      <td>450000.0</td>\n",
       "    </tr>\n",
       "    <tr>\n",
       "      <th>кавасаки</th>\n",
       "      <td>1.000000e+05</td>\n",
       "      <td>100000.0</td>\n",
       "      <td>NaN</td>\n",
       "      <td>NaN</td>\n",
       "      <td>100000.0</td>\n",
       "      <td>100000.0</td>\n",
       "    </tr>\n",
       "    <tr>\n",
       "      <th>мини-байк</th>\n",
       "      <td>1.500000e+04</td>\n",
       "      <td>15000.0</td>\n",
       "      <td>0.000000</td>\n",
       "      <td>0.000000e+00</td>\n",
       "      <td>15000.0</td>\n",
       "      <td>15000.0</td>\n",
       "    </tr>\n",
       "    <tr>\n",
       "      <th>мини-чёпер</th>\n",
       "      <td>2.450000e+04</td>\n",
       "      <td>24500.0</td>\n",
       "      <td>NaN</td>\n",
       "      <td>NaN</td>\n",
       "      <td>24500.0</td>\n",
       "      <td>24500.0</td>\n",
       "    </tr>\n",
       "    <tr>\n",
       "      <th>минск</th>\n",
       "      <td>7.000000e+03</td>\n",
       "      <td>7000.0</td>\n",
       "      <td>NaN</td>\n",
       "      <td>NaN</td>\n",
       "      <td>7000.0</td>\n",
       "      <td>7000.0</td>\n",
       "    </tr>\n",
       "    <tr>\n",
       "      <th>мопед</th>\n",
       "      <td>9.000000e+03</td>\n",
       "      <td>9000.0</td>\n",
       "      <td>NaN</td>\n",
       "      <td>NaN</td>\n",
       "      <td>9000.0</td>\n",
       "      <td>9000.0</td>\n",
       "    </tr>\n",
       "    <tr>\n",
       "      <th>мотоцикл</th>\n",
       "      <td>4.500000e+04</td>\n",
       "      <td>45000.0</td>\n",
       "      <td>NaN</td>\n",
       "      <td>NaN</td>\n",
       "      <td>45000.0</td>\n",
       "      <td>45000.0</td>\n",
       "    </tr>\n",
       "    <tr>\n",
       "      <th>св</th>\n",
       "      <td>9.500000e+04</td>\n",
       "      <td>95000.0</td>\n",
       "      <td>NaN</td>\n",
       "      <td>NaN</td>\n",
       "      <td>95000.0</td>\n",
       "      <td>95000.0</td>\n",
       "    </tr>\n",
       "    <tr>\n",
       "      <th>скутер</th>\n",
       "      <td>2.450000e+04</td>\n",
       "      <td>24500.0</td>\n",
       "      <td>NaN</td>\n",
       "      <td>NaN</td>\n",
       "      <td>24500.0</td>\n",
       "      <td>24500.0</td>\n",
       "    </tr>\n",
       "    <tr>\n",
       "      <th>сузуки</th>\n",
       "      <td>5.000000e+04</td>\n",
       "      <td>50000.0</td>\n",
       "      <td>NaN</td>\n",
       "      <td>NaN</td>\n",
       "      <td>50000.0</td>\n",
       "      <td>50000.0</td>\n",
       "    </tr>\n",
       "    <tr>\n",
       "      <th>трайк</th>\n",
       "      <td>1.200000e+05</td>\n",
       "      <td>120000.0</td>\n",
       "      <td>NaN</td>\n",
       "      <td>NaN</td>\n",
       "      <td>120000.0</td>\n",
       "      <td>120000.0</td>\n",
       "    </tr>\n",
       "    <tr>\n",
       "      <th>трехколесный</th>\n",
       "      <td>4.250000e+04</td>\n",
       "      <td>42500.0</td>\n",
       "      <td>NaN</td>\n",
       "      <td>NaN</td>\n",
       "      <td>42500.0</td>\n",
       "      <td>42500.0</td>\n",
       "    </tr>\n",
       "    <tr>\n",
       "      <th>№45</th>\n",
       "      <td>4.600000e+05</td>\n",
       "      <td>460000.0</td>\n",
       "      <td>NaN</td>\n",
       "      <td>NaN</td>\n",
       "      <td>460000.0</td>\n",
       "      <td>460000.0</td>\n",
       "    </tr>\n",
       "  </tbody>\n",
       "</table>\n",
       "<p>507 rows × 6 columns</p>\n",
       "</div>"
      ],
      "text/plain": [
       "                      mean     median            std           var       amin  \\\n",
       "manufacturer                                                                    \n",
       "000           6.000000e+03     6000.0            NaN           NaN     6000.0   \n",
       "1098s         5.600000e+05   560000.0            NaN           NaN   560000.0   \n",
       "1300          5.500000e+05   550000.0            NaN           NaN   550000.0   \n",
       "3             9.000000e+04    90000.0            NaN           NaN    90000.0   \n",
       "35-56         2.300000e+04    23000.0            NaN           NaN    23000.0   \n",
       "600rr         2.225000e+05   222500.0   74246.212025  5.512500e+09   170000.0   \n",
       "ABM           6.419231e+04    60000.0   26405.127707  6.972308e+08    20000.0   \n",
       "AF35zx        1.500000e+04    15000.0            NaN           NaN    15000.0   \n",
       "ATV           2.400000e+05   240000.0   14142.135624  2.000000e+08   230000.0   \n",
       "AVM           3.900000e+04    39000.0            NaN           NaN    39000.0   \n",
       "Alpha         1.200000e+04    12000.0            NaN           NaN    12000.0   \n",
       "American      4.750000e+05   475000.0  247487.373415  6.125000e+10   300000.0   \n",
       "Apollo        7.222500e+04    75000.0   16605.295340  2.757358e+08    49900.0   \n",
       "Aprilia       2.567297e+05   210000.0  151647.370320  2.299692e+10    85000.0   \n",
       "Arlen         2.050000e+06  2050000.0            NaN           NaN  2050000.0   \n",
       "Avantis       7.543333e+04    51300.0   66851.053345  4.469063e+09    24000.0   \n",
       "Axis          3.200000e+04    32000.0            NaN           NaN    32000.0   \n",
       "B-King        4.700000e+05   470000.0            NaN           NaN   470000.0   \n",
       "B3756         2.150000e+05   215000.0            NaN           NaN   215000.0   \n",
       "BMW           4.936398e+05   410000.0  290490.132461  8.438452e+10    40000.0   \n",
       "BROS          9.000000e+04    90000.0            NaN           NaN    90000.0   \n",
       "BRP           7.004116e+05   750000.0  293119.101145  8.591881e+10    60000.0   \n",
       "BSE           1.058762e+05    70000.0   95789.158597  9.175563e+09    32600.0   \n",
       "BW's          5.700000e+04    57000.0            NaN           NaN    57000.0   \n",
       "Bajaj         1.263800e+05   139000.0   35631.755500  1.269622e+09    68000.0   \n",
       "Balius        6.500000e+04    65000.0            NaN           NaN    65000.0   \n",
       "Baltmotors    6.788214e+04    64850.0   20475.822302  4.192593e+08    39000.0   \n",
       "Bandit        1.211000e+05   118000.0   53624.155005  2.875550e+09    78000.0   \n",
       "Bars          6.500000e+04    65000.0            NaN           NaN    65000.0   \n",
       "Benelli       1.914286e+05   200000.0   69204.665408  4.789286e+09    65000.0   \n",
       "...                    ...        ...            ...           ...        ...   \n",
       "Соло          6.000000e+04    60000.0            NaN           NaN    60000.0   \n",
       "Спринтер      4.000000e+04    40000.0            NaN           NaN    40000.0   \n",
       "ТМЗ           4.833333e+04    55000.0   11547.005384  1.333333e+08    35000.0   \n",
       "ТМЗ-5.952     1.500000e+04    15000.0            NaN           NaN    15000.0   \n",
       "ТМЗ-5.952-01  4.500000e+04    45000.0            NaN           NaN    45000.0   \n",
       "ТРИЦИКЛ       5.500000e+05   550000.0            NaN           NaN   550000.0   \n",
       "Такт-30       3.000000e+04    30000.0            NaN           NaN    30000.0   \n",
       "Триггер       7.000000e+04    70000.0            NaN           NaN    70000.0   \n",
       "Трицикл       1.319000e+05   131900.0            NaN           NaN   131900.0   \n",
       "Урал          1.653180e+05    85000.0  204787.913656  4.193809e+10    19000.0   \n",
       "ХОНДА         1.600000e+05   160000.0            NaN           NaN   160000.0   \n",
       "Харли         4.600000e+05   460000.0            NaN           NaN   460000.0   \n",
       "Хонда         1.390000e+05   139000.0   33941.125497  1.152000e+09   115000.0   \n",
       "ЯВА           3.000000e+04    30000.0            NaN           NaN    30000.0   \n",
       "Ява           1.446087e+05   140000.0   99490.858022  9.898431e+09    28000.0   \n",
       "аджилити      6.300000e+04    63000.0            NaN           NaN    63000.0   \n",
       "восход        1.000000e+04    10000.0            NaN           NaN    10000.0   \n",
       "вулкан        2.875000e+05   287500.0  229809.703886  5.281250e+10   125000.0   \n",
       "кавасаки      1.000000e+05   100000.0            NaN           NaN   100000.0   \n",
       "мини-байк     1.500000e+04    15000.0       0.000000  0.000000e+00    15000.0   \n",
       "мини-чёпер    2.450000e+04    24500.0            NaN           NaN    24500.0   \n",
       "минск         7.000000e+03     7000.0            NaN           NaN     7000.0   \n",
       "мопед         9.000000e+03     9000.0            NaN           NaN     9000.0   \n",
       "мотоцикл      4.500000e+04    45000.0            NaN           NaN    45000.0   \n",
       "св            9.500000e+04    95000.0            NaN           NaN    95000.0   \n",
       "скутер        2.450000e+04    24500.0            NaN           NaN    24500.0   \n",
       "сузуки        5.000000e+04    50000.0            NaN           NaN    50000.0   \n",
       "трайк         1.200000e+05   120000.0            NaN           NaN   120000.0   \n",
       "трехколесный  4.250000e+04    42500.0            NaN           NaN    42500.0   \n",
       "№45           4.600000e+05   460000.0            NaN           NaN   460000.0   \n",
       "\n",
       "                   amax  \n",
       "manufacturer             \n",
       "000              6000.0  \n",
       "1098s          560000.0  \n",
       "1300           550000.0  \n",
       "3               90000.0  \n",
       "35-56           23000.0  \n",
       "600rr          275000.0  \n",
       "ABM            105000.0  \n",
       "AF35zx          15000.0  \n",
       "ATV            250000.0  \n",
       "AVM             39000.0  \n",
       "Alpha           12000.0  \n",
       "American       650000.0  \n",
       "Apollo          89000.0  \n",
       "Aprilia        750000.0  \n",
       "Arlen         2050000.0  \n",
       "Avantis        151000.0  \n",
       "Axis            32000.0  \n",
       "B-King         470000.0  \n",
       "B3756          215000.0  \n",
       "BMW           1850000.0  \n",
       "BROS            90000.0  \n",
       "BRP           1100000.0  \n",
       "BSE            440000.0  \n",
       "BW's            57000.0  \n",
       "Bajaj          159900.0  \n",
       "Balius          65000.0  \n",
       "Baltmotors     140000.0  \n",
       "Bandit         210000.0  \n",
       "Bars            65000.0  \n",
       "Benelli        300000.0  \n",
       "...                 ...  \n",
       "Соло            60000.0  \n",
       "Спринтер        40000.0  \n",
       "ТМЗ             55000.0  \n",
       "ТМЗ-5.952       15000.0  \n",
       "ТМЗ-5.952-01    45000.0  \n",
       "ТРИЦИКЛ        550000.0  \n",
       "Такт-30         30000.0  \n",
       "Триггер         70000.0  \n",
       "Трицикл        131900.0  \n",
       "Урал           727000.0  \n",
       "ХОНДА          160000.0  \n",
       "Харли          460000.0  \n",
       "Хонда          163000.0  \n",
       "ЯВА             30000.0  \n",
       "Ява            450000.0  \n",
       "аджилити        63000.0  \n",
       "восход          10000.0  \n",
       "вулкан         450000.0  \n",
       "кавасаки       100000.0  \n",
       "мини-байк       15000.0  \n",
       "мини-чёпер      24500.0  \n",
       "минск            7000.0  \n",
       "мопед            9000.0  \n",
       "мотоцикл        45000.0  \n",
       "св              95000.0  \n",
       "скутер          24500.0  \n",
       "сузуки          50000.0  \n",
       "трайк          120000.0  \n",
       "трехколесный    42500.0  \n",
       "№45            460000.0  \n",
       "\n",
       "[507 rows x 6 columns]"
      ]
     },
     "execution_count": 57,
     "metadata": {},
     "output_type": "execute_result"
    }
   ],
   "source": [
    "price_model=motorcycles.groupby(by = 'manufacturer')['price'].agg([np.mean, np.median, np.std, np.var, np.min, np.max])\n",
    "price_model"
   ]
  },
  {
   "cell_type": "markdown",
   "metadata": {},
   "source": [
    "<br>"
   ]
  },
  {
   "cell_type": "code",
   "execution_count": 58,
   "metadata": {},
   "outputs": [
    {
     "data": {
      "text/plain": [
       "<matplotlib.axes._subplots.AxesSubplot at 0x1c1fa3c6d8>"
      ]
     },
     "execution_count": 58,
     "metadata": {},
     "output_type": "execute_result"
    },
    {
     "data": {
      "image/png": "[encoded data removed]",
      "text/plain": [
       "<Figure size 1008x360 with 1 Axes>"
      ]
     },
     "metadata": {},
     "output_type": "display_data"
    }
   ],
   "source": [
    "fig = plt.figure(figsize= (14,5))\n",
    "price_model['mean'].plot.bar()"
   ]
  },
  {
   "cell_type": "code",
   "execution_count": null,
   "metadata": {},
   "outputs": [],
   "source": []
  }
 ],
 "metadata": {
  "kernelspec": {
   "display_name": "Python 3",
   "language": "python",
   "name": "python3"
  },
  "language_info": {
   "codemirror_mode": {
    "name": "ipython",
    "version": 3
   },
   "file_extension": ".py",
   "mimetype": "text/x-python",
   "name": "python",
   "nbconvert_exporter": "python",
   "pygments_lexer": "ipython3",
   "version": "3.6.5"
  }
 },
 "nbformat": 4,
 "nbformat_minor": 2
}
