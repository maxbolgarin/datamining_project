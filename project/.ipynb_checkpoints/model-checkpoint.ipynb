{
 "cells": [
  {
   "cell_type": "markdown",
   "metadata": {},
   "source": [
    "Здесь будет обработка скачанного датасета с помощью моделей анализа данных"
   ]
  },
  {
   "cell_type": "code",
   "execution_count": 7,
   "metadata": {},
   "outputs": [],
   "source": [
    "import numpy as np\n",
    "import pandas as pd"
   ]
  },
  {
   "cell_type": "code",
   "execution_count": 10,
   "metadata": {},
   "outputs": [
    {
     "data": {
      "text/html": [
       "<div>\n",
       "<style scoped>\n",
       "    .dataframe tbody tr th:only-of-type {\n",
       "        vertical-align: middle;\n",
       "    }\n",
       "\n",
       "    .dataframe tbody tr th {\n",
       "        vertical-align: top;\n",
       "    }\n",
       "\n",
       "    .dataframe thead th {\n",
       "        text-align: right;\n",
       "    }\n",
       "</style>\n",
       "<table border=\"1\" class=\"dataframe\">\n",
       "  <thead>\n",
       "    <tr style=\"text-align: right;\">\n",
       "      <th></th>\n",
       "      <th>price</th>\n",
       "      <th>model</th>\n",
       "      <th>mileage</th>\n",
       "      <th>motorcycle_class</th>\n",
       "      <th>year</th>\n",
       "      <th>engine_capacity</th>\n",
       "      <th>engine_strokes</th>\n",
       "      <th>damaged</th>\n",
       "      <th>documents</th>\n",
       "      <th>city</th>\n",
       "      <th>date</th>\n",
       "    </tr>\n",
       "    <tr>\n",
       "      <th>id</th>\n",
       "      <th></th>\n",
       "      <th></th>\n",
       "      <th></th>\n",
       "      <th></th>\n",
       "      <th></th>\n",
       "      <th></th>\n",
       "      <th></th>\n",
       "      <th></th>\n",
       "      <th></th>\n",
       "      <th></th>\n",
       "      <th></th>\n",
       "    </tr>\n",
       "  </thead>\n",
       "  <tbody>\n",
       "    <tr>\n",
       "      <th>1</th>\n",
       "      <td>300 000₽</td>\n",
       "      <td>Kawasaki KX 250F</td>\n",
       "      <td>148 км</td>\n",
       "      <td>Кроссовый</td>\n",
       "      <td>2015</td>\n",
       "      <td>250 куб. см.</td>\n",
       "      <td>4х тактный</td>\n",
       "      <td>Исправен</td>\n",
       "      <td>Без ПТС</td>\n",
       "      <td>Москва</td>\n",
       "      <td>22 ноября</td>\n",
       "    </tr>\n",
       "    <tr>\n",
       "      <th>2</th>\n",
       "      <td>98 000₽</td>\n",
       "      <td>Suzuki GN 125</td>\n",
       "      <td>2 677 км</td>\n",
       "      <td>Классика</td>\n",
       "      <td>2008</td>\n",
       "      <td>125 куб. см.</td>\n",
       "      <td>4х тактный</td>\n",
       "      <td>Исправен</td>\n",
       "      <td>Есть ПТС</td>\n",
       "      <td>Москва</td>\n",
       "      <td>22 ноября</td>\n",
       "    </tr>\n",
       "    <tr>\n",
       "      <th>3</th>\n",
       "      <td>595 000₽</td>\n",
       "      <td>Suzuki V-Strom DL650A</td>\n",
       "      <td>2 км</td>\n",
       "      <td>Эндуро</td>\n",
       "      <td>2014</td>\n",
       "      <td>645 куб. см.</td>\n",
       "      <td>4х тактный</td>\n",
       "      <td>Исправен</td>\n",
       "      <td>Есть ПТС</td>\n",
       "      <td>Москва</td>\n",
       "      <td>22 ноября</td>\n",
       "    </tr>\n",
       "    <tr>\n",
       "      <th>4</th>\n",
       "      <td>100 000₽</td>\n",
       "      <td>Honda CB 400SF</td>\n",
       "      <td>45 000 км</td>\n",
       "      <td>Классика</td>\n",
       "      <td>1993</td>\n",
       "      <td>400 куб. см.</td>\n",
       "      <td>4х тактный</td>\n",
       "      <td>Исправен</td>\n",
       "      <td>Есть ПТС</td>\n",
       "      <td>Москва</td>\n",
       "      <td>22 ноября</td>\n",
       "    </tr>\n",
       "    <tr>\n",
       "      <th>5</th>\n",
       "      <td>190 000₽</td>\n",
       "      <td>Kawasaki KLX 250</td>\n",
       "      <td>17 854 км</td>\n",
       "      <td>Эндуро</td>\n",
       "      <td>2011</td>\n",
       "      <td>250 куб. см.</td>\n",
       "      <td>4х тактный</td>\n",
       "      <td>Исправен</td>\n",
       "      <td>Есть ПТС</td>\n",
       "      <td>Москва</td>\n",
       "      <td>22 ноября</td>\n",
       "    </tr>\n",
       "  </tbody>\n",
       "</table>\n",
       "</div>"
      ],
      "text/plain": [
       "       price                  model    mileage motorcycle_class  year  \\\n",
       "id                                                                      \n",
       "1   300 000₽       Kawasaki KX 250F     148 км        Кроссовый  2015   \n",
       "2    98 000₽          Suzuki GN 125   2 677 км         Классика  2008   \n",
       "3   595 000₽  Suzuki V-Strom DL650A       2 км           Эндуро  2014   \n",
       "4   100 000₽         Honda CB 400SF  45 000 км         Классика  1993   \n",
       "5   190 000₽       Kawasaki KLX 250  17 854 км           Эндуро  2011   \n",
       "\n",
       "   engine_capacity engine_strokes   damaged documents    city       date  \n",
       "id                                                                        \n",
       "1     250 куб. см.     4х тактный  Исправен   Без ПТС  Москва  22 ноября  \n",
       "2     125 куб. см.     4х тактный  Исправен  Есть ПТС  Москва  22 ноября  \n",
       "3     645 куб. см.     4х тактный  Исправен  Есть ПТС  Москва  22 ноября  \n",
       "4     400 куб. см.     4х тактный  Исправен  Есть ПТС  Москва  22 ноября  \n",
       "5     250 куб. см.     4х тактный  Исправен  Есть ПТС  Москва  22 ноября  "
      ]
     },
     "execution_count": 10,
     "metadata": {},
     "output_type": "execute_result"
    }
   ],
   "source": [
    "motorcycles = pd.read_csv('data/motorcycles.csv', index_col='id')\n",
    "motorcycles.head()"
   ]
  },
  {
   "cell_type": "code",
   "execution_count": 11,
   "metadata": {},
   "outputs": [
    {
     "data": {
      "text/plain": [
       "4х тактный    5916\n",
       "None           558\n",
       "2х тактный     374\n",
       "Name: engine_strokes, dtype: int64"
      ]
     },
     "execution_count": 11,
     "metadata": {},
     "output_type": "execute_result"
    }
   ],
   "source": [
    "motorcycles.engine_strokes.value_counts()"
   ]
  },
  {
   "cell_type": "code",
   "execution_count": 19,
   "metadata": {},
   "outputs": [
    {
     "data": {
      "text/plain": [
       "Исправен      6630\n",
       "None           134\n",
       "Неисправен      84\n",
       "Name: damaged, dtype: int64"
      ]
     },
     "execution_count": 19,
     "metadata": {},
     "output_type": "execute_result"
    }
   ],
   "source": [
    "motorcycles.damaged.value_counts()"
   ]
  },
  {
   "cell_type": "code",
   "execution_count": 13,
   "metadata": {},
   "outputs": [
    {
     "data": {
      "text/plain": [
       "None               3550\n",
       "Чоппер             1223\n",
       "Классика            462\n",
       "Спортивный          364\n",
       "Круизер             280\n",
       "Спорт-турист        260\n",
       "Эндуро              173\n",
       "Питбайк             171\n",
       "Туристический       128\n",
       "Стритфайтер          79\n",
       "Кроссовый            58\n",
       "Кастом               49\n",
       "Мотард               22\n",
       "Детский              17\n",
       "Трайк (трицикл)      12\n",
       "Name: motorcycle_class, dtype: int64"
      ]
     },
     "execution_count": 13,
     "metadata": {},
     "output_type": "execute_result"
    }
   ],
   "source": [
    "motorcycles.motorcycle_class.value_counts()"
   ]
  },
  {
   "cell_type": "code",
   "execution_count": 16,
   "metadata": {},
   "outputs": [
    {
     "data": {
      "text/plain": [
       "400 куб. см.      760\n",
       "600 куб. см.      671\n",
       "250 куб. см.      605\n",
       "1 000 куб. см.    339\n",
       "650 куб. см.      315\n",
       "750 куб. см.      247\n",
       "1 200 куб. см.    241\n",
       "1 300 куб. см.    225\n",
       "Name: engine_capacity, dtype: int64"
      ]
     },
     "execution_count": 16,
     "metadata": {},
     "output_type": "execute_result"
    }
   ],
   "source": [
    "motorcycles.engine_capacity.value_counts()[:8]"
   ]
  },
  {
   "cell_type": "code",
   "execution_count": null,
   "metadata": {},
   "outputs": [],
   "source": []
  }
 ],
 "metadata": {
  "kernelspec": {
   "display_name": "Python 3",
   "language": "python",
   "name": "python3"
  },
  "language_info": {
   "codemirror_mode": {
    "name": "ipython",
    "version": 3
   },
   "file_extension": ".py",
   "mimetype": "text/x-python",
   "name": "python",
   "nbconvert_exporter": "python",
   "pygments_lexer": "ipython3",
   "version": "3.6.5"
  }
 },
 "nbformat": 4,
 "nbformat_minor": 2
}
