{
 "cells": [
  {
   "cell_type": "markdown",
   "metadata": {},
   "source": [
    "Здесь будет производится скачивание и парсинг данных с сайта auto.ru"
   ]
  },
  {
   "cell_type": "markdown",
   "metadata": {},
   "source": [
    "Задача: Оценка рыночной стоимости мотоцикла с пробегом \n",
    "\n",
    "Данные: https://auto.ru/moskva/mototsikly/all/ \n",
    "Целевая переменная: цена в рублях (!)\n",
    "\n",
    "Признаки: \n",
    "1. Фирма изготовитель (!)\n",
    "2. Пробег (!)\n",
    "3. Тип \n",
    "4. Год выпуска \n",
    "\n",
    "5. Объем двигателя \n",
    "6. Мощность двигателя \n",
    "7. Тип двигателя \n",
    "8. Число цилиндров \n",
    "9. Число тактов \n",
    "10. Число передач \n",
    "11. Тип привода \n",
    "12. Наличие ABS \n",
    "13. Наличие электростартера \n",
    "14. Цвет \n",
    "\n",
    "15. Состояние \n",
    "16. Таможня \n",
    "17. Частное лицо или дилер \n",
    "18. Возможен ли торг \n",
    "19. Расстояние от Москвы \n",
    "\n",
    "Можно попробовать: \n",
    "20. Дата публикации объявления \n",
    "21. Число просмотров объявления \n",
    "22. Число фотографий в объявлении \n",
    "23. Длина комментария продавца"
   ]
  },
  {
   "cell_type": "markdown",
   "metadata": {},
   "source": [
    "Как они будут называться в таблице, разделитель ',': \n",
    "\n",
    "0. price\n",
    "\n",
    "1. manufacturer\n",
    "2. mileage \n",
    "3. motorcycle_type\n",
    "4. year \n",
    "\n",
    "5. engine_capacity\n",
    "6. engine_power\n",
    "7. engine_type \n",
    "8. cylinders \n",
    "9. strokes \n",
    "10. gears \n",
    "11. type_of_drive \n",
    "12. abs\n",
    "13. starter \n",
    "14. color \n",
    "\n",
    "15. damaged (1 если требует ремонта, 0 если нет)\n",
    "16. сustoms (1 - растаможен)\n",
    "17. private (1 - частное лицо) \n",
    "18. bargaining - (1 если возможен торг) \n",
    "19. distance_from_moscow \n",
    " \n",
    "20. date \n",
    "21. visits \n",
    "22. photos \n",
    "23. length_of_comment"
   ]
  },
  {
   "cell_type": "markdown",
   "metadata": {},
   "source": [
    "Алгоритм:\n",
    "1. Скачать все страницы (есть номер страницы, если забанят - знаю, откуда продолжить)\n",
    "2. Получить из них список ссылкок (просто парсинг)\n",
    "3. Потом идти по каждой ссылке (есть номер ссылки, если забанят - знаю, откуда продолжить)"
   ]
  },
  {
   "cell_type": "markdown",
   "metadata": {},
   "source": [
    "<b>Импорт библиотек</b>"
   ]
  },
  {
   "cell_type": "code",
   "execution_count": 14,
   "metadata": {},
   "outputs": [],
   "source": [
    "import numpy as np\n",
    "import pandas as pd\n",
    "import requests\n",
    "import time\n",
    "from bs4 import BeautifulSoup"
   ]
  },
  {
   "cell_type": "markdown",
   "metadata": {},
   "source": [
    "<b>Класс, описывающий мотоцикл</b>"
   ]
  },
  {
   "cell_type": "code",
   "execution_count": 15,
   "metadata": {},
   "outputs": [],
   "source": [
    "class Motorcycle:\n",
    "    def __init__(self, soup_motorcycle, index=None):\n",
    "        self.soup = soup_motorcycle\n",
    "        if (index is None):\n",
    "            self.index = 0\n",
    "        else:\n",
    "            self.index = index\n",
    "            \n",
    "        self.warning_string_ = \"Index: \" + self.index + \"; Warning: \"\n",
    "        \n",
    "    def warning_(self, string):\n",
    "        print(self.warning_string_ + string)\n",
    "        \n",
    "    def parse_information(self):\n",
    "        self.price = self.get_price()\n",
    "        if (self.price is None):\n",
    "            return False\n",
    "        \n",
    "        self.manufacturer = self.get_manufacturer()\n",
    "        if (self.manufacturer is None):\n",
    "            return False\n",
    "        \n",
    "        self.mileage = self.get_mileage()\n",
    "        if (self.mileage is None):\n",
    "            return False\n",
    "        \n",
    "        self.year = self.get_year()\n",
    "        \n",
    "        # аналогично дописать для всех фичей\n",
    "        # проверка на None в этой функции для других фичей не нужна \n",
    "        # (я выделил самые главные)\n",
    "        # \n",
    "        return True\n",
    "    \n",
    "        \n",
    "    def get_price(self):\n",
    "        price = self.soup.select('h4.card__price-rur.card__price-rur_dropdown')\n",
    "        if (price is not None):\n",
    "            price = price[0].text\n",
    "        else:\n",
    "            self.warning_('price not found')\n",
    "            price = None\n",
    "        return price\n",
    "    \n",
    "    \n",
    "    def get_manufacturer(self):\n",
    "        manufacturer = self.soup.select('.link.link_theme_auto.link__control.i-bem')\n",
    "        if (manufacturer is not None):\n",
    "            manufacturer = manufacturer[5].text\n",
    "        else:\n",
    "            self.warning_('manufacturer not found')\n",
    "            manufacturer = None\n",
    "        return manufacturer\n",
    "    \n",
    "    def get_mileage(self):\n",
    "        mileage = self.soup.select('dl.card__info > dd.card__info-value.card__info-value_bold')\n",
    "        if (mileage is not None):\n",
    "            mileage = manufacturer[1].text\n",
    "        else:\n",
    "            self.warning_('mileage not found')\n",
    "            mileage = None\n",
    "        return mileage\n",
    "    \n",
    "    def get_year(self):\n",
    "        year = self.soup.select('dl.card__info > dd.card__info-value.card__info-value_bold')\n",
    "        if (year is not None):\n",
    "            year = manufacturer[0].text\n",
    "        else:\n",
    "            self.warning_('year not found')\n",
    "            year = None\n",
    "        return year\n",
    "    \n",
    "    def __repr__(self):\n",
    "         return \"Motorcycle class\"\n",
    "        \n",
    "    def __str__(self):\n",
    "        string = str(self.price) + ',' + str(self.manufacturer) + ',' + \\\n",
    "                    str(self.mileage) + ',' + str(self.year)\n",
    "        return string"
   ]
  },
  {
   "cell_type": "markdown",
   "metadata": {},
   "source": [
    "<b>Информация по подключению</b>"
   ]
  },
  {
   "cell_type": "code",
   "execution_count": 16,
   "metadata": {},
   "outputs": [],
   "source": [
    "url_page_template = '''https://auto.ru/moskva/mototsikly/all/?beaten=1&custom_state_key=CLEARED\n",
    "                    &geo_id=213geo_radius=1000&image=true&sort_offers=cr_date-DESC&top_days=off\n",
    "                    &currency=RUR&output_type=list&page_num_offers='''"
   ]
  },
  {
   "cell_type": "code",
   "execution_count": 27,
   "metadata": {},
   "outputs": [],
   "source": [
    "# Выбрать нужное\n",
    "# Сайт с прокси: http://spys.one/proxys/RU/\n",
    "\n",
    "#proxies = None\n",
    "proxies = { 'https': '5.130.73.28:42362' }"
   ]
  },
  {
   "cell_type": "markdown",
   "metadata": {},
   "source": [
    "<b>Вспомогательные функции для подключения</b>"
   ]
  },
  {
   "cell_type": "code",
   "execution_count": 18,
   "metadata": {},
   "outputs": [],
   "source": [
    "def is_banned(soup):\n",
    "    title = soup.select_one('h1.title')\n",
    "    if (title is not None):\n",
    "        if (title.text == 'ой…'):\n",
    "            return True\n",
    "    else:\n",
    "        return False"
   ]
  },
  {
   "cell_type": "code",
   "execution_count": 19,
   "metadata": {},
   "outputs": [],
   "source": [
    "def get_links(url_page, proxies=None, sleep=False, sleep_seconds=10):\n",
    "    html_page = requests.get(url_page, proxies=proxies).content\n",
    "    soup = BeautifulSoup(html_page, 'html.parser')\n",
    "    \n",
    "    if (is_banned(soup)):\n",
    "        print(\"BANNED\")\n",
    "        return None\n",
    "    \n",
    "    if (sleep):\n",
    "        time.sleep(np.random.randint(sleep_seconds))\n",
    "          \n",
    "    return soup.select('.link.link_theme_auto.listing-item__link.link__control.i-bem')"
   ]
  },
  {
   "cell_type": "code",
   "execution_count": 25,
   "metadata": {},
   "outputs": [],
   "source": [
    "def get_motorcycle_soup(url_motorcycle, proxies=None, sleep=False, sleep_seconds=10):\n",
    "    html_motorcycle = requests.get(url_motorcycle, proxies=proxies).content\n",
    "    soup_motorcycle = BeautifulSoup(html_motorcycle, 'html.parser')\n",
    "        \n",
    "    if (is_banned(soup_motorcycle)):\n",
    "        print(\"BANNED\")\n",
    "        return None\n",
    "    \n",
    "    if (sleep):\n",
    "        time.sleep(np.random.randint(sleep_seconds))\n",
    "        \n",
    "    return soup_motorcycle"
   ]
  },
  {
   "cell_type": "markdown",
   "metadata": {},
   "source": [
    "<b>Создание списка ссылок</b>"
   ]
  },
  {
   "cell_type": "code",
   "execution_count": 21,
   "metadata": {},
   "outputs": [
    {
     "name": "stdout",
     "output_type": "stream",
     "text": [
      "BANNED\n",
      "Error while getting motorcycle links\n",
      "Page: 16\n",
      "Link: 556\n"
     ]
    }
   ],
   "source": [
    "last_page = 99\n",
    "\n",
    "with open('data/current_page.txt', 'r') as file:\n",
    "    current_page = int(file.readline())\n",
    "    current_link = int(file.readline())\n",
    "    \n",
    "with open('data/links.txt', 'a') as f_output:\n",
    "    for page in range(current_page, last_page+1):\n",
    "        links = get_links(url_page_template + str(page), proxies, True)\n",
    "        \n",
    "        if (links is None):\n",
    "            print(\"Error while getting motorcycle links\")\n",
    "            current_page = page\n",
    "            print(\"Page: \" + str(current_page))\n",
    "            print(\"Link: \" + str(current_link))\n",
    "            break\n",
    "        \n",
    "        for link in links:\n",
    "            print(str(current_link) + '. '+ link['href'], file=f_output)\n",
    "            current_link += 1\n",
    "        \n",
    "        current_page = page + 1\n",
    "        \n",
    "with open('data/current_page.txt', 'w') as f_output:\n",
    "    print(current_page, file=f_output)\n",
    "    print(current_link, file=f_output)"
   ]
  },
  {
   "cell_type": "markdown",
   "metadata": {},
   "source": [
    "<b>Основной цикл (не работает пока)</b>"
   ]
  },
  {
   "cell_type": "code",
   "execution_count": 28,
   "metadata": {},
   "outputs": [
    {
     "ename": "TypeError",
     "evalue": "must be str, not int",
     "output_type": "error",
     "traceback": [
      "\u001b[1;31m---------------------------------------------------------------------------\u001b[0m",
      "\u001b[1;31mTypeError\u001b[0m                                 Traceback (most recent call last)",
      "\u001b[1;32m<ipython-input-28-319fb31db7eb>\u001b[0m in \u001b[0;36m<module>\u001b[1;34m()\u001b[0m\n\u001b[0;32m     16\u001b[0m                 \u001b[1;32mbreak\u001b[0m\u001b[1;33m\u001b[0m\u001b[0m\n\u001b[0;32m     17\u001b[0m \u001b[1;33m\u001b[0m\u001b[0m\n\u001b[1;32m---> 18\u001b[1;33m             \u001b[0mmotorcycle\u001b[0m \u001b[1;33m=\u001b[0m \u001b[0mMotorcycle\u001b[0m\u001b[1;33m(\u001b[0m\u001b[0msoup\u001b[0m\u001b[1;33m)\u001b[0m\u001b[1;33m\u001b[0m\u001b[0m\n\u001b[0m\u001b[0;32m     19\u001b[0m             \u001b[1;32mif\u001b[0m \u001b[1;33m(\u001b[0m\u001b[0mmotorcycle\u001b[0m\u001b[1;33m.\u001b[0m\u001b[0mparse_information\u001b[0m\u001b[1;33m(\u001b[0m\u001b[1;33m)\u001b[0m \u001b[1;32mis\u001b[0m \u001b[1;32mnot\u001b[0m \u001b[1;32mNone\u001b[0m\u001b[1;33m)\u001b[0m\u001b[1;33m:\u001b[0m\u001b[1;33m\u001b[0m\u001b[0m\n\u001b[0;32m     20\u001b[0m                 \u001b[0mprint\u001b[0m\u001b[1;33m(\u001b[0m\u001b[0mmotorcycle\u001b[0m\u001b[1;33m,\u001b[0m \u001b[0mfile\u001b[0m\u001b[1;33m=\u001b[0m\u001b[0mmotorcycle_file\u001b[0m\u001b[1;33m)\u001b[0m\u001b[1;33m\u001b[0m\u001b[0m\n",
      "\u001b[1;32m<ipython-input-15-d279c3f74485>\u001b[0m in \u001b[0;36m__init__\u001b[1;34m(self, soup_motorcycle, index)\u001b[0m\n\u001b[0;32m      7\u001b[0m             \u001b[0mself\u001b[0m\u001b[1;33m.\u001b[0m\u001b[0mindex\u001b[0m \u001b[1;33m=\u001b[0m \u001b[0mindex\u001b[0m\u001b[1;33m\u001b[0m\u001b[0m\n\u001b[0;32m      8\u001b[0m \u001b[1;33m\u001b[0m\u001b[0m\n\u001b[1;32m----> 9\u001b[1;33m         \u001b[0mself\u001b[0m\u001b[1;33m.\u001b[0m\u001b[0mwarning_string_\u001b[0m \u001b[1;33m=\u001b[0m \u001b[1;34m\"Index: \"\u001b[0m \u001b[1;33m+\u001b[0m \u001b[0mself\u001b[0m\u001b[1;33m.\u001b[0m\u001b[0mindex\u001b[0m \u001b[1;33m+\u001b[0m \u001b[1;34m\"; Warning: \"\u001b[0m\u001b[1;33m\u001b[0m\u001b[0m\n\u001b[0m\u001b[0;32m     10\u001b[0m \u001b[1;33m\u001b[0m\u001b[0m\n\u001b[0;32m     11\u001b[0m     \u001b[1;32mdef\u001b[0m \u001b[0mwarning_\u001b[0m\u001b[1;33m(\u001b[0m\u001b[0mself\u001b[0m\u001b[1;33m,\u001b[0m \u001b[0mstring\u001b[0m\u001b[1;33m)\u001b[0m\u001b[1;33m:\u001b[0m\u001b[1;33m\u001b[0m\u001b[0m\n",
      "\u001b[1;31mTypeError\u001b[0m: must be str, not int"
     ]
    }
   ],
   "source": [
    "with open('data/current_parce_link.txt', 'r') as file:\n",
    "    current_parce_link = int(file.readline())\n",
    "\n",
    "with open('data/links.txt', 'r') as links_file:\n",
    "    with open('data/motorcycles.txt', 'a') as motorcycle_file:\n",
    "        for i, link in enumerate(links_file):\n",
    "            if (i < current_parce_link):\n",
    "                continue\n",
    "\n",
    "            link = link[link.find('h'):]\n",
    "        \n",
    "            soup = get_motorcycle_soup(link, proxies, True)\n",
    "            if (soup is None):\n",
    "                print(\"Error while getting motorcycle information\")\n",
    "                print(\"Link: \" + str(current_parce_link))\n",
    "                break\n",
    "\n",
    "            motorcycle = Motorcycle(soup, current_parce_link)\n",
    "            if (motorcycle.parse_information() is not None):\n",
    "                print(motorcycle, file=motorcycle_file)\n",
    "            else:\n",
    "                print(\"Error while parsing motorcycle information\")\n",
    "                print(\"Link: \" + str(current_parce_link))\n",
    "                \n",
    "            current_parce_link += 1\n",
    "            \n",
    "with open('data/current_parce_link.txt', 'w') as f_output:\n",
    "    print(current_parce_link, file=f_output)"
   ]
  },
  {
   "cell_type": "code",
   "execution_count": null,
   "metadata": {},
   "outputs": [],
   "source": []
  },
  {
   "cell_type": "code",
   "execution_count": null,
   "metadata": {},
   "outputs": [],
   "source": []
  },
  {
   "cell_type": "markdown",
   "metadata": {},
   "source": [
    "Все, что ниже - черновик, для того, чтобы что то отдельное потестить\n",
    "\n",
    "Если банит, то можно скачать один раз в отдельной ячейке, и потом просто по ней делать (чтобы не перекачивать)"
   ]
  },
  {
   "cell_type": "code",
   "execution_count": null,
   "metadata": {},
   "outputs": [],
   "source": []
  },
  {
   "cell_type": "code",
   "execution_count": null,
   "metadata": {},
   "outputs": [],
   "source": []
  },
  {
   "cell_type": "code",
   "execution_count": null,
   "metadata": {},
   "outputs": [],
   "source": []
  }
 ],
 "metadata": {
  "kernelspec": {
   "display_name": "Python 3",
   "language": "python",
   "name": "python3"
  },
  "language_info": {
   "codemirror_mode": {
    "name": "ipython",
    "version": 3
   },
   "file_extension": ".py",
   "mimetype": "text/x-python",
   "name": "python",
   "nbconvert_exporter": "python",
   "pygments_lexer": "ipython3",
   "version": "3.6.5"
  }
 },
 "nbformat": 4,
 "nbformat_minor": 2
}
