{
 "cells": [
  {
   "cell_type": "markdown",
   "metadata": {},
   "source": [
    "Здесь будет производится скачивание и парсинг данных с сайта auto.ru"
   ]
  },
  {
   "cell_type": "markdown",
   "metadata": {},
   "source": [
    "Задача: Оценка рыночной стоимости мотоцикла с пробегом \n",
    "\n",
    "Данные: https://moto.drom.ru/moskva/sale/ \n",
    "\n",
    "Целевая переменная: цена в рублях (!)\n",
    "\n",
    "Признаки: \n",
    "1. Фирма изготовитель (!)\n",
    "2. Пробег (!)\n",
    "3. Класс \n",
    "4. Год выпуска \n",
    "5. Объем двигателя \n",
    "6. Число тактов \n",
    "7. Состояние \n",
    "8. Документы\n",
    "9. Город \n",
    "10. Дата публикации объявления "
   ]
  },
  {
   "cell_type": "markdown",
   "metadata": {},
   "source": [
    "Как они будут называться в таблице, разделитель ',': \n",
    "\n",
    "0. price\n",
    "1. manufacturer\n",
    "2. mileage \n",
    "3. motorcycle_class\n",
    "4. year \n",
    "5. engine_capacity\n",
    "6. engine_strokes \n",
    "7. damaged (1 если требует ремонта, 0 если нет)\n",
    "8. documents\n",
    "9. city\n",
    "10. date "
   ]
  },
  {
   "cell_type": "markdown",
   "metadata": {},
   "source": [
    "Алгоритм:\n",
    "1. Скачать все страницы (есть номер страницы, если забанят - знаю, откуда продолжить)\n",
    "2. Получить из них список ссылкок (просто парсинг)\n",
    "3. Потом идти по каждой ссылке (есть номер ссылки, если забанят - знаю, откуда продолжить)"
   ]
  },
  {
   "cell_type": "markdown",
   "metadata": {},
   "source": [
    "<b>Импорт библиотек</b>"
   ]
  },
  {
   "cell_type": "code",
   "execution_count": 2,
   "metadata": {},
   "outputs": [],
   "source": [
    "import numpy as np\n",
    "import pandas as pd\n",
    "import requests\n",
    "import time\n",
    "from bs4 import BeautifulSoup\n",
    "from fake_useragent import UserAgent"
   ]
  },
  {
   "cell_type": "markdown",
   "metadata": {},
   "source": [
    "<b>Класс, описывающий мотоцикл</b>"
   ]
  },
  {
   "cell_type": "code",
   "execution_count": 50,
   "metadata": {},
   "outputs": [],
   "source": [
    "class Motorcycle:\n",
    "    def __init__(self, soup_motorcycle, index=None):\n",
    "        self.soup = soup_motorcycle\n",
    "        if (index is None):\n",
    "            self.index = 0\n",
    "        else:\n",
    "            self.index = index\n",
    "            \n",
    "        self.warning_string_ = \"Index: \" + str(self.index) + \"; Warning: \"\n",
    "        \n",
    "    def warning_(self, string):\n",
    "        print(self.warning_string_ + string)\n",
    "        \n",
    "    def parse_information(self):\n",
    "        self.price = self.get_price()\n",
    "        if (self.price is None):\n",
    "            self.warning_('price not found')\n",
    "            return False\n",
    "        \n",
    "        self.manufacturer = self.get_manufacturer()\n",
    "        if (self.manufacturer is None):\n",
    "            self.warning_('manufacturer not found')\n",
    "            return False\n",
    "        \n",
    "        self.mileage = self.get_mileage()\n",
    "        if (self.mileage is None):\n",
    "            self.warning_('mileage not found')\n",
    "            return False\n",
    "        \n",
    "        self.year = self.get_year()\n",
    "        \n",
    "        # аналогично дописать для всех фичей\n",
    "        # проверка на None в этой функции для других фичей не нужна \n",
    "        # (я выделил самые главные)\n",
    "        # \n",
    "        return True\n",
    "    \n",
    "        \n",
    "    def get_price(self):\n",
    "        price = self.soup.select_one('span.viewbull-summary-price__value')\n",
    "        if (price is not None):\n",
    "            price = price.text.strip().replace(' ', '')\n",
    "        else:\n",
    "            price = None\n",
    "        return price\n",
    "    \n",
    "    \n",
    "    def get_manufacturer(self):\n",
    "        manufacturer = self.soup.findAll(attrs={\"data-field\" : \"model\"})\n",
    "        if (len(manufacturer) > 0):\n",
    "            manufacturer = manufacturer[0].text.split(' ')[0].strip().replace(' ', '')\n",
    "        else:\n",
    "            manufacturer = None\n",
    "        return manufacturer\n",
    "    \n",
    "    def get_mileage(self):\n",
    "        mileage = self.soup.findAll(attrs={\"data-field\" : \"motoMileage\"})\n",
    "        if (len(mileage) > 0):\n",
    "            mileage = mileage[0].text.strip().replace(' ', '')\n",
    "        else:\n",
    "            mileage = None\n",
    "        return mileage\n",
    "    \n",
    "    def get_year(self):\n",
    "        year = self.soup.findAll(attrs={\"data-field\" : \"year\"})\n",
    "        if (len(year) > 0):\n",
    "            year = year[0].text.strip().replace(' ', '')\n",
    "        else:\n",
    "            year = None\n",
    "        return year\n",
    "    \n",
    "    def __repr__(self):\n",
    "         return \"Motorcycle class\"\n",
    "        \n",
    "    def __str__(self):\n",
    "        string = str(self.price) + ',' + str(self.manufacturer) + ',' + \\\n",
    "                    str(self.mileage) + ',' + str(self.year)\n",
    "        return string"
   ]
  },
  {
   "cell_type": "markdown",
   "metadata": {},
   "source": [
    "<b>Информация по подключению</b>"
   ]
  },
  {
   "cell_type": "code",
   "execution_count": 28,
   "metadata": {},
   "outputs": [],
   "source": [
    "url_template = 'https://moto.drom.ru'\n",
    "url_list = url_template + '/moskva/sale/?page='"
   ]
  },
  {
   "cell_type": "code",
   "execution_count": 5,
   "metadata": {},
   "outputs": [],
   "source": [
    "# Выбрать нужное\n",
    "# Сайт с прокси: http://spys.one/proxys/RU/\n",
    "\n",
    "proxies = None\n",
    "#proxies = { 'https': '5.53.19.82:56907' }"
   ]
  },
  {
   "cell_type": "code",
   "execution_count": 6,
   "metadata": {},
   "outputs": [],
   "source": [
    "#user_agent = UserAgent()\n",
    "#user_agent.update()\n",
    "#headers = {'User-Agent': user_agent.chrome}\n",
    "\n",
    "headers = {'User-Agent':'Mozilla/5.0 (Windows NT 10.0; Win64; x64) AppleWebKit/537.36 (KHTML, like Gecko) Chrome/70.0.3538.102 Safari/537.36'}"
   ]
  },
  {
   "cell_type": "markdown",
   "metadata": {},
   "source": [
    "<b>Вспомогательные функции для подключения</b>"
   ]
  },
  {
   "cell_type": "code",
   "execution_count": 7,
   "metadata": {},
   "outputs": [],
   "source": [
    "def is_banned(soup):\n",
    "    title = soup.select_one('h1.title')\n",
    "    if (title is not None):\n",
    "        if (title.text == 'ой…'):\n",
    "            #print(soup)\n",
    "            return True\n",
    "    else:\n",
    "        return False"
   ]
  },
  {
   "cell_type": "code",
   "execution_count": 8,
   "metadata": {},
   "outputs": [],
   "source": [
    "def is_page_found(soup):\n",
    "    title = soup.select_one('div.page-title')\n",
    "    if (title is not None):\n",
    "        if (title.text == 'Страница не найдена'):\n",
    "            return False\n",
    "    else:\n",
    "        return True"
   ]
  },
  {
   "cell_type": "code",
   "execution_count": 25,
   "metadata": {},
   "outputs": [],
   "source": [
    "def get_links(url_page, proxies=None, headers=None, sleep=False, sleep_seconds=8):\n",
    "    html_page = requests.get(url_page, proxies=proxies, headers=headers).content\n",
    "    soup = BeautifulSoup(html_page, 'html.parser')\n",
    "    \n",
    "#     if (is_banned(soup)):\n",
    "#         print(\"BANNED\")\n",
    "#         return None\n",
    "    \n",
    "#     if (not is_page_found(soup)):\n",
    "#         print(\"Page not found\")\n",
    "#         return None\n",
    "    \n",
    "    if (sleep):\n",
    "        time.sleep(np.random.randint(sleep_seconds))\n",
    "          \n",
    "    return soup.select('.bulletinLink')"
   ]
  },
  {
   "cell_type": "code",
   "execution_count": 10,
   "metadata": {},
   "outputs": [],
   "source": [
    "def get_motorcycle_soup(url_motorcycle, proxies=None, headers=None, sleep=False, sleep_seconds=8):\n",
    "    html_motorcycle = requests.get(url_motorcycle, proxies=proxies, headers=headers).content\n",
    "    soup_motorcycle = BeautifulSoup(html_motorcycle, 'html.parser')\n",
    "        \n",
    "#     if (is_banned(soup_motorcycle)):\n",
    "#         print(\"BANNED\")\n",
    "#         return None\n",
    "    \n",
    "#     if (not is_page_found(soup_motorcycle)):\n",
    "#         print(\"Page not found\")\n",
    "#         return None\n",
    "    \n",
    "    if (sleep):\n",
    "        time.sleep(np.random.randint(sleep_seconds))\n",
    "        \n",
    "    return soup_motorcycle"
   ]
  },
  {
   "cell_type": "markdown",
   "metadata": {},
   "source": [
    "<b>Создание списка ссылок</b>"
   ]
  },
  {
   "cell_type": "code",
   "execution_count": 29,
   "metadata": {},
   "outputs": [],
   "source": [
    "if (False): # чтобы не запускалось при нажатии Run all\n",
    "    last_page = 11\n",
    "\n",
    "    with open('data/current_page.txt', 'r') as file:\n",
    "        current_page = int(file.readline())\n",
    "        current_link = int(file.readline())\n",
    "\n",
    "    with open('data/links.txt', 'a') as f_output:\n",
    "        for page in range(current_page, last_page+1):\n",
    "            links = get_links(url_list + str(page), proxies, headers, True)\n",
    "\n",
    "            if (links is None):\n",
    "                print(\"Error while getting motorcycle links\")\n",
    "                current_page = page\n",
    "                print(\"Page: \" + str(current_page))\n",
    "                print(\"Link: \" + str(current_link))\n",
    "                break\n",
    "\n",
    "            for link in links:\n",
    "                print(str(current_link) + '. ' + url_template + link['href'], file=f_output)\n",
    "                current_link += 1\n",
    "\n",
    "            current_page = page + 1\n",
    "\n",
    "    with open('data/current_page.txt', 'w') as f_output:\n",
    "        print(current_page, file=f_output)\n",
    "        print(current_link, file=f_output)"
   ]
  },
  {
   "cell_type": "markdown",
   "metadata": {},
   "source": [
    "<b>Основной цикл (не работает пока)</b>"
   ]
  },
  {
   "cell_type": "code",
   "execution_count": 12,
   "metadata": {},
   "outputs": [],
   "source": [
    "if (False): # чтобы не запускалось при нажатии Run all\n",
    "\n",
    "    with open('data/current_parce_link.txt', 'r') as file:\n",
    "        current_parce_link = int(file.readline())\n",
    "\n",
    "    with open('data/links.txt', 'r') as links_file:\n",
    "        with open('data/motorcycles.txt', 'a') as motorcycle_file:\n",
    "            for i, link in enumerate(links_file):\n",
    "                if (i < current_parce_link):\n",
    "                    continue\n",
    "\n",
    "                link = link[link.find('h'):]\n",
    "\n",
    "                soup = get_motorcycle_soup(link, proxies, headers, True)\n",
    "                if (soup is None):\n",
    "                    print(\"Error while getting motorcycle information\")\n",
    "                    print(\"Link: \" + str(current_parce_link))\n",
    "                    break\n",
    "\n",
    "                motorcycle = Motorcycle(soup, current_parce_link)\n",
    "                if (motorcycle.parse_information()):\n",
    "                    print(motorcycle, file=motorcycle_file)\n",
    "                else:\n",
    "                    print(\"Error while parsing motorcycle information\")\n",
    "                    print(\"Link: \" + str(current_parce_link))\n",
    "\n",
    "                current_parce_link += 1\n",
    "\n",
    "    with open('data/current_parce_link.txt', 'w') as f_output:\n",
    "        print(current_parce_link, file=f_output)"
   ]
  },
  {
   "cell_type": "code",
   "execution_count": null,
   "metadata": {},
   "outputs": [],
   "source": []
  },
  {
   "cell_type": "code",
   "execution_count": null,
   "metadata": {},
   "outputs": [],
   "source": []
  },
  {
   "cell_type": "markdown",
   "metadata": {},
   "source": [
    "Все, что ниже - черновик, для того, чтобы что то отдельное потестить\n",
    "\n",
    "Если банит, то можно скачать один раз в отдельной ячейке, и потом просто по ней делать (чтобы не перекачивать)"
   ]
  },
  {
   "cell_type": "code",
   "execution_count": 46,
   "metadata": {
    "scrolled": true
   },
   "outputs": [
    {
     "name": "stdout",
     "output_type": "stream",
     "text": [
      "Link: https://moto.drom.ru/moskva/sale/honda-cb1100-68192572.html\n",
      "\n"
     ]
    }
   ],
   "source": [
    "number_of_link = 3\n",
    "with open('data/links.txt', 'r') as links_file:\n",
    "    for i in range(number_of_link):\n",
    "        link = links_file.readline()\n",
    "        \n",
    "    link = link[link.find('h'):]\n",
    "    print(\"Link: \" + link)\n",
    "    \n",
    "    soup = get_motorcycle_soup(str(link), proxies, headers)"
   ]
  },
  {
   "cell_type": "markdown",
   "metadata": {},
   "source": [
    "Ячейка выше - один раз запустили, скачали\n",
    "\n",
    "Теперь тестируем парсинг снизу"
   ]
  },
  {
   "cell_type": "code",
   "execution_count": 49,
   "metadata": {},
   "outputs": [
    {
     "name": "stdout",
     "output_type": "stream",
     "text": [
      "665000₽,Honda,17000 км,2016\n"
     ]
    }
   ],
   "source": [
    "motorcycle = Motorcycle(soup)\n",
    "\n",
    "if (motorcycle.parse_information()):\n",
    "    print(motorcycle)"
   ]
  },
  {
   "cell_type": "code",
   "execution_count": null,
   "metadata": {},
   "outputs": [],
   "source": []
  },
  {
   "cell_type": "code",
   "execution_count": null,
   "metadata": {},
   "outputs": [],
   "source": []
  }
 ],
 "metadata": {
  "kernelspec": {
   "display_name": "Python 3",
   "language": "python",
   "name": "python3"
  },
  "language_info": {
   "codemirror_mode": {
    "name": "ipython",
    "version": 3
   },
   "file_extension": ".py",
   "mimetype": "text/x-python",
   "name": "python",
   "nbconvert_exporter": "python",
   "pygments_lexer": "ipython3",
   "version": "3.6.5"
  }
 },
 "nbformat": 4,
 "nbformat_minor": 2
}
