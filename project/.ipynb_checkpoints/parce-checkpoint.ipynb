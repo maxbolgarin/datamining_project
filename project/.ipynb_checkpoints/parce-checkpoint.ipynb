{
 "cells": [
  {
   "cell_type": "markdown",
   "metadata": {},
   "source": [
    "<h1>Парсинг данных</h1>"
   ]
  },
  {
   "cell_type": "markdown",
   "metadata": {},
   "source": [
    "Задача: Оценка рыночной стоимости мотоцикла с пробегом \n",
    "\n",
    "Сайт с данными: https://moto.drom.ru/ \n",
    "\n",
    "Целевая переменная: цена в рублях\n",
    "\n",
    "Признаки: \n",
    "1. Модель мотоцикла\n",
    "2. Пробег\n",
    "3. Класс \n",
    "4. Год выпуска \n",
    "5. Объем двигателя \n",
    "6. Число тактов \n",
    "7. Состояние \n",
    "8. Документы\n",
    "9. Город \n",
    "10. Дата публикации объявления "
   ]
  },
  {
   "cell_type": "markdown",
   "metadata": {},
   "source": [
    "Как они будут называться в таблице, разделитель ',': \n",
    "\n",
    "target: price\n",
    "\n",
    "1. model\n",
    "2. mileage \n",
    "3. motorcycle_class\n",
    "4. year \n",
    "5. engine_capacity\n",
    "6. engine_strokes \n",
    "7. damaged\n",
    "8. documents\n",
    "9. city\n",
    "10. date "
   ]
  },
  {
   "cell_type": "markdown",
   "metadata": {},
   "source": [
    "Алгоритм:\n",
    "1. Скачать все страницы (есть номер страницы, если забанят - знаю, откуда продолжить)\n",
    "2. Получить из них список ссылкок (просто парсинг)\n",
    "3. Потом идти по каждой ссылке (есть номер ссылки, если забанят - знаю, откуда продолжить)"
   ]
  },
  {
   "cell_type": "markdown",
   "metadata": {},
   "source": [
    "<b>Импорт библиотек</b>"
   ]
  },
  {
   "cell_type": "code",
   "execution_count": 1,
   "metadata": {},
   "outputs": [],
   "source": [
    "import numpy as np\n",
    "import pandas as pd\n",
    "import requests\n",
    "import time\n",
    "from bs4 import BeautifulSoup"
   ]
  },
  {
   "cell_type": "markdown",
   "metadata": {},
   "source": [
    "<b>Класс, описывающий мотоцикл</b>"
   ]
  },
  {
   "cell_type": "code",
   "execution_count": 2,
   "metadata": {},
   "outputs": [],
   "source": [
    "class Motorcycle:\n",
    "    def __init__(self, soup_motorcycle, index=None):\n",
    "        self.soup = soup_motorcycle\n",
    "        if (index is None):\n",
    "            self.index = 0\n",
    "        else:\n",
    "            self.index = index\n",
    "            \n",
    "        self.warning_string_ = \"Index: \" + str(self.index) + \"; Warning: \"\n",
    "        \n",
    "    def warning_(self, string):\n",
    "        print(self.warning_string_ + string)\n",
    "        \n",
    "    def parse_information(self):\n",
    "        self.price = self.get_price()\n",
    "        if (self.price is None):\n",
    "            self.warning_('price not found')\n",
    "            return False\n",
    "        \n",
    "        self.model = self.get_feature({\"data-field\" : \"model\"})\n",
    "        self.mileage = self.get_feature({\"data-field\" : \"motoMileage\"})\n",
    "        self.motorcycle_class = self.get_feature({\"data-field\" : \"motoBodyType\"})\n",
    "        self.year = self.get_feature({\"data-field\" : \"year\"})\n",
    "        self.engine_capacity = self.get_feature({\"data-field\" : \"displacement\"})\n",
    "        self.engine_strokes = self.get_feature({\"data-field\" : \"motoEngineType\"})\n",
    "        self.damaged = self.get_feature({\"data-field\" : \"motoDriveCondition\"})\n",
    "        self.documents = self.get_feature({\"data-field\" : \"hasDocuments\"})\n",
    "        self.city = self.get_feature({\"title\" : \"Выбранный город\"})\n",
    "        \n",
    "        self.date = self.get_feature({\"class\" : \"viewbull-header__actuality\"})\n",
    "        comma_index = self.date.find(',')\n",
    "        if (comma_index != -1):\n",
    "            self.date = self.date[comma_index+2:]\n",
    "            \n",
    "        return True\n",
    "        \n",
    "    def get_price(self):\n",
    "        price = self.soup.select_one('span.viewbull-summary-price__value')\n",
    "        if (price is not None):\n",
    "            price = price.text.strip()\n",
    "        else:\n",
    "            price = None\n",
    "        return price\n",
    "    \n",
    "    def get_feature(self, attrs):\n",
    "        feature = self.soup.findAll(attrs=attrs)\n",
    "        if (len(feature) > 0):\n",
    "            feature = feature[0].text.strip()\n",
    "        else:\n",
    "            feature = None\n",
    "        return feature\n",
    "\n",
    "    def __repr__(self):\n",
    "         return \"Motorcycle class\"\n",
    "        \n",
    "    def __str__(self):\n",
    "        string = str(self.index) + ',' + str(self.price) + ',' + str(self.model) + ',' + \\\n",
    "                    str(self.mileage) + ',' + str(self.motorcycle_class) + ',' + \\\n",
    "                    str(self.year) + ',' + str(self.engine_capacity) + ',' + \\\n",
    "                    str(self.engine_strokes) + ',' + str(self.damaged) + ',' + \\\n",
    "                    str(self.documents) + ',' + str(self.city) + ',' + str(self.date)\n",
    "        return string"
   ]
  },
  {
   "cell_type": "markdown",
   "metadata": {},
   "source": [
    "<b>Информация по подключению</b>"
   ]
  },
  {
   "cell_type": "code",
   "execution_count": 3,
   "metadata": {},
   "outputs": [],
   "source": [
    "url_template = 'https://moto.drom.ru'\n",
    "url_list = url_template + '/moskva/sale/?status=archive&page='"
   ]
  },
  {
   "cell_type": "code",
   "execution_count": 4,
   "metadata": {},
   "outputs": [],
   "source": [
    "# Сайт с прокси: http://spys.one/proxys/RU/\n",
    "\n",
    "headers = None\n",
    "proxies = None\n",
    "#proxies = { 'https': '5.53.19.82:56907' }"
   ]
  },
  {
   "cell_type": "markdown",
   "metadata": {},
   "source": [
    "<b>Вспомогательные функции для подключения</b>"
   ]
  },
  {
   "cell_type": "code",
   "execution_count": 5,
   "metadata": {},
   "outputs": [],
   "source": [
    "def get_links(url_page, proxies=None, headers=None, sleep=False, sleep_seconds=5):\n",
    "    html_page = requests.get(url_page, proxies=proxies, headers=headers).content\n",
    "    soup = BeautifulSoup(html_page, 'html.parser')\n",
    "\n",
    "    if (sleep):\n",
    "        time.sleep(np.random.randint(sleep_seconds))\n",
    "          \n",
    "    return soup.select('.bulletinLink')"
   ]
  },
  {
   "cell_type": "code",
   "execution_count": 6,
   "metadata": {},
   "outputs": [],
   "source": [
    "def get_motorcycle_soup(url_motorcycle, proxies=None, headers=None, sleep=False, sleep_seconds=5):\n",
    "    html_motorcycle = requests.get(url_motorcycle, proxies=proxies, headers=headers).content\n",
    "    soup_motorcycle = BeautifulSoup(html_motorcycle, 'html.parser')\n",
    "\n",
    "    if (sleep):\n",
    "        time.sleep(np.random.randint(sleep_seconds))\n",
    "        \n",
    "    return soup_motorcycle"
   ]
  },
  {
   "cell_type": "markdown",
   "metadata": {},
   "source": [
    "<b>Создание списка ссылок</b>"
   ]
  },
  {
   "cell_type": "code",
   "execution_count": 7,
   "metadata": {},
   "outputs": [],
   "source": [
    "current_page = 1\n",
    "last_page = 142\n",
    "current_link = 1\n",
    "\n",
    "with open('data/links.txt', 'a') as f_output:\n",
    "    for page in range(current_page, last_page+1):\n",
    "        links = get_links(url_list + str(page), proxies, headers)\n",
    "\n",
    "        if (links is None):\n",
    "            print(\"Error while getting motorcycle links\")\n",
    "            print(\"Page: \" + str(page))\n",
    "            print(\"Link: \" + str(current_link))\n",
    "            break\n",
    "\n",
    "        for link in links:\n",
    "            print(str(current_link) + '. ' + url_template + link['href'], file=f_output)\n",
    "            current_link += 1"
   ]
  },
  {
   "cell_type": "markdown",
   "metadata": {},
   "source": [
    "<b>Парсинг страниц с мотоциклами</b>"
   ]
  },
  {
   "cell_type": "code",
   "execution_count": 9,
   "metadata": {},
   "outputs": [
    {
     "name": "stdout",
     "output_type": "stream",
     "text": [
      "Index: 94; Warning: price not found\n",
      "Error while parsing motorcycle information\n",
      "Link: https://moto.drom.ru/moskva/sale/prodam-honda-cbr929-66695315.html\n",
      "\n",
      "Index: 100; Warning: price not found\n",
      "Error while parsing motorcycle information\n",
      "Link: https://moto.drom.ru/moskva/sale/prodaju-ktm-690-duke-2012-g-v-66639732.html\n",
      "\n",
      "Index: 165; Warning: price not found\n",
      "Error while parsing motorcycle information\n",
      "Link: https://moto.drom.ru/moskva/sale/honda-cbr600f-66032691.html\n",
      "\n",
      "Index: 241; Warning: price not found\n",
      "Error while parsing motorcycle information\n",
      "Link: https://moto.drom.ru/moskva/sale/prodam-motocikl-ural-s-koljaskoj-8.103-10-65426129.html\n",
      "\n",
      "Index: 376; Warning: price not found\n",
      "Error while parsing motorcycle information\n",
      "Link: https://moto.drom.ru/moskva/sale/elektricheskij-motocikl-2000-3000w-kawasaki-devil-64336390.html\n",
      "\n",
      "Index: 397; Warning: price not found\n",
      "Error while parsing motorcycle information\n",
      "Link: https://moto.drom.ru/moskva/sale/motocikl-minsk-d4-125-63260830.html\n",
      "\n",
      "Index: 848; Warning: price not found\n",
      "Error while parsing motorcycle information\n",
      "Link: https://moto.drom.ru/moskva/sale/elektromotocikl-ot-60.000-rub-zapas-hoda-do-180-km-na-1-zarjadke-55207466.html\n",
      "\n",
      "Index: 935; Warning: price not found\n",
      "Error while parsing motorcycle information\n",
      "Link: https://moto.drom.ru/moskva/sale/aprilia-rxv-4.5-46883960.html\n",
      "\n",
      "Index: 1143; Warning: price not found\n",
      "Error while parsing motorcycle information\n",
      "Link: https://moto.drom.ru/moskva/sale/prodam-motocikl-suzuki-boulevard-1.8-55785088.html\n",
      "\n",
      "Index: 1547; Warning: price not found\n",
      "Error while parsing motorcycle information\n",
      "Link: https://moto.drom.ru/moskva/sale/prodaetsja-f700gs-54276854.html\n",
      "\n",
      "Index: 1912; Warning: price not found\n",
      "Error while parsing motorcycle information\n",
      "Link: https://moto.drom.ru/moskva/sale/prodaju-kawasaki-zzr-400-2.1998-g-53894581.html\n",
      "\n",
      "Index: 2142; Warning: price not found\n",
      "Error while parsing motorcycle information\n",
      "Link: https://moto.drom.ru/moskva/sale/mini-motocikl-polini-4.2-53580709.html\n",
      "\n",
      "Index: 2516; Warning: price not found\n",
      "Error while parsing motorcycle information\n",
      "Link: https://moto.drom.ru/moskva/sale/aprilia-moto-6.5-49600234.html\n",
      "\n",
      "Index: 2571; Warning: price not found\n",
      "Error while parsing motorcycle information\n",
      "Link: https://moto.drom.ru/moskva/sale/hvatit-tratit-vremja-v-poiskah-motocikla-pora-doverjat-professionalam-48963399.html\n",
      "\n",
      "Index: 2973; Warning: price not found\n",
      "Error while parsing motorcycle information\n",
      "Link: https://moto.drom.ru/moskva/sale/motocikl-cbr-1000-rr-47432723.html\n",
      "\n",
      "Index: 3122; Warning: price not found\n",
      "Error while parsing motorcycle information\n",
      "Link: https://moto.drom.ru/moskva/sale/prodam-ural-8.103-10-1991-g-46522481.html\n",
      "\n",
      "Index: 3250; Warning: price not found\n",
      "Error while parsing motorcycle information\n",
      "Link: https://moto.drom.ru/moskva/sale/prodam-ural-8.103-10-46067455.html\n",
      "\n",
      "Index: 3642; Warning: price not found\n",
      "Error while parsing motorcycle information\n",
      "Link: https://moto.drom.ru/moskva/sale/motocikly-s-aukcionov-japonii-moskva-43789712.html\n",
      "\n",
      "Index: 3743; Warning: price not found\n",
      "Error while parsing motorcycle information\n",
      "Link: https://moto.drom.ru/moskva/sale/motocikl-na-zapchasti-bmw-s-1000-rr-2009-2013-43528905.html\n",
      "\n",
      "Index: 3839; Warning: price not found\n",
      "Error while parsing motorcycle information\n",
      "Link: https://moto.drom.ru/moskva/sale/aprilia-sxv-5.5-vdb-replica-43077411.html\n",
      "\n",
      "Index: 3916; Warning: price not found\n",
      "Error while parsing motorcycle information\n",
      "Link: https://moto.drom.ru/moskva/sale/revoljucionnye-tricikly-vse-modeli-v-nalichii-ot-kompanii-trajk-motors-42293290.html\n",
      "\n",
      "Index: 4202; Warning: price not found\n",
      "Error while parsing motorcycle information\n",
      "Link: https://moto.drom.ru/moskva/sale/prodam-motocikl-ural-imz-8.103-10-39656127.html\n",
      "\n",
      "Index: 4556; Warning: price not found\n",
      "Error while parsing motorcycle information\n",
      "Link: https://moto.drom.ru/moskva/sale/sprinter-125-sm3-po-dokumentam-49.9-37251691.html\n",
      "\n",
      "Index: 4963; Warning: price not found\n",
      "Error while parsing motorcycle information\n",
      "Link: https://moto.drom.ru/moskva/sale/srochno-prodam-ili-obmenjaju-novyj-motocikl-motoland-td150-33-pts-chistyj-34498901.html\n",
      "\n",
      "Index: 4975; Warning: price not found\n",
      "Error while parsing motorcycle information\n",
      "Link: https://moto.drom.ru/moskva/sale/prodam-dokumenty-imz-8.103-10-34430032.html\n",
      "\n",
      "Index: 5093; Warning: price not found\n",
      "Error while parsing motorcycle information\n",
      "Link: https://moto.drom.ru/moskva/sale/trajk-2.0-avtomat-115l-s-31483568.html\n",
      "\n",
      "Index: 5148; Warning: price not found\n",
      "Error while parsing motorcycle information\n",
      "Link: https://moto.drom.ru/moskva/sale/trajk-2.0-avtomat-31393511.html\n",
      "\n",
      "Index: 5484; Warning: price not found\n",
      "Error while parsing motorcycle information\n",
      "Link: https://moto.drom.ru/moskva/sale/akcija-ogromnyj-vybor-motociklov-v-nalichii-s-aukcionov-ssha-i-japonii-28403788.html\n",
      "\n",
      "Index: 6126; Warning: price not found\n",
      "Error while parsing motorcycle information\n",
      "Link: https://moto.drom.ru/moskva/sale/prodam-motocikl-yamaha-yz-250-21869861.html\n",
      "\n",
      "Index: 6275; Warning: price not found\n",
      "Error while parsing motorcycle information\n",
      "Link: https://moto.drom.ru/moskva/sale/motocikly-iz-japonii-prjamye-postavki-bolshoj-vybor-nizkie-ceny-20889117.html\n",
      "\n",
      "Index: 6428; Warning: price not found\n",
      "Error while parsing motorcycle information\n",
      "Link: https://moto.drom.ru/moskva/sale/java-350.634-1976g-v-6v-otrestavrirovannyj-motocikl-dokumenty-17991481.html\n",
      "\n",
      "Index: 7037; Warning: price not found\n",
      "Error while parsing motorcycle information\n",
      "Link: https://moto.drom.ru/sale/suzuki-b-king-1.3-184-l-s-5330574.html\n",
      "\n"
     ]
    }
   ],
   "source": [
    "features = \"id,price,model,mileage,motorcycle_class,year,engine_capacity,engine_strokes,damaged,documents,city,date\"\n",
    "\n",
    "with open('data/links.txt', 'r') as links_file:\n",
    "    with open('data/motorcycles.csv', 'a', encoding='utf-8') as motorcycle_file:\n",
    "        print(features, file=motorcycle_file)\n",
    "        for i, link in enumerate(links_file, 1):\n",
    "            link = link[link.find('h'):]\n",
    "            \n",
    "            soup = get_motorcycle_soup(link, proxies, headers, False)\n",
    "            if (soup is None):\n",
    "                print(\"Error while getting motorcycle information\")\n",
    "                print(\"Link: \" + str(link))\n",
    "                break\n",
    "\n",
    "            motorcycle = Motorcycle(soup, i)\n",
    "            if (motorcycle.parse_information()):\n",
    "                print(motorcycle, file=motorcycle_file)\n",
    "            else:\n",
    "                print(\"Error while parsing motorcycle information\")\n",
    "                print(\"Link: \" + str(link))"
   ]
  }
 ],
 "metadata": {
  "kernelspec": {
   "display_name": "Python 3",
   "language": "python",
   "name": "python3"
  },
  "language_info": {
   "codemirror_mode": {
    "name": "ipython",
    "version": 3
   },
   "file_extension": ".py",
   "mimetype": "text/x-python",
   "name": "python",
   "nbconvert_exporter": "python",
   "pygments_lexer": "ipython3",
   "version": "3.6.5"
  }
 },
 "nbformat": 4,
 "nbformat_minor": 2
}
