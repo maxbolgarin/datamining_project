{
 "cells": [
  {
   "cell_type": "markdown",
   "metadata": {},
   "source": [
    "Здесь будет производится скачивание и парсинг данных с сайта auto.ru"
   ]
  },
  {
   "cell_type": "markdown",
   "metadata": {},
   "source": [
    "Задача: Оценка рыночной стоимости мотоцикла с пробегом \n",
    "\n",
    "Данные: https://auto.ru/moskva/mototsikly/all/ \n",
    "Целевая переменная: цена в рублях \n",
    "\n",
    "Признаки: \n",
    "1. Фирма изготовитель \n",
    "2. Пробег \n",
    "3. Тип \n",
    "4. Год выпуска \n",
    "\n",
    "5. Объем двигателя \n",
    "6. Мощность двигателя \n",
    "7. Тип двигателя \n",
    "8. Число цилиндров \n",
    "9. Число тактов \n",
    "10. Число передач \n",
    "11. Тип привода \n",
    "12. Наличие ABS \n",
    "13. Наличие электростартера \n",
    "14. Цвет \n",
    "\n",
    "15. Состояние \n",
    "16. Таможня \n",
    "17. Частное лицо или дилер \n",
    "18. Возможен ли торг \n",
    "19. Расстояние от Москвы \n",
    "\n",
    "Можно попробовать: \n",
    "20. Дата публикации объявления \n",
    "21. Число просмотров объявления \n",
    "22. Число фотографий в объявлении \n",
    "23. Длина комментария продавца"
   ]
  },
  {
   "cell_type": "markdown",
   "metadata": {},
   "source": [
    "Как они будут называться в таблице, разделитель ',': \n",
    "1. manufacturer\n",
    "2. mileage \n",
    "3. motorcycle_type\n",
    "4. year \n",
    "\n",
    "5. engine_capacity\n",
    "6. engine_power\n",
    "7. engine_type \n",
    "8. cylinders \n",
    "9. strokes \n",
    "10. gears \n",
    "11. type_of_drive \n",
    "12. abs\n",
    "13. starter \n",
    "14. color \n",
    "\n",
    "15. damaged (1 если требует ремонта, 0 если нет)\n",
    "16. сustoms (1 - растаможен)\n",
    "17. private (1 - частное лицо) \n",
    "18. bargaining - (1 если возможен торг) \n",
    "19. distance_from_moscow \n",
    " \n",
    "20. date \n",
    "21. visits \n",
    "22. photos \n",
    "23. length_of_comment"
   ]
  },
  {
   "cell_type": "code",
   "execution_count": 147,
   "metadata": {},
   "outputs": [],
   "source": [
    "import numpy as np\n",
    "import pandas as pd\n",
    "import requests\n",
    "from bs4 import BeautifulSoup"
   ]
  },
  {
   "cell_type": "code",
   "execution_count": 148,
   "metadata": {},
   "outputs": [],
   "source": [
    "def is_banned(soup):\n",
    "    if (soup.select('h1.title')[0].text == 'ой…'):\n",
    "        return True\n",
    "    else:\n",
    "        return False"
   ]
  },
  {
   "cell_type": "code",
   "execution_count": 149,
   "metadata": {},
   "outputs": [],
   "source": [
    "class Motorcycle:\n",
    "    def __init__(self, information):\n",
    "        self.manufacturer = information['manufacturer']\n",
    "        self.mileage = information['mileage']\n",
    "        # аналогично дописать для всех фичей"
   ]
  },
  {
   "cell_type": "code",
   "execution_count": 150,
   "metadata": {},
   "outputs": [],
   "source": [
    "url_page_template = '''https://auto.ru/moskva/mototsikly/all/?beaten=1&custom_state_key=CLEARED\n",
    "                    &geo_id=213geo_radius=1000&image=true&sort_offers=cr_date-DESC&top_days=off\n",
    "                    &currency=RUR&output_type=list&page_num_offers='''"
   ]
  },
  {
   "cell_type": "code",
   "execution_count": 151,
   "metadata": {},
   "outputs": [],
   "source": [
    "# Выбрать нужное\n",
    "# Сайт с прокси: http://spys.one/proxys/RU/\n",
    "\n",
    "proxies = None\n",
    "#proxies = { 'https': '212.17.0.130:8080' }"
   ]
  },
  {
   "cell_type": "code",
   "execution_count": 152,
   "metadata": {},
   "outputs": [
    {
     "name": "stdout",
     "output_type": "stream",
     "text": [
      "BANNED\n"
     ]
    }
   ],
   "source": [
    "# Основной цикл\n",
    "\n",
    "number_of_pages = 2\n",
    "\n",
    "list_of_motorcycles = []\n",
    "for page in range(1, number_of_pages+1):\n",
    "    url_page = url_page_template + str(page)\n",
    "    html_page = requests.get(url_page, proxies=proxies).content\n",
    "    soup = BeautifulSoup(html_page, 'html.parser')\n",
    "    \n",
    "    if (is_banned(soup)):\n",
    "        print(\"BANNED\")\n",
    "        break\n",
    "        \n",
    "    links = soup.select('.link.link_theme_auto.listing-item__link.link__control.i-bem')\n",
    "    \n",
    "    for url_motorcycle in links:\n",
    "        html_motorcycle = requests.get(url_motorcycle['href'], proxies=proxies).content\n",
    "        soup_motorcycle = BeautifulSoup(html_motorcycle, 'html.parser')\n",
    "        \n",
    "        if (is_banned(soup_motorcycle)):\n",
    "            print(\"BANNED\")\n",
    "            break\n",
    "    \n",
    "        motorcycle_info = {\n",
    "            'manufacturer': soup_motorcycle.select('.link.link_theme_auto.link__control.i-bem')[5].text,\n",
    "            'mileage': soup_motorcycle.select('dl.card__info > dd.card__info-value.card__info-value_bold')[1].text\n",
    "            # аналогично дописать для всех фичей\n",
    "        }\n",
    "\n",
    "        list_of_motorcycles.append(Motorcycle(motorcycle_info))"
   ]
  },
  {
   "cell_type": "code",
   "execution_count": null,
   "metadata": {},
   "outputs": [],
   "source": []
  },
  {
   "cell_type": "code",
   "execution_count": null,
   "metadata": {},
   "outputs": [],
   "source": []
  },
  {
   "cell_type": "markdown",
   "metadata": {},
   "source": [
    "Все, что ниже - черновик, для того, чтобы что то отдельное потестить\n",
    "\n",
    "Если банит, то можно скачать один раз в отдельной ячейке, и потом просто по ней делать (чтобы не перекачивать)"
   ]
  },
  {
   "cell_type": "code",
   "execution_count": 68,
   "metadata": {},
   "outputs": [],
   "source": [
    "url_page = url_template + str(1)\n",
    "html_page = requests.get(url_page).text\n",
    "soup = BeautifulSoup(html_page, 'html.parser')\n",
    "links = soup.select('.link.link_theme_auto.listing-item__link.link__control.i-bem')"
   ]
  },
  {
   "cell_type": "code",
   "execution_count": 129,
   "metadata": {},
   "outputs": [
    {
     "data": {
      "text/plain": [
       "'https://auto.ru/mototsikly/used/sale/triumph/tiger_explorer/2954912-91cc3699/'"
      ]
     },
     "execution_count": 129,
     "metadata": {},
     "output_type": "execute_result"
    }
   ],
   "source": [
    "links[0]['href']"
   ]
  },
  {
   "cell_type": "code",
   "execution_count": 127,
   "metadata": {},
   "outputs": [],
   "source": [
    "proxies = { 'https': '212.17.0.130:8080' }\n",
    "\n",
    "html_motorcycle = requests.get(links[0]['href'], proxies=proxies).content\n",
    "soup_motorcycle = BeautifulSoup(html_motorcycle, 'html.parser')"
   ]
  },
  {
   "cell_type": "code",
   "execution_count": 130,
   "metadata": {},
   "outputs": [
    {
     "name": "stdout",
     "output_type": "stream",
     "text": [
      "6 000 км\n"
     ]
    }
   ],
   "source": [
    "a = soup_motorcycle.select('dl.card__info > dd.card__info-value.card__info-value_bold')[1].text\n",
    "print(a)"
   ]
  },
  {
   "cell_type": "code",
   "execution_count": 131,
   "metadata": {},
   "outputs": [],
   "source": [
    "motorcycle_info = {\n",
    "    'manufacturer': soup_motorcycle.select('.link.link_theme_auto.link__control.i-bem')[5].text,\n",
    "    'mileage': soup_motorcycle.select('dl.card__info > dd.card__info-value.card__info-value_bold')[1].text\n",
    "}\n",
    "\n",
    "list_of_motorcycles.append(Motorcycle(motorcycle_info))"
   ]
  },
  {
   "cell_type": "code",
   "execution_count": 132,
   "metadata": {},
   "outputs": [
    {
     "data": {
      "text/plain": [
       "[<__main__.Motorcycle at 0x2bc89aa0128>]"
      ]
     },
     "execution_count": 132,
     "metadata": {},
     "output_type": "execute_result"
    }
   ],
   "source": [
    "list_of_motorcycles"
   ]
  },
  {
   "cell_type": "code",
   "execution_count": 58,
   "metadata": {},
   "outputs": [],
   "source": []
  },
  {
   "cell_type": "code",
   "execution_count": 59,
   "metadata": {},
   "outputs": [],
   "source": []
  },
  {
   "cell_type": "code",
   "execution_count": null,
   "metadata": {},
   "outputs": [],
   "source": []
  }
 ],
 "metadata": {
  "kernelspec": {
   "display_name": "Python 3",
   "language": "python",
   "name": "python3"
  },
  "language_info": {
   "codemirror_mode": {
    "name": "ipython",
    "version": 3
   },
   "file_extension": ".py",
   "mimetype": "text/x-python",
   "name": "python",
   "nbconvert_exporter": "python",
   "pygments_lexer": "ipython3",
   "version": "3.6.5"
  }
 },
 "nbformat": 4,
 "nbformat_minor": 2
}
