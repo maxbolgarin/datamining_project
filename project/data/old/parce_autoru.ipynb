{
 "cells": [
  {
   "cell_type": "markdown",
   "metadata": {},
   "source": [
    "Здесь будет производится скачивание и парсинг данных с сайта auto.ru"
   ]
  },
  {
   "cell_type": "markdown",
   "metadata": {},
   "source": [
    "Задача: Оценка рыночной стоимости мотоцикла с пробегом \n",
    "\n",
    "Данные: https://auto.ru/moskva/mototsikly/all/ \n",
    "Целевая переменная: цена в рублях (!)\n",
    "\n",
    "Признаки: \n",
    "1. Фирма изготовитель (!)\n",
    "2. Пробег (!)\n",
    "3. Тип \n",
    "4. Год выпуска \n",
    "\n",
    "5. Объем двигателя \n",
    "6. Мощность двигателя \n",
    "7. Тип двигателя \n",
    "8. Число цилиндров \n",
    "9. Число тактов \n",
    "10. Число передач \n",
    "11. Тип привода \n",
    "12. Наличие ABS \n",
    "13. Наличие электростартера \n",
    "14. Цвет \n",
    "\n",
    "15. Состояние \n",
    "16. Таможня \n",
    "17. Частное лицо или дилер \n",
    "18. Возможен ли торг \n",
    "19. Расстояние от Москвы \n",
    "\n",
    "Можно попробовать: \n",
    "20. Дата публикации объявления \n",
    "21. Число просмотров объявления \n",
    "22. Число фотографий в объявлении \n",
    "23. Длина комментария продавца"
   ]
  },
  {
   "cell_type": "markdown",
   "metadata": {},
   "source": [
    "Как они будут называться в таблице, разделитель ',': \n",
    "\n",
    "0. price\n",
    "\n",
    "1. manufacturer\n",
    "2. mileage \n",
    "3. motorcycle_type\n",
    "4. year \n",
    "\n",
    "5. engine_capacity\n",
    "6. engine_power\n",
    "7. engine_type \n",
    "8. cylinders \n",
    "9. strokes \n",
    "10. gears \n",
    "11. type_of_drive \n",
    "12. abs\n",
    "13. starter \n",
    "14. color \n",
    "\n",
    "15. damaged (1 если требует ремонта, 0 если нет)\n",
    "16. сustoms (1 - растаможен)\n",
    "17. private (1 - частное лицо) \n",
    "18. bargaining - (1 если возможен торг) \n",
    "19. distance_from_moscow \n",
    " \n",
    "20. date \n",
    "21. visits \n",
    "22. photos \n",
    "23. length_of_comment"
   ]
  },
  {
   "cell_type": "markdown",
   "metadata": {},
   "source": [
    "Алгоритм:\n",
    "1. Скачать все страницы (есть номер страницы, если забанят - знаю, откуда продолжить)\n",
    "2. Получить из них список ссылкок (просто парсинг)\n",
    "3. Потом идти по каждой ссылке (есть номер ссылки, если забанят - знаю, откуда продолжить)"
   ]
  },
  {
   "cell_type": "markdown",
   "metadata": {},
   "source": [
    "<b>Импорт библиотек</b>"
   ]
  },
  {
   "cell_type": "code",
   "execution_count": 1,
   "metadata": {},
   "outputs": [],
   "source": [
    "import numpy as np\n",
    "import pandas as pd\n",
    "import requests\n",
    "import time\n",
    "from bs4 import BeautifulSoup\n",
    "from fake_useragent import UserAgent"
   ]
  },
  {
   "cell_type": "markdown",
   "metadata": {},
   "source": [
    "<b>Класс, описывающий мотоцикл</b>"
   ]
  },
  {
   "cell_type": "code",
   "execution_count": 2,
   "metadata": {},
   "outputs": [],
   "source": [
    "class Motorcycle:\n",
    "    def __init__(self, soup_motorcycle, index=None):\n",
    "        self.soup = soup_motorcycle\n",
    "        if (index is None):\n",
    "            self.index = 0\n",
    "        else:\n",
    "            self.index = index\n",
    "            \n",
    "        self.warning_string_ = \"Index: \" + str(self.index) + \"; Warning: \"\n",
    "        \n",
    "    def warning_(self, string):\n",
    "        print(self.warning_string_ + string)\n",
    "        \n",
    "    def parse_information(self):\n",
    "        self.price = self.get_price()\n",
    "        if (self.price is None):\n",
    "            return False\n",
    "        \n",
    "        self.manufacturer = self.get_manufacturer()\n",
    "        if (self.manufacturer is None):\n",
    "            return False\n",
    "        \n",
    "        self.mileage = self.get_mileage()\n",
    "        if (self.mileage is None):\n",
    "            return False\n",
    "        \n",
    "        self.year = self.get_year()\n",
    "        \n",
    "        # аналогично дописать для всех фичей\n",
    "        # проверка на None в этой функции для других фичей не нужна \n",
    "        # (я выделил самые главные)\n",
    "        # \n",
    "        return True\n",
    "    \n",
    "        \n",
    "    def get_price(self):\n",
    "        price = self.soup.select_one('h4.card__price-rur')\n",
    "        print(price)\n",
    "        if (price is not None):\n",
    "            price = price.text\n",
    "        else:\n",
    "            self.warning_('price not found')\n",
    "            price = None\n",
    "        return price\n",
    "    \n",
    "    \n",
    "    def get_manufacturer(self):\n",
    "        manufacturer = self.soup.select('.link.link_theme_auto.link__control.i-bem')\n",
    "        if (manufacturer is not None):\n",
    "            manufacturer = manufacturer[5].text\n",
    "        else:\n",
    "            self.warning_('manufacturer not found')\n",
    "            manufacturer = None\n",
    "        return manufacturer\n",
    "    \n",
    "    def get_mileage(self):\n",
    "        mileage = self.soup.select('dl.card__info > dd.card__info-value.card__info-value_bold')\n",
    "        if (mileage is not None):\n",
    "            mileage = manufacturer[1].text\n",
    "        else:\n",
    "            self.warning_('mileage not found')\n",
    "            mileage = None\n",
    "        return mileage\n",
    "    \n",
    "    def get_year(self):\n",
    "        year = self.soup.select('dl.card__info > dd.card__info-value.card__info-value_bold')\n",
    "        if (year is not None):\n",
    "            year = manufacturer[0].text\n",
    "        else:\n",
    "            self.warning_('year not found')\n",
    "            year = None\n",
    "        return year\n",
    "    \n",
    "    def __repr__(self):\n",
    "         return \"Motorcycle class\"\n",
    "        \n",
    "    def __str__(self):\n",
    "        string = str(self.price) + ',' + str(self.manufacturer) + ',' + \\\n",
    "                    str(self.mileage) + ',' + str(self.year)\n",
    "        return string"
   ]
  },
  {
   "cell_type": "markdown",
   "metadata": {},
   "source": [
    "<b>Информация по подключению</b>"
   ]
  },
  {
   "cell_type": "code",
   "execution_count": 3,
   "metadata": {},
   "outputs": [],
   "source": [
    "url_page_template = '''https://auto.ru/moskva/mototsikly/all/?beaten=1&custom_state_key=CLEARED\n",
    "                    &geo_id=213geo_radius=1000&image=true&sort_offers=cr_date-DESC&top_days=off\n",
    "                    &currency=RUR&output_type=list&page_num_offers='''"
   ]
  },
  {
   "cell_type": "code",
   "execution_count": 16,
   "metadata": {},
   "outputs": [],
   "source": [
    "# Выбрать нужное\n",
    "# Сайт с прокси: http://spys.one/proxys/RU/\n",
    "\n",
    "proxies = None\n",
    "proxies = { 'https': '5.53.19.82:56907' }"
   ]
  },
  {
   "cell_type": "code",
   "execution_count": 5,
   "metadata": {},
   "outputs": [
    {
     "name": "stderr",
     "output_type": "stream",
     "text": [
      "Error occurred during loading data. Trying to use cache server https://fake-useragent.herokuapp.com/browsers/0.1.11\n",
      "Traceback (most recent call last):\n",
      "  File \"C:\\Users\\Overdrive\\Anaconda3\\lib\\urllib\\request.py\", line 1318, in do_open\n",
      "    encode_chunked=req.has_header('Transfer-encoding'))\n",
      "  File \"C:\\Users\\Overdrive\\Anaconda3\\lib\\http\\client.py\", line 1239, in request\n",
      "    self._send_request(method, url, body, headers, encode_chunked)\n",
      "  File \"C:\\Users\\Overdrive\\Anaconda3\\lib\\http\\client.py\", line 1285, in _send_request\n",
      "    self.endheaders(body, encode_chunked=encode_chunked)\n",
      "  File \"C:\\Users\\Overdrive\\Anaconda3\\lib\\http\\client.py\", line 1234, in endheaders\n",
      "    self._send_output(message_body, encode_chunked=encode_chunked)\n",
      "  File \"C:\\Users\\Overdrive\\Anaconda3\\lib\\http\\client.py\", line 1026, in _send_output\n",
      "    self.send(msg)\n",
      "  File \"C:\\Users\\Overdrive\\Anaconda3\\lib\\http\\client.py\", line 964, in send\n",
      "    self.connect()\n",
      "  File \"C:\\Users\\Overdrive\\Anaconda3\\lib\\http\\client.py\", line 936, in connect\n",
      "    (self.host,self.port), self.timeout, self.source_address)\n",
      "  File \"C:\\Users\\Overdrive\\Anaconda3\\lib\\socket.py\", line 724, in create_connection\n",
      "    raise err\n",
      "  File \"C:\\Users\\Overdrive\\Anaconda3\\lib\\socket.py\", line 713, in create_connection\n",
      "    sock.connect(sa)\n",
      "socket.timeout: timed out\n",
      "\n",
      "During handling of the above exception, another exception occurred:\n",
      "\n",
      "Traceback (most recent call last):\n",
      "  File \"C:\\Users\\Overdrive\\Anaconda3\\lib\\site-packages\\fake_useragent\\utils.py\", line 67, in get\n",
      "    context=context,\n",
      "  File \"C:\\Users\\Overdrive\\Anaconda3\\lib\\urllib\\request.py\", line 223, in urlopen\n",
      "    return opener.open(url, data, timeout)\n",
      "  File \"C:\\Users\\Overdrive\\Anaconda3\\lib\\urllib\\request.py\", line 526, in open\n",
      "    response = self._open(req, data)\n",
      "  File \"C:\\Users\\Overdrive\\Anaconda3\\lib\\urllib\\request.py\", line 544, in _open\n",
      "    '_open', req)\n",
      "  File \"C:\\Users\\Overdrive\\Anaconda3\\lib\\urllib\\request.py\", line 504, in _call_chain\n",
      "    result = func(*args)\n",
      "  File \"C:\\Users\\Overdrive\\Anaconda3\\lib\\urllib\\request.py\", line 1346, in http_open\n",
      "    return self.do_open(http.client.HTTPConnection, req)\n",
      "  File \"C:\\Users\\Overdrive\\Anaconda3\\lib\\urllib\\request.py\", line 1320, in do_open\n",
      "    raise URLError(err)\n",
      "urllib.error.URLError: <urlopen error timed out>\n",
      "\n",
      "During handling of the above exception, another exception occurred:\n",
      "\n",
      "Traceback (most recent call last):\n",
      "  File \"C:\\Users\\Overdrive\\Anaconda3\\lib\\site-packages\\fake_useragent\\utils.py\", line 166, in load\n",
      "    verify_ssl=verify_ssl,\n",
      "  File \"C:\\Users\\Overdrive\\Anaconda3\\lib\\site-packages\\fake_useragent\\utils.py\", line 122, in get_browser_versions\n",
      "    verify_ssl=verify_ssl,\n",
      "  File \"C:\\Users\\Overdrive\\Anaconda3\\lib\\site-packages\\fake_useragent\\utils.py\", line 84, in get\n",
      "    raise FakeUserAgentError('Maximum amount of retries reached')\n",
      "fake_useragent.errors.FakeUserAgentError: Maximum amount of retries reached\n"
     ]
    }
   ],
   "source": [
    "#user_agent = UserAgent()\n",
    "#user_agent.update()\n",
    "#headers = {'User-Agent': user_agent.chrome}\n",
    "\n",
    "headers = {'User-Agent':'Mozilla/5.0 (Windows NT 10.0; Win64; x64) AppleWebKit/537.36 (KHTML, like Gecko) Chrome/70.0.3538.102 Safari/537.36'}"
   ]
  },
  {
   "cell_type": "markdown",
   "metadata": {},
   "source": [
    "<b>Вспомогательные функции для подключения</b>"
   ]
  },
  {
   "cell_type": "code",
   "execution_count": 6,
   "metadata": {},
   "outputs": [],
   "source": [
    "def is_banned(soup):\n",
    "    title = soup.select_one('h1.title')\n",
    "    if (title is not None):\n",
    "        if (title.text == 'ой…'):\n",
    "            #print(soup)\n",
    "            return True\n",
    "    else:\n",
    "        return False"
   ]
  },
  {
   "cell_type": "code",
   "execution_count": 7,
   "metadata": {},
   "outputs": [],
   "source": [
    "def is_page_found(soup):\n",
    "    title = soup.select_one('div.page-title')\n",
    "    if (title is not None):\n",
    "        if (title.text == 'Страница не найдена'):\n",
    "            return False\n",
    "    else:\n",
    "        return True"
   ]
  },
  {
   "cell_type": "code",
   "execution_count": 8,
   "metadata": {},
   "outputs": [],
   "source": [
    "def get_links(url_page, proxies=None, headers=None, sleep=False, sleep_seconds=10):\n",
    "    html_page = requests.get(url_page, proxies=proxies, headers=headers).content\n",
    "    soup = BeautifulSoup(html_page, 'html.parser')\n",
    "    \n",
    "    if (is_banned(soup)):\n",
    "        print(\"BANNED\")\n",
    "        return None\n",
    "    \n",
    "    if (not is_page_found(soup)):\n",
    "        print(\"Page not found\")\n",
    "        return None\n",
    "    \n",
    "    if (sleep):\n",
    "        time.sleep(np.random.randint(sleep_seconds))\n",
    "          \n",
    "    return soup.select('.link.link_theme_auto.listing-item__link.link__control.i-bem')"
   ]
  },
  {
   "cell_type": "code",
   "execution_count": 9,
   "metadata": {},
   "outputs": [],
   "source": [
    "def get_motorcycle_soup(url_motorcycle, proxies=None, headers=None, sleep=False, sleep_seconds=10):\n",
    "    html_motorcycle = requests.get(url_motorcycle, proxies=proxies, headers=headers).content\n",
    "    soup_motorcycle = BeautifulSoup(html_motorcycle, 'html.parser')\n",
    "        \n",
    "    if (is_banned(soup_motorcycle)):\n",
    "        #print(soup_motorcycle)\n",
    "        print(\"BANNED\")\n",
    "        return None\n",
    "    \n",
    "    if (not is_page_found(soup_motorcycle)):\n",
    "        #print(soup_motorcycle)\n",
    "        print(\"Page not found\")\n",
    "        return None\n",
    "    \n",
    "    if (sleep):\n",
    "        time.sleep(np.random.randint(sleep_seconds))\n",
    "        \n",
    "    return soup_motorcycle"
   ]
  },
  {
   "cell_type": "markdown",
   "metadata": {},
   "source": [
    "<b>Создание списка ссылок</b>"
   ]
  },
  {
   "cell_type": "code",
   "execution_count": 10,
   "metadata": {},
   "outputs": [],
   "source": [
    "if (False): # чтобы не запускалось при нажатии Run all\n",
    "    last_page = 99\n",
    "\n",
    "    with open('data/current_page.txt', 'r') as file:\n",
    "        current_page = int(file.readline())\n",
    "        current_link = int(file.readline())\n",
    "\n",
    "    with open('data/links.txt', 'a') as f_output:\n",
    "        for page in range(current_page, last_page+1):\n",
    "            links = get_links(url_page_template + str(page), proxies, headers, True)\n",
    "\n",
    "            if (links is None):\n",
    "                print(\"Error while getting motorcycle links\")\n",
    "                current_page = page\n",
    "                print(\"Page: \" + str(current_page))\n",
    "                print(\"Link: \" + str(current_link))\n",
    "                break\n",
    "\n",
    "            for link in links:\n",
    "                print(str(current_link) + '. '+ link['href'], file=f_output)\n",
    "                current_link += 1\n",
    "\n",
    "            current_page = page + 1\n",
    "\n",
    "    with open('data/current_page.txt', 'w') as f_output:\n",
    "        print(current_page, file=f_output)\n",
    "        print(current_link, file=f_output)"
   ]
  },
  {
   "cell_type": "markdown",
   "metadata": {},
   "source": [
    "<b>Основной цикл (не работает пока)</b>"
   ]
  },
  {
   "cell_type": "code",
   "execution_count": 11,
   "metadata": {},
   "outputs": [],
   "source": [
    "if (False): # чтобы не запускалось при нажатии Run all\n",
    "\n",
    "    with open('data/current_parce_link.txt', 'r') as file:\n",
    "        current_parce_link = int(file.readline())\n",
    "\n",
    "    with open('data/links.txt', 'r') as links_file:\n",
    "        with open('data/motorcycles.txt', 'a') as motorcycle_file:\n",
    "            for i, link in enumerate(links_file):\n",
    "                if (i < current_parce_link):\n",
    "                    continue\n",
    "\n",
    "                link = link[link.find('h'):]\n",
    "\n",
    "                soup = get_motorcycle_soup(link, proxies, headers, True)\n",
    "                if (soup is None):\n",
    "                    print(\"Error while getting motorcycle information\")\n",
    "                    print(\"Link: \" + str(current_parce_link))\n",
    "                    break\n",
    "\n",
    "                motorcycle = Motorcycle(soup, current_parce_link)\n",
    "                if (motorcycle.parse_information()):\n",
    "                    print(motorcycle, file=motorcycle_file)\n",
    "                else:\n",
    "                    print(\"Error while parsing motorcycle information\")\n",
    "                    print(\"Link: \" + str(current_parce_link))\n",
    "\n",
    "                current_parce_link += 1\n",
    "\n",
    "    with open('data/current_parce_link.txt', 'w') as f_output:\n",
    "        print(current_parce_link, file=f_output)"
   ]
  },
  {
   "cell_type": "code",
   "execution_count": null,
   "metadata": {},
   "outputs": [],
   "source": []
  },
  {
   "cell_type": "code",
   "execution_count": null,
   "metadata": {},
   "outputs": [],
   "source": []
  },
  {
   "cell_type": "markdown",
   "metadata": {},
   "source": [
    "Все, что ниже - черновик, для того, чтобы что то отдельное потестить\n",
    "\n",
    "Если банит, то можно скачать один раз в отдельной ячейке, и потом просто по ней делать (чтобы не перекачивать)"
   ]
  },
  {
   "cell_type": "code",
   "execution_count": 14,
   "metadata": {
    "scrolled": true
   },
   "outputs": [
    {
     "name": "stdout",
     "output_type": "stream",
     "text": [
      "Link: https://auto.ru/mototsikly/used/sale/ducati/diavel_carbon/2814439-9a82eb97/\n",
      "\n",
      "BANNED\n"
     ]
    }
   ],
   "source": [
    "number_of_link = 1\n",
    "with open('data/links.txt', 'r') as links_file:\n",
    "    for i in range(number_of_link):\n",
    "        link = links_file.readline()\n",
    "        \n",
    "    link = link[link.find('h'):]\n",
    "    #link = link[:8] + 'www.' + link[8:]\n",
    "    print(\"Link: \" + link)\n",
    "    \n",
    "    soup = get_motorcycle_soup(str(link), proxies, headers, True)"
   ]
  },
  {
   "cell_type": "markdown",
   "metadata": {},
   "source": [
    "Ячейка выше - один раз запустили, скачали\n",
    "\n",
    "Теперь тестируем парсинг снизу"
   ]
  },
  {
   "cell_type": "code",
   "execution_count": 13,
   "metadata": {},
   "outputs": [
    {
     "name": "stdout",
     "output_type": "stream",
     "text": [
      "None\n"
     ]
    },
    {
     "ename": "AttributeError",
     "evalue": "'NoneType' object has no attribute 'select_one'",
     "output_type": "error",
     "traceback": [
      "\u001b[1;31m---------------------------------------------------------------------------\u001b[0m",
      "\u001b[1;31mAttributeError\u001b[0m                            Traceback (most recent call last)",
      "\u001b[1;32m<ipython-input-13-252b70aadf4e>\u001b[0m in \u001b[0;36m<module>\u001b[1;34m()\u001b[0m\n\u001b[0;32m      2\u001b[0m \u001b[0mprint\u001b[0m\u001b[1;33m(\u001b[0m\u001b[0msoup\u001b[0m\u001b[1;33m)\u001b[0m\u001b[1;33m\u001b[0m\u001b[0m\n\u001b[0;32m      3\u001b[0m \u001b[1;33m\u001b[0m\u001b[0m\n\u001b[1;32m----> 4\u001b[1;33m \u001b[1;32mif\u001b[0m \u001b[1;33m(\u001b[0m\u001b[0mmotorcycle\u001b[0m\u001b[1;33m.\u001b[0m\u001b[0mparse_information\u001b[0m\u001b[1;33m(\u001b[0m\u001b[1;33m)\u001b[0m\u001b[1;33m)\u001b[0m\u001b[1;33m:\u001b[0m\u001b[1;33m\u001b[0m\u001b[0m\n\u001b[0m\u001b[0;32m      5\u001b[0m     \u001b[0mprint\u001b[0m\u001b[1;33m(\u001b[0m\u001b[0mmotorcycle\u001b[0m\u001b[1;33m)\u001b[0m\u001b[1;33m\u001b[0m\u001b[0m\n",
      "\u001b[1;32m<ipython-input-2-8d0bfd6b1070>\u001b[0m in \u001b[0;36mparse_information\u001b[1;34m(self)\u001b[0m\n\u001b[0;32m     13\u001b[0m \u001b[1;33m\u001b[0m\u001b[0m\n\u001b[0;32m     14\u001b[0m     \u001b[1;32mdef\u001b[0m \u001b[0mparse_information\u001b[0m\u001b[1;33m(\u001b[0m\u001b[0mself\u001b[0m\u001b[1;33m)\u001b[0m\u001b[1;33m:\u001b[0m\u001b[1;33m\u001b[0m\u001b[0m\n\u001b[1;32m---> 15\u001b[1;33m         \u001b[0mself\u001b[0m\u001b[1;33m.\u001b[0m\u001b[0mprice\u001b[0m \u001b[1;33m=\u001b[0m \u001b[0mself\u001b[0m\u001b[1;33m.\u001b[0m\u001b[0mget_price\u001b[0m\u001b[1;33m(\u001b[0m\u001b[1;33m)\u001b[0m\u001b[1;33m\u001b[0m\u001b[0m\n\u001b[0m\u001b[0;32m     16\u001b[0m         \u001b[1;32mif\u001b[0m \u001b[1;33m(\u001b[0m\u001b[0mself\u001b[0m\u001b[1;33m.\u001b[0m\u001b[0mprice\u001b[0m \u001b[1;32mis\u001b[0m \u001b[1;32mNone\u001b[0m\u001b[1;33m)\u001b[0m\u001b[1;33m:\u001b[0m\u001b[1;33m\u001b[0m\u001b[0m\n\u001b[0;32m     17\u001b[0m             \u001b[1;32mreturn\u001b[0m \u001b[1;32mFalse\u001b[0m\u001b[1;33m\u001b[0m\u001b[0m\n",
      "\u001b[1;32m<ipython-input-2-8d0bfd6b1070>\u001b[0m in \u001b[0;36mget_price\u001b[1;34m(self)\u001b[0m\n\u001b[0;32m     35\u001b[0m \u001b[1;33m\u001b[0m\u001b[0m\n\u001b[0;32m     36\u001b[0m     \u001b[1;32mdef\u001b[0m \u001b[0mget_price\u001b[0m\u001b[1;33m(\u001b[0m\u001b[0mself\u001b[0m\u001b[1;33m)\u001b[0m\u001b[1;33m:\u001b[0m\u001b[1;33m\u001b[0m\u001b[0m\n\u001b[1;32m---> 37\u001b[1;33m         \u001b[0mprice\u001b[0m \u001b[1;33m=\u001b[0m \u001b[0mself\u001b[0m\u001b[1;33m.\u001b[0m\u001b[0msoup\u001b[0m\u001b[1;33m.\u001b[0m\u001b[0mselect_one\u001b[0m\u001b[1;33m(\u001b[0m\u001b[1;34m'h4.card__price-rur'\u001b[0m\u001b[1;33m)\u001b[0m\u001b[1;33m\u001b[0m\u001b[0m\n\u001b[0m\u001b[0;32m     38\u001b[0m         \u001b[0mprint\u001b[0m\u001b[1;33m(\u001b[0m\u001b[0mprice\u001b[0m\u001b[1;33m)\u001b[0m\u001b[1;33m\u001b[0m\u001b[0m\n\u001b[0;32m     39\u001b[0m         \u001b[1;32mif\u001b[0m \u001b[1;33m(\u001b[0m\u001b[0mprice\u001b[0m \u001b[1;32mis\u001b[0m \u001b[1;32mnot\u001b[0m \u001b[1;32mNone\u001b[0m\u001b[1;33m)\u001b[0m\u001b[1;33m:\u001b[0m\u001b[1;33m\u001b[0m\u001b[0m\n",
      "\u001b[1;31mAttributeError\u001b[0m: 'NoneType' object has no attribute 'select_one'"
     ]
    }
   ],
   "source": [
    "motorcycle = Motorcycle(soup)\n",
    "print(soup)\n",
    "\n",
    "if (motorcycle.parse_information()):\n",
    "    print(motorcycle)"
   ]
  },
  {
   "cell_type": "code",
   "execution_count": 17,
   "metadata": {},
   "outputs": [
    {
     "name": "stdout",
     "output_type": "stream",
     "text": [
      "BANNED\n"
     ]
    }
   ],
   "source": [
    "html_motorcycle = requests.get(\"https://auto.ru/mototsikly/used/sale/ducati/diavel_carbon/2814439-9a82eb97/\", proxies).content\n",
    "soup_motorcycle = BeautifulSoup(html_motorcycle, 'html.parser')\n",
    "\n",
    "if (is_banned(soup_motorcycle)):\n",
    "    #print(soup_motorcycle)\n",
    "    print(\"BANNED\")\n",
    "    \n",
    "if (not is_page_found(soup_motorcycle)):\n",
    "    #print(soup_motorcycle)\n",
    "    print(\"Page not found\")"
   ]
  },
  {
   "cell_type": "code",
   "execution_count": null,
   "metadata": {},
   "outputs": [],
   "source": []
  }
 ],
 "metadata": {
  "kernelspec": {
   "display_name": "Python 3",
   "language": "python",
   "name": "python3"
  },
  "language_info": {
   "codemirror_mode": {
    "name": "ipython",
    "version": 3
   },
   "file_extension": ".py",
   "mimetype": "text/x-python",
   "name": "python",
   "nbconvert_exporter": "python",
   "pygments_lexer": "ipython3",
   "version": "3.6.5"
  }
 },
 "nbformat": 4,
 "nbformat_minor": 2
}
