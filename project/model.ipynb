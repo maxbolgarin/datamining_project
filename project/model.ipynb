{
 "cells": [
  {
   "cell_type": "markdown",
   "metadata": {},
   "source": [
    "# Оценка рыночной стоимости мотоцикла с пробегом"
   ]
  },
  {
   "cell_type": "markdown",
   "metadata": {},
   "source": [
    "## Выполнили: Болгарин Максим, Моисеенков Павел. BD-11"
   ]
  },
  {
   "cell_type": "markdown",
   "metadata": {},
   "source": [
    "<br>"
   ]
  },
  {
   "cell_type": "markdown",
   "metadata": {},
   "source": [
    "**Цель проекта:** проанализировать факторы, влияющие на рыночную стоимость подержанных мотоциклов, и научиться её предсказывать. Какую пользу можно вынести из этого простому человеку? Зная, как образуется стоимость мотоцикла, владелец подобного транспортного средства может подобрать подходящую для него цену для продажи. С другой стороны, будущий владелец сможет оценить адекватность заинтересовавшего его предложения."
   ]
  },
  {
   "cell_type": "markdown",
   "metadata": {},
   "source": [
    "**План выполнения:**\n",
    "1. Поиск данных, формирование датасета\n",
    "    * Скачивание и парсинг данных.\n",
    "    * Формирование датасета.\n",
    "2. Первичный анализ данных\n",
    "    * Изучение данных: определение смысла признаков, типов данных, наличия пропусков и т.д.\n",
    "3. Предобработка данных\n",
    "    * Очистка и отбор данных, выполнение необходимых преобразований.\n",
    "4. Визуальный анализ данных\n",
    "    * Поиск скрытых особенностей в данных, анализ корреляций.\n",
    "5. Применение моделей анализа данных для предсказания стоимости\n",
    "    * Тестирование нескольких простых моделей, сравнение качества, выбор baseline.\n",
    "    * Обучение и проверка модели, показывающей наилучшее качество.\n",
    "6. Вывод"
   ]
  },
  {
   "cell_type": "markdown",
   "metadata": {},
   "source": [
    "<br>"
   ]
  },
  {
   "cell_type": "markdown",
   "metadata": {},
   "source": [
    "### 1. Поиск данных, формирование датасета"
   ]
  },
  {
   "cell_type": "markdown",
   "metadata": {},
   "source": [
    "Источником данных послужил архив объявлений на сайте moto.drom.ru\n",
    "\n",
    "Всего было обработано около 7000 объявлений из Москвы. Скачивание производилось в [другом Jupyter Notebook](https://github.com/maxbolgarin/datamining_project/blob/master/project/parce.ipynb). На выходе мы имеем .csv файл, с ним нам и предстоит работать."
   ]
  },
  {
   "cell_type": "markdown",
   "metadata": {},
   "source": [
    "#### Подключим необходимые библиотеки"
   ]
  },
  {
   "cell_type": "code",
   "execution_count": 1,
   "metadata": {},
   "outputs": [],
   "source": [
    "import numpy as np\n",
    "import pandas as pd"
   ]
  },
  {
   "cell_type": "markdown",
   "metadata": {},
   "source": [
    "#### Теперь загрузим данные"
   ]
  },
  {
   "cell_type": "code",
   "execution_count": 2,
   "metadata": {},
   "outputs": [],
   "source": [
    "motorcycles = pd.read_csv('data/motorcycles.csv', index_col='id')"
   ]
  },
  {
   "cell_type": "code",
   "execution_count": 3,
   "metadata": {},
   "outputs": [
    {
     "data": {
      "text/html": [
       "<div>\n",
       "<style scoped>\n",
       "    .dataframe tbody tr th:only-of-type {\n",
       "        vertical-align: middle;\n",
       "    }\n",
       "\n",
       "    .dataframe tbody tr th {\n",
       "        vertical-align: top;\n",
       "    }\n",
       "\n",
       "    .dataframe thead th {\n",
       "        text-align: right;\n",
       "    }\n",
       "</style>\n",
       "<table border=\"1\" class=\"dataframe\">\n",
       "  <thead>\n",
       "    <tr style=\"text-align: right;\">\n",
       "      <th></th>\n",
       "      <th>price</th>\n",
       "      <th>model</th>\n",
       "      <th>mileage</th>\n",
       "      <th>motorcycle_class</th>\n",
       "      <th>year</th>\n",
       "      <th>engine_capacity</th>\n",
       "      <th>engine_strokes</th>\n",
       "      <th>damaged</th>\n",
       "      <th>documents</th>\n",
       "      <th>city</th>\n",
       "      <th>date</th>\n",
       "    </tr>\n",
       "    <tr>\n",
       "      <th>id</th>\n",
       "      <th></th>\n",
       "      <th></th>\n",
       "      <th></th>\n",
       "      <th></th>\n",
       "      <th></th>\n",
       "      <th></th>\n",
       "      <th></th>\n",
       "      <th></th>\n",
       "      <th></th>\n",
       "      <th></th>\n",
       "      <th></th>\n",
       "    </tr>\n",
       "  </thead>\n",
       "  <tbody>\n",
       "    <tr>\n",
       "      <th>3031</th>\n",
       "      <td>460 000₽</td>\n",
       "      <td>Yamaha XVZ 1300</td>\n",
       "      <td>28 010 км</td>\n",
       "      <td>None</td>\n",
       "      <td>2004</td>\n",
       "      <td>1 300 куб. см.</td>\n",
       "      <td>4х тактный</td>\n",
       "      <td>Исправен</td>\n",
       "      <td>Есть ПТС</td>\n",
       "      <td>Москва</td>\n",
       "      <td>12 августа 2016</td>\n",
       "    </tr>\n",
       "    <tr>\n",
       "      <th>1873</th>\n",
       "      <td>1 490 000₽</td>\n",
       "      <td>Harley-Davidson</td>\n",
       "      <td>393 км</td>\n",
       "      <td>Кастом</td>\n",
       "      <td>2007</td>\n",
       "      <td>2 000 куб. см.</td>\n",
       "      <td>4х тактный</td>\n",
       "      <td>Исправен</td>\n",
       "      <td>Есть ПТС</td>\n",
       "      <td>Москва</td>\n",
       "      <td>5 мая 2017</td>\n",
       "    </tr>\n",
       "    <tr>\n",
       "      <th>1808</th>\n",
       "      <td>382 000₽</td>\n",
       "      <td>Harley-Davidson Sportster 1200 Custom XL1200C</td>\n",
       "      <td>20 610 км</td>\n",
       "      <td>Круизер</td>\n",
       "      <td>2007</td>\n",
       "      <td>1 200 куб. см.</td>\n",
       "      <td>4х тактный</td>\n",
       "      <td>Исправен</td>\n",
       "      <td>Есть ПТС</td>\n",
       "      <td>Москва</td>\n",
       "      <td>7 мая 2017</td>\n",
       "    </tr>\n",
       "    <tr>\n",
       "      <th>6219</th>\n",
       "      <td>235 000₽</td>\n",
       "      <td>Yamaha Maxam 250</td>\n",
       "      <td>7 789 км</td>\n",
       "      <td>None</td>\n",
       "      <td>2009</td>\n",
       "      <td>250 куб. см.</td>\n",
       "      <td>4х тактный</td>\n",
       "      <td>Исправен</td>\n",
       "      <td>Есть ПТС</td>\n",
       "      <td>Москва</td>\n",
       "      <td>28 июля 2013</td>\n",
       "    </tr>\n",
       "    <tr>\n",
       "      <th>5573</th>\n",
       "      <td>140 000₽</td>\n",
       "      <td>Yamaha XJ 900</td>\n",
       "      <td>60 000 км</td>\n",
       "      <td>None</td>\n",
       "      <td>1999</td>\n",
       "      <td>892 куб. см.</td>\n",
       "      <td>4х тактный</td>\n",
       "      <td>Исправен</td>\n",
       "      <td>Есть ПТС</td>\n",
       "      <td>Москва</td>\n",
       "      <td>4 мая 2014</td>\n",
       "    </tr>\n",
       "  </tbody>\n",
       "</table>\n",
       "</div>"
      ],
      "text/plain": [
       "           price                                          model    mileage  \\\n",
       "id                                                                           \n",
       "3031    460 000₽                                Yamaha XVZ 1300  28 010 км   \n",
       "1873  1 490 000₽                                Harley-Davidson     393 км   \n",
       "1808    382 000₽  Harley-Davidson Sportster 1200 Custom XL1200C  20 610 км   \n",
       "6219    235 000₽                               Yamaha Maxam 250   7 789 км   \n",
       "5573    140 000₽                                  Yamaha XJ 900  60 000 км   \n",
       "\n",
       "     motorcycle_class  year engine_capacity engine_strokes   damaged  \\\n",
       "id                                                                     \n",
       "3031             None  2004  1 300 куб. см.     4х тактный  Исправен   \n",
       "1873           Кастом  2007  2 000 куб. см.     4х тактный  Исправен   \n",
       "1808          Круизер  2007  1 200 куб. см.     4х тактный  Исправен   \n",
       "6219             None  2009    250 куб. см.     4х тактный  Исправен   \n",
       "5573             None  1999    892 куб. см.     4х тактный  Исправен   \n",
       "\n",
       "     documents    city             date  \n",
       "id                                       \n",
       "3031  Есть ПТС  Москва  12 августа 2016  \n",
       "1873  Есть ПТС  Москва       5 мая 2017  \n",
       "1808  Есть ПТС  Москва       7 мая 2017  \n",
       "6219  Есть ПТС  Москва     28 июля 2013  \n",
       "5573  Есть ПТС  Москва       4 мая 2014  "
      ]
     },
     "execution_count": 3,
     "metadata": {},
     "output_type": "execute_result"
    }
   ],
   "source": [
    "motorcycles.sample(5)"
   ]
  },
  {
   "cell_type": "code",
   "execution_count": 4,
   "metadata": {},
   "outputs": [
    {
     "data": {
      "text/plain": [
       "(6848, 11)"
      ]
     },
     "execution_count": 4,
     "metadata": {},
     "output_type": "execute_result"
    }
   ],
   "source": [
    "motorcycles.shape"
   ]
  },
  {
   "cell_type": "markdown",
   "metadata": {},
   "source": [
    "Видим, что данные успешно загрузились и выглядят вполне адекватно. Можем работать дальше."
   ]
  },
  {
   "cell_type": "markdown",
   "metadata": {},
   "source": [
    "<br>"
   ]
  },
  {
   "cell_type": "markdown",
   "metadata": {},
   "source": [
    "### 2. Первичный анализ данных"
   ]
  },
  {
   "cell_type": "markdown",
   "metadata": {},
   "source": [
    "Посмотрим общую информацию по датасету:"
   ]
  },
  {
   "cell_type": "code",
   "execution_count": 5,
   "metadata": {
    "scrolled": true
   },
   "outputs": [
    {
     "name": "stdout",
     "output_type": "stream",
     "text": [
      "<class 'pandas.core.frame.DataFrame'>\n",
      "Int64Index: 6848 entries, 1 to 7100\n",
      "Data columns (total 11 columns):\n",
      "price               6848 non-null object\n",
      "model               6848 non-null object\n",
      "mileage             6848 non-null object\n",
      "motorcycle_class    6848 non-null object\n",
      "year                6848 non-null object\n",
      "engine_capacity     6848 non-null object\n",
      "engine_strokes      6848 non-null object\n",
      "damaged             6848 non-null object\n",
      "documents           6848 non-null object\n",
      "city                6848 non-null object\n",
      "date                6848 non-null object\n",
      "dtypes: object(11)\n",
      "memory usage: 642.0+ KB\n"
     ]
    }
   ],
   "source": [
    "motorcycles.info()"
   ]
  },
  {
   "cell_type": "code",
   "execution_count": 6,
   "metadata": {},
   "outputs": [
    {
     "data": {
      "text/plain": [
       "price               1059\n",
       "model               2284\n",
       "mileage             1958\n",
       "motorcycle_class      15\n",
       "year                  56\n",
       "engine_capacity      348\n",
       "engine_strokes         3\n",
       "damaged                3\n",
       "documents              3\n",
       "city                   1\n",
       "date                2133\n",
       "dtype: int64"
      ]
     },
     "execution_count": 6,
     "metadata": {},
     "output_type": "execute_result"
    }
   ],
   "source": [
    "motorcycles.nunique()"
   ]
  },
  {
   "cell_type": "code",
   "execution_count": 7,
   "metadata": {},
   "outputs": [
    {
     "data": {
      "text/plain": [
       "(6797, 11)"
      ]
     },
     "execution_count": 7,
     "metadata": {},
     "output_type": "execute_result"
    }
   ],
   "source": [
    "motorcycles.drop_duplicates().shape"
   ]
  },
  {
   "cell_type": "markdown",
   "metadata": {},
   "source": [
    "Теперь посмотрим на некоторые столбцы, вызывающие вопросы:"
   ]
  },
  {
   "cell_type": "markdown",
   "metadata": {},
   "source": [
    "**price:**"
   ]
  },
  {
   "cell_type": "code",
   "execution_count": 16,
   "metadata": {},
   "outputs": [
    {
     "data": {
      "text/plain": [
       "150 000₽           135\n",
       "200 000₽           132\n",
       "250 000₽           132\n",
       "300 000₽           115\n",
       "350 000₽           109\n",
       "220 000₽           103\n",
       "120 000₽           101\n",
       "180 000₽            92\n",
       "100 000₽            89\n",
       "160 000₽            86\n",
       "190 000₽            86\n",
       "110 000₽            85\n",
       "Цена не указана     85\n",
       "450 000₽            83\n",
       "230 000₽            83\n",
       "170 000₽            83\n",
       "130 000₽            80\n",
       "280 000₽            74\n",
       "140 000₽            72\n",
       "165 000₽            71\n",
       "240 000₽            71\n",
       "400 000₽            69\n",
       "90 000₽             63\n",
       "260 000₽            60\n",
       "210 000₽            58\n",
       "125 000₽            58\n",
       "320 000₽            58\n",
       "270 000₽            58\n",
       "500 000₽            55\n",
       "290 000₽            54\n",
       "                  ... \n",
       "39 990₽              1\n",
       "290₽                 1\n",
       "1 355 000₽           1\n",
       "888 888₽             1\n",
       "219 800₽             1\n",
       "464 000₽             1\n",
       "1 463 000₽           1\n",
       "520₽                 1\n",
       "558 000₽             1\n",
       "111 500₽             1\n",
       "1 357 000₽           1\n",
       "474 000₽             1\n",
       "21 900₽              1\n",
       "184 203₽             1\n",
       "391 000₽             1\n",
       "54 000₽              1\n",
       "482 000₽             1\n",
       "992 000₽             1\n",
       "815 000₽             1\n",
       "221 000₽             1\n",
       "499 900₽             1\n",
       "483 000₽             1\n",
       "167 900₽             1\n",
       "637 000₽             1\n",
       "121 125₽             1\n",
       "384 998₽             1\n",
       "217 000₽             1\n",
       "49 200₽              1\n",
       "59 950₽              1\n",
       "527 000₽             1\n",
       "Name: price, Length: 1059, dtype: int64"
      ]
     },
     "execution_count": 16,
     "metadata": {},
     "output_type": "execute_result"
    }
   ],
   "source": [
    "motorcycles.price.value_counts()"
   ]
  },
  {
   "cell_type": "markdown",
   "metadata": {},
   "source": [
    "**model:**"
   ]
  },
  {
   "cell_type": "code",
   "execution_count": 29,
   "metadata": {},
   "outputs": [
    {
     "data": {
      "text/plain": [
       "Yamaha YZF R6             95\n",
       "Honda CBR 600RR           73\n",
       "Yamaha YZF R1             58\n",
       "Suzuki Boulevard M109R    58\n",
       "Yamaha FZ 6               55\n",
       "Yamaha                    52\n",
       "Kawasaki Ninja ZX-6R      51\n",
       "Honda CB 400SF            51\n",
       "Name: model, dtype: int64"
      ]
     },
     "execution_count": 29,
     "metadata": {},
     "output_type": "execute_result"
    }
   ],
   "source": [
    "motorcycles.model.value_counts()[:8]"
   ]
  },
  {
   "cell_type": "markdown",
   "metadata": {},
   "source": [
    "**mileage:**"
   ]
  },
  {
   "cell_type": "code",
   "execution_count": 35,
   "metadata": {},
   "outputs": [
    {
     "data": {
      "text/plain": [
       "None         0.088201\n",
       "1 км         0.068633\n",
       "30 000 км    0.017377\n",
       "20 000 км    0.016063\n",
       "25 000 км    0.014895\n",
       "40 000 км    0.010952\n",
       "12 000 км    0.010806\n",
       "15 000 км    0.009930\n",
       "23 000 км    0.009784\n",
       "10 000 км    0.009784\n",
       "Name: mileage, dtype: float64"
      ]
     },
     "execution_count": 35,
     "metadata": {},
     "output_type": "execute_result"
    }
   ],
   "source": [
    "motorcycles.mileage.value_counts()[:10] / motorcycles.mileage.size"
   ]
  },
  {
   "cell_type": "markdown",
   "metadata": {},
   "source": [
    "**motorcycle_class:**"
   ]
  },
  {
   "cell_type": "code",
   "execution_count": 13,
   "metadata": {},
   "outputs": [
    {
     "data": {
      "text/plain": [
       "None               0.518400\n",
       "Чоппер             0.178592\n",
       "Классика           0.067465\n",
       "Спортивный         0.053154\n",
       "Круизер            0.040888\n",
       "Спорт-турист       0.037967\n",
       "Эндуро             0.025263\n",
       "Питбайк            0.024971\n",
       "Туристический      0.018692\n",
       "Стритфайтер        0.011536\n",
       "Кроссовый          0.008470\n",
       "Кастом             0.007155\n",
       "Мотард             0.003213\n",
       "Детский            0.002482\n",
       "Трайк (трицикл)    0.001752\n",
       "Name: motorcycle_class, dtype: float64"
      ]
     },
     "execution_count": 13,
     "metadata": {},
     "output_type": "execute_result"
    }
   ],
   "source": [
    "motorcycles.motorcycle_class.value_counts() / motorcycles.motorcycle_class.size"
   ]
  },
  {
   "cell_type": "markdown",
   "metadata": {},
   "source": [
    "**year:**"
   ]
  },
  {
   "cell_type": "code",
   "execution_count": 25,
   "metadata": {},
   "outputs": [
    {
     "data": {
      "text/plain": [
       "2014    0.070093\n",
       "2013    0.063960\n",
       "2008    0.062354\n",
       "2006    0.059725\n",
       "2007    0.058557\n",
       "2005    0.047605\n",
       "2012    0.045853\n",
       "2009    0.044539\n",
       "2003    0.043954\n",
       "None    0.043808\n",
       "Name: year, dtype: float64"
      ]
     },
     "execution_count": 25,
     "metadata": {},
     "output_type": "execute_result"
    }
   ],
   "source": [
    "motorcycles.year.value_counts()[:10] / motorcycles.year.size"
   ]
  },
  {
   "cell_type": "markdown",
   "metadata": {},
   "source": [
    "**engine_capacity:**"
   ]
  },
  {
   "cell_type": "code",
   "execution_count": 28,
   "metadata": {},
   "outputs": [
    {
     "data": {
      "text/plain": [
       "400 куб. см.      0.110981\n",
       "600 куб. см.      0.097985\n",
       "250 куб. см.      0.088347\n",
       "1 000 куб. см.    0.049504\n",
       "650 куб. см.      0.045999\n",
       "750 куб. см.      0.036069\n",
       "1 200 куб. см.    0.035193\n",
       "1 300 куб. см.    0.032856\n",
       "125 куб. см.      0.027599\n",
       "1 800 куб. см.    0.025847\n",
       "1 100 куб. см.    0.025701\n",
       "800 куб. см.      0.024533\n",
       "None              0.019860\n",
       "Name: engine_capacity, dtype: float64"
      ]
     },
     "execution_count": 28,
     "metadata": {},
     "output_type": "execute_result"
    }
   ],
   "source": [
    "motorcycles.engine_capacity.value_counts()[:13] / motorcycles.engine_capacity.size"
   ]
  },
  {
   "cell_type": "markdown",
   "metadata": {},
   "source": [
    "**engine_strokes:**"
   ]
  },
  {
   "cell_type": "code",
   "execution_count": 10,
   "metadata": {},
   "outputs": [
    {
     "data": {
      "text/plain": [
       "4х тактный    0.863902\n",
       "None          0.081484\n",
       "2х тактный    0.054614\n",
       "Name: engine_strokes, dtype: float64"
      ]
     },
     "execution_count": 10,
     "metadata": {},
     "output_type": "execute_result"
    }
   ],
   "source": [
    "motorcycles.engine_strokes.value_counts() / motorcycles.engine_strokes.size"
   ]
  },
  {
   "cell_type": "markdown",
   "metadata": {},
   "source": [
    "**damaged:**"
   ]
  },
  {
   "cell_type": "code",
   "execution_count": 11,
   "metadata": {},
   "outputs": [
    {
     "data": {
      "text/plain": [
       "Исправен      0.968166\n",
       "None          0.019568\n",
       "Неисправен    0.012266\n",
       "Name: damaged, dtype: float64"
      ]
     },
     "execution_count": 11,
     "metadata": {},
     "output_type": "execute_result"
    }
   ],
   "source": [
    "motorcycles.damaged.value_counts() / motorcycles.damaged.size"
   ]
  },
  {
   "cell_type": "markdown",
   "metadata": {},
   "source": [
    "**documents:**"
   ]
  },
  {
   "cell_type": "code",
   "execution_count": 37,
   "metadata": {},
   "outputs": [
    {
     "data": {
      "text/plain": [
       "Есть ПТС    0.908732\n",
       "Без ПТС     0.089223\n",
       "None        0.002044\n",
       "Name: documents, dtype: float64"
      ]
     },
     "execution_count": 37,
     "metadata": {},
     "output_type": "execute_result"
    }
   ],
   "source": [
    "motorcycles.documents.value_counts() / motorcycles.documents.size"
   ]
  },
  {
   "cell_type": "markdown",
   "metadata": {},
   "source": [
    "**date:**"
   ]
  },
  {
   "cell_type": "code",
   "execution_count": 36,
   "metadata": {},
   "outputs": [
    {
     "data": {
      "text/plain": [
       "id\n",
       "3139        15 июля 2016\n",
       "180           1 сентября\n",
       "2093      27 апреля 2017\n",
       "5125      26 ноября 2014\n",
       "266            2 августа\n",
       "21             19 ноября\n",
       "4525        28 июля 2015\n",
       "5987       1 ноября 2013\n",
       "1099    11 сентября 2017\n",
       "3383         30 мая 2016\n",
       "Name: date, dtype: object"
      ]
     },
     "execution_count": 36,
     "metadata": {},
     "output_type": "execute_result"
    }
   ],
   "source": [
    "motorcycles.sample(10).date"
   ]
  },
  {
   "cell_type": "markdown",
   "metadata": {},
   "source": [
    "Теперь пройдемся по столбцам и, на основе уже имеющейся информации, дадим им некоторое описание:\n",
    "1. **id:** просто порядковый номер мотоцикла, который вряд ли несет какую либо полезную информацию.\n",
    "2. **price:** цена мотоцикла, целевая переменная. Видим, что есть объекты со значением \"Цена не указана\". Их нам придется отбросить. Также можно заметить, что не у всех мотоциклов стоит адекватная цена (290₽ и т.п.). Такие объекты тоже скорее всего можно отбросить, так как они вряд ли составляют весомую долю от всех остальных. Также следует преобразовать стоимость в числовой тип, отбросив символ \"₽\".\n",
    "3. **model:** модель мотоцикла. Можно построить отдельный столбец **manufacturer**, в котором указывать только производителя, и рассматривать его как новое свойство.\n",
    "4. **mileage:** пробег мотоцикла. 9% имею пропуски, возможно это из за того, что такие мотоциклы являются новыми. Было бы странно, если бы продавец не указывал хотя бы примерный пробег своего подержанного транспортного средства, ведь это является один из самых главных факторов при покупке. Так что заполним пропуски нулями. Также 7% имеют пробег \"1 км\", это странное значение можно тоже занулить. Значения стоит привести к числовым, отбросить подстроку \"км\".\n",
    "5. **motorcycle_class:** класс мотоцикла. Как видим, около 50% всех объектов не имеют информции о классе. Возможно, этот столбец придется убрать из рассмотрения, так как заполнить пропуски сложно без искажения реальной информации. Считать отсутстиве значения как свойство не имеет смысла, так как класс присущ каждому мотоциклу, и отстуствие информации об этом характеризует скорее не мотоцикл, а человека, составляющего объявление.\n",
    "6. **year:** год выпуска мотоцикла. Как видим, значения отсутсвуют лишь у 4% всех объявлений, что не значительно.\n",
    "7. **engine_capacity:** объем двигателя. Пропуски имеют 2% объектов. Значения можно преобразовать с числовой тип, отбросив подстроку \"куб. см.\".\n",
    "8. **engine_strokes:** число тактов двигателя. Видим, что всего 2 разных значения, и что больше 85% мотоциклов обладают четырехтактным двигателем. Также имеем 8% пропусков. Можно попробовать заменить пропуски на \"4х тактный\", так как большинство двигателей именно такие, но можно и вообще не рассматривать этот столбец. На данном этапе пока оставим, лишь обрежем строку до одного числа, 2 или 4.\n",
    "9. **damaged:** состояние мотоцикла. Пропуски имеют 2%, и с большой уверенностью можно заполнить их значениями \"Исправен\", так как предполагается, что если мотоцикл сломан, то продавец об этом скорее всего сообщит заранее (если он добросовестный, конечно). Также значение \"Исправен\" можно закодировать под 0, а \"Неисправен\" - под 1.\n",
    "10. **documents:** наличие ПТС у продавца. Аналогично с прошлым столбцом, можно заполнить пропуски самым популярным вариантом и закодировать \"Есть ПТС\" как 0 и \"Без ПТС\" как 1.\n",
    "11. **city:** все объявления из одного города, не несет информации.\n",
    "12. **date:** как можно заметить из семпла, у некоторых объявлений есть информация о годе, а у некоторых нет. Те, у которых нет - объявления за 2018 год. Надо подправить это и дописать 2018 к этим датам."
   ]
  },
  {
   "cell_type": "markdown",
   "metadata": {},
   "source": [
    "<br>"
   ]
  },
  {
   "cell_type": "markdown",
   "metadata": {},
   "source": [
    "### 3. Предобработка данных"
   ]
  },
  {
   "cell_type": "code",
   "execution_count": null,
   "metadata": {},
   "outputs": [],
   "source": []
  }
 ],
 "metadata": {
  "kernelspec": {
   "display_name": "Python 3",
   "language": "python",
   "name": "python3"
  },
  "language_info": {
   "codemirror_mode": {
    "name": "ipython",
    "version": 3
   },
   "file_extension": ".py",
   "mimetype": "text/x-python",
   "name": "python",
   "nbconvert_exporter": "python",
   "pygments_lexer": "ipython3",
   "version": "3.6.5"
  }
 },
 "nbformat": 4,
 "nbformat_minor": 2
}
