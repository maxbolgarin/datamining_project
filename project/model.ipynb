{
 "cells": [
  {
   "cell_type": "markdown",
   "metadata": {},
   "source": [
    "# Оценка рыночной стоимости мотоцикла с пробегом"
   ]
  },
  {
   "cell_type": "markdown",
   "metadata": {},
   "source": [
    "## Выполнили: Болгарин Максим, Моисеенков Павел. BD-11"
   ]
  },
  {
   "cell_type": "markdown",
   "metadata": {},
   "source": [
    "<br>"
   ]
  },
  {
   "cell_type": "markdown",
   "metadata": {},
   "source": [
    "**Цель проекта:** проанализировать факторы, влияющие на рыночную стоимость подержанных мотоциклов, и научиться её предсказывать. Какую пользу можно вынести из этого простому человеку? Зная, как образуется стоимость мотоцикла, владелец подобного транспортного средства может подобрать подходящую для него цену для продажи. С другой стороны, будущий владелец сможет оценить адекватность заинтересовавшего его предложения."
   ]
  },
  {
   "cell_type": "markdown",
   "metadata": {},
   "source": [
    "**План выполнения:**\n",
    "1. Поиск данных, формирование датасета\n",
    "    * Скачивание и парсинг данных.\n",
    "    * Формирование датасета.\n",
    "2. Первичный анализ данных\n",
    "    * Изучение данных: определение смысла признаков, типов данных, наличия пропусков и т.д.\n",
    "3. Предобработка данных\n",
    "    * Очистка и отбор данных, выполнение необходимых преобразований.\n",
    "4. Применение моделей анализа данных для предсказания стоимости\n",
    "    * Тестирование нескольких простых моделей, сравнение качества, выбор baseline.\n",
    "    * Обучение и проверка модели, показывающей наилучшее качество.\n",
    "5. Вывод"
   ]
  },
  {
   "cell_type": "markdown",
   "metadata": {},
   "source": [
    "<br>"
   ]
  },
  {
   "cell_type": "markdown",
   "metadata": {},
   "source": [
    "### 1. Поиск данных, формирование датасета"
   ]
  },
  {
   "cell_type": "markdown",
   "metadata": {},
   "source": [
    "Источником данных послужил архив объявлений на сайте moto.drom.ru\n",
    "\n",
    "Всего было обработано около 11000 объявлений из Москвы, Санкт-Петербурга и прочих небольших городов. Скачивание производилось в [другом Jupyter Notebook](https://github.com/maxbolgarin/datamining_project/blob/master/project/parce.ipynb). На выходе мы имеем .csv файл, с ним нам и предстоит работать."
   ]
  },
  {
   "cell_type": "markdown",
   "metadata": {},
   "source": [
    "#### Подключим необходимые библиотеки"
   ]
  },
  {
   "cell_type": "code",
   "execution_count": 1,
   "metadata": {},
   "outputs": [],
   "source": [
    "%matplotlib inline\n",
    "import numpy as np\n",
    "import pandas as pd\n",
    "from datetime import datetime\n",
    "from scipy.stats import randint\n",
    "\n",
    "from sklearn.metrics import mean_squared_error\n",
    "from sklearn.preprocessing import StandardScaler\n",
    "from sklearn.model_selection import train_test_split\n",
    "from sklearn.model_selection import cross_val_score\n",
    "from sklearn.model_selection import validation_curve\n",
    "from sklearn.model_selection import RandomizedSearchCV\n",
    "from sklearn.model_selection import StratifiedKFold\n",
    "\n",
    "from sklearn.neighbors import KNeighborsRegressor\n",
    "from sklearn.linear_model import LinearRegression\n",
    "from sklearn.tree import DecisionTreeRegressor\n",
    "from sklearn.ensemble import RandomForestRegressor"
   ]
  },
  {
   "cell_type": "markdown",
   "metadata": {},
   "source": [
    "#### Теперь загрузим данные"
   ]
  },
  {
   "cell_type": "code",
   "execution_count": 2,
   "metadata": {},
   "outputs": [],
   "source": [
    "motorcycles = pd.read_csv('data/motorcycles.csv', index_col='id')"
   ]
  },
  {
   "cell_type": "code",
   "execution_count": 3,
   "metadata": {},
   "outputs": [
    {
     "data": {
      "text/html": [
       "<div>\n",
       "<style scoped>\n",
       "    .dataframe tbody tr th:only-of-type {\n",
       "        vertical-align: middle;\n",
       "    }\n",
       "\n",
       "    .dataframe tbody tr th {\n",
       "        vertical-align: top;\n",
       "    }\n",
       "\n",
       "    .dataframe thead th {\n",
       "        text-align: right;\n",
       "    }\n",
       "</style>\n",
       "<table border=\"1\" class=\"dataframe\">\n",
       "  <thead>\n",
       "    <tr style=\"text-align: right;\">\n",
       "      <th></th>\n",
       "      <th>price</th>\n",
       "      <th>model</th>\n",
       "      <th>mileage</th>\n",
       "      <th>motorcycle_class</th>\n",
       "      <th>year</th>\n",
       "      <th>engine_capacity</th>\n",
       "      <th>engine_strokes</th>\n",
       "      <th>damaged</th>\n",
       "      <th>documents</th>\n",
       "      <th>city</th>\n",
       "      <th>date</th>\n",
       "    </tr>\n",
       "    <tr>\n",
       "      <th>id</th>\n",
       "      <th></th>\n",
       "      <th></th>\n",
       "      <th></th>\n",
       "      <th></th>\n",
       "      <th></th>\n",
       "      <th></th>\n",
       "      <th></th>\n",
       "      <th></th>\n",
       "      <th></th>\n",
       "      <th></th>\n",
       "      <th></th>\n",
       "    </tr>\n",
       "  </thead>\n",
       "  <tbody>\n",
       "    <tr>\n",
       "      <th>6237</th>\n",
       "      <td>355 000₽</td>\n",
       "      <td>Husqvarna TC 125</td>\n",
       "      <td>1 км</td>\n",
       "      <td>None</td>\n",
       "      <td>2014</td>\n",
       "      <td>None</td>\n",
       "      <td>2х тактный</td>\n",
       "      <td>Исправен</td>\n",
       "      <td>Без ПТС</td>\n",
       "      <td>Москва</td>\n",
       "      <td>1 ноября 2014</td>\n",
       "    </tr>\n",
       "    <tr>\n",
       "      <th>1557</th>\n",
       "      <td>93 000₽</td>\n",
       "      <td>Yamaha FZX 250 Zeal</td>\n",
       "      <td>11 600 км</td>\n",
       "      <td>Классика</td>\n",
       "      <td>1991</td>\n",
       "      <td>250 куб. см.</td>\n",
       "      <td>4х тактный</td>\n",
       "      <td>Исправен</td>\n",
       "      <td>Есть ПТС</td>\n",
       "      <td>Электросталь</td>\n",
       "      <td>3 августа 2017</td>\n",
       "    </tr>\n",
       "    <tr>\n",
       "      <th>7475</th>\n",
       "      <td>300 000₽</td>\n",
       "      <td>Honda CBR 1000RR</td>\n",
       "      <td>7 800 км</td>\n",
       "      <td>None</td>\n",
       "      <td>2006</td>\n",
       "      <td>998 куб. см.</td>\n",
       "      <td>4х тактный</td>\n",
       "      <td>Исправен</td>\n",
       "      <td>Есть ПТС</td>\n",
       "      <td>Раменское</td>\n",
       "      <td>1 августа 2013</td>\n",
       "    </tr>\n",
       "    <tr>\n",
       "      <th>6737</th>\n",
       "      <td>179 900₽</td>\n",
       "      <td>Johnny Pag VENTURA 320i</td>\n",
       "      <td>1 км</td>\n",
       "      <td>Чоппер</td>\n",
       "      <td>2014</td>\n",
       "      <td>320 куб. см.</td>\n",
       "      <td>4х тактный</td>\n",
       "      <td>Исправен</td>\n",
       "      <td>Есть ПТС</td>\n",
       "      <td>Москва</td>\n",
       "      <td>22 мая 2014</td>\n",
       "    </tr>\n",
       "    <tr>\n",
       "      <th>3213</th>\n",
       "      <td>340 000₽</td>\n",
       "      <td>Kawasaki Ninja 300</td>\n",
       "      <td>None</td>\n",
       "      <td>None</td>\n",
       "      <td>2015</td>\n",
       "      <td>300 куб. см.</td>\n",
       "      <td>4х тактный</td>\n",
       "      <td>Исправен</td>\n",
       "      <td>Есть ПТС</td>\n",
       "      <td>Серпухов</td>\n",
       "      <td>8 октября 2016</td>\n",
       "    </tr>\n",
       "  </tbody>\n",
       "</table>\n",
       "</div>"
      ],
      "text/plain": [
       "         price                    model    mileage motorcycle_class  year  \\\n",
       "id                                                                          \n",
       "6237  355 000₽         Husqvarna TC 125       1 км             None  2014   \n",
       "1557   93 000₽      Yamaha FZX 250 Zeal  11 600 км         Классика  1991   \n",
       "7475  300 000₽         Honda CBR 1000RR   7 800 км             None  2006   \n",
       "6737  179 900₽  Johnny Pag VENTURA 320i       1 км           Чоппер  2014   \n",
       "3213  340 000₽       Kawasaki Ninja 300       None             None  2015   \n",
       "\n",
       "     engine_capacity engine_strokes   damaged documents          city  \\\n",
       "id                                                                      \n",
       "6237            None     2х тактный  Исправен   Без ПТС        Москва   \n",
       "1557    250 куб. см.     4х тактный  Исправен  Есть ПТС  Электросталь   \n",
       "7475    998 куб. см.     4х тактный  Исправен  Есть ПТС     Раменское   \n",
       "6737    320 куб. см.     4х тактный  Исправен  Есть ПТС        Москва   \n",
       "3213    300 куб. см.     4х тактный  Исправен  Есть ПТС      Серпухов   \n",
       "\n",
       "                date  \n",
       "id                    \n",
       "6237   1 ноября 2014  \n",
       "1557  3 августа 2017  \n",
       "7475  1 августа 2013  \n",
       "6737     22 мая 2014  \n",
       "3213  8 октября 2016  "
      ]
     },
     "execution_count": 3,
     "metadata": {},
     "output_type": "execute_result"
    }
   ],
   "source": [
    "motorcycles.sample(5)"
   ]
  },
  {
   "cell_type": "code",
   "execution_count": 4,
   "metadata": {},
   "outputs": [
    {
     "data": {
      "text/plain": [
       "(11488, 11)"
      ]
     },
     "execution_count": 4,
     "metadata": {},
     "output_type": "execute_result"
    }
   ],
   "source": [
    "motorcycles.shape"
   ]
  },
  {
   "cell_type": "markdown",
   "metadata": {},
   "source": [
    "Видим, что данные успешно загрузились и выглядят вполне адекватно. Можем работать дальше."
   ]
  },
  {
   "cell_type": "markdown",
   "metadata": {},
   "source": [
    "<br>"
   ]
  },
  {
   "cell_type": "markdown",
   "metadata": {},
   "source": [
    "### 2. Первичный анализ данных"
   ]
  },
  {
   "cell_type": "markdown",
   "metadata": {},
   "source": [
    "Посмотрим общую информацию по датасету:"
   ]
  },
  {
   "cell_type": "code",
   "execution_count": 5,
   "metadata": {
    "scrolled": true
   },
   "outputs": [
    {
     "name": "stdout",
     "output_type": "stream",
     "text": [
      "<class 'pandas.core.frame.DataFrame'>\n",
      "Int64Index: 11488 entries, 1 to 11783\n",
      "Data columns (total 11 columns):\n",
      "price               11488 non-null object\n",
      "model               11488 non-null object\n",
      "mileage             11488 non-null object\n",
      "motorcycle_class    11488 non-null object\n",
      "year                11488 non-null object\n",
      "engine_capacity     11488 non-null object\n",
      "engine_strokes      11488 non-null object\n",
      "damaged             11488 non-null object\n",
      "documents           11488 non-null object\n",
      "city                11488 non-null object\n",
      "date                11488 non-null object\n",
      "dtypes: object(11)\n",
      "memory usage: 1.1+ MB\n"
     ]
    }
   ],
   "source": [
    "motorcycles.info()"
   ]
  },
  {
   "cell_type": "code",
   "execution_count": 6,
   "metadata": {},
   "outputs": [
    {
     "data": {
      "text/plain": [
       "price               1250\n",
       "model               3156\n",
       "mileage             2506\n",
       "motorcycle_class      16\n",
       "year                  64\n",
       "engine_capacity      434\n",
       "engine_strokes         3\n",
       "damaged                3\n",
       "documents              3\n",
       "city                 116\n",
       "date                2518\n",
       "dtype: int64"
      ]
     },
     "execution_count": 6,
     "metadata": {},
     "output_type": "execute_result"
    }
   ],
   "source": [
    "motorcycles.nunique()"
   ]
  },
  {
   "cell_type": "code",
   "execution_count": 7,
   "metadata": {},
   "outputs": [
    {
     "data": {
      "text/plain": [
       "(11390, 11)"
      ]
     },
     "execution_count": 7,
     "metadata": {},
     "output_type": "execute_result"
    }
   ],
   "source": [
    "motorcycles.drop_duplicates().shape"
   ]
  },
  {
   "cell_type": "markdown",
   "metadata": {},
   "source": [
    "Теперь подробнее рассмотрим столбцы:"
   ]
  },
  {
   "cell_type": "markdown",
   "metadata": {},
   "source": [
    "**price:**"
   ]
  },
  {
   "cell_type": "code",
   "execution_count": 8,
   "metadata": {},
   "outputs": [
    {
     "data": {
      "text/plain": [
       "150 000₽           240\n",
       "200 000₽           218\n",
       "250 000₽           214\n",
       "300 000₽           192\n",
       "350 000₽           184\n",
       "120 000₽           172\n",
       "180 000₽           164\n",
       "220 000₽           153\n",
       "160 000₽           148\n",
       "230 000₽           147\n",
       "100 000₽           146\n",
       "140 000₽           143\n",
       "130 000₽           142\n",
       "110 000₽           141\n",
       "Цена не указана    134\n",
       "190 000₽           134\n",
       "170 000₽           130\n",
       "450 000₽           126\n",
       "210 000₽           119\n",
       "280 000₽           118\n",
       "165 000₽           117\n",
       "320 000₽           111\n",
       "90 000₽            110\n",
       "400 000₽           108\n",
       "240 000₽           102\n",
       "80 000₽             96\n",
       "50 000₽             95\n",
       "260 000₽            94\n",
       "135 000₽            90\n",
       "60 000₽             88\n",
       "                  ... \n",
       "73 900₽              1\n",
       "799 999₽             1\n",
       "83 970₽              1\n",
       "188 250₽             1\n",
       "2 520 000₽           1\n",
       "835 000₽             1\n",
       "1 620 000₽           1\n",
       "63 300₽              1\n",
       "77 990₽              1\n",
       "432 000₽             1\n",
       "371 997₽             1\n",
       "479 900₽             1\n",
       "597 000₽             1\n",
       "11 500₽              1\n",
       "599 999₽             1\n",
       "243 500₽             1\n",
       "47 960₽              1\n",
       "4 700 000₽           1\n",
       "79 998₽              1\n",
       "1 684 000₽           1\n",
       "600₽                 1\n",
       "727 000₽             1\n",
       "265₽                 1\n",
       "83 950₽              1\n",
       "568 000₽             1\n",
       "331 000₽             1\n",
       "44 000₽              1\n",
       "344 444₽             1\n",
       "663 000₽             1\n",
       "23 100₽              1\n",
       "Name: price, Length: 1250, dtype: int64"
      ]
     },
     "execution_count": 8,
     "metadata": {},
     "output_type": "execute_result"
    }
   ],
   "source": [
    "motorcycles.price.value_counts()"
   ]
  },
  {
   "cell_type": "markdown",
   "metadata": {},
   "source": [
    "**model:**"
   ]
  },
  {
   "cell_type": "code",
   "execution_count": 9,
   "metadata": {},
   "outputs": [
    {
     "data": {
      "text/plain": [
       "Yamaha YZF R6             162\n",
       "Honda CBR 600RR           110\n",
       "Honda CB 400SF            107\n",
       "Suzuki Boulevard M109R    107\n",
       "Kawasaki Ninja ZX-6R       91\n",
       "Yamaha YZF R1              83\n",
       "Yamaha FZ 6                82\n",
       "Yamaha                     80\n",
       "Name: model, dtype: int64"
      ]
     },
     "execution_count": 9,
     "metadata": {},
     "output_type": "execute_result"
    }
   ],
   "source": [
    "motorcycles.model.value_counts()[:8]"
   ]
  },
  {
   "cell_type": "markdown",
   "metadata": {},
   "source": [
    "**mileage:**"
   ]
  },
  {
   "cell_type": "code",
   "execution_count": 10,
   "metadata": {},
   "outputs": [
    {
     "data": {
      "text/plain": [
       "None         0.129439\n",
       "1 км         0.055710\n",
       "30 000 км    0.017584\n",
       "20 000 км    0.016104\n",
       "25 000 км    0.013057\n",
       "40 000 км    0.012013\n",
       "10 000 км    0.011490\n",
       "35 000 км    0.010794\n",
       "15 000 км    0.010010\n",
       "12 000 км    0.009749\n",
       "Name: mileage, dtype: float64"
      ]
     },
     "execution_count": 10,
     "metadata": {},
     "output_type": "execute_result"
    }
   ],
   "source": [
    "motorcycles.mileage.value_counts()[:10] / motorcycles.mileage.size"
   ]
  },
  {
   "cell_type": "markdown",
   "metadata": {},
   "source": [
    "**motorcycle_class:**"
   ]
  },
  {
   "cell_type": "code",
   "execution_count": 11,
   "metadata": {},
   "outputs": [
    {
     "data": {
      "text/plain": [
       "None               0.496431\n",
       "Чоппер             0.181581\n",
       "Классика           0.071901\n",
       "Спортивный         0.062326\n",
       "Спорт-турист       0.039171\n",
       "Эндуро             0.034645\n",
       "Круизер            0.034558\n",
       "Питбайк            0.022371\n",
       "Туристический      0.020717\n",
       "Кроссовый          0.011316\n",
       "Стритфайтер        0.010097\n",
       "Кастом             0.009488\n",
       "Мотард             0.002786\n",
       "Трайк (трицикл)    0.001306\n",
       "Детский            0.001219\n",
       "Триал              0.000087\n",
       "Name: motorcycle_class, dtype: float64"
      ]
     },
     "execution_count": 11,
     "metadata": {},
     "output_type": "execute_result"
    }
   ],
   "source": [
    "motorcycles.motorcycle_class.value_counts() / motorcycles.motorcycle_class.size"
   ]
  },
  {
   "cell_type": "markdown",
   "metadata": {},
   "source": [
    "**year:**"
   ]
  },
  {
   "cell_type": "code",
   "execution_count": 12,
   "metadata": {},
   "outputs": [
    {
     "data": {
      "text/plain": [
       "2014    0.065721\n",
       "2006    0.061368\n",
       "2008    0.060498\n",
       "2007    0.059018\n",
       "2013    0.054840\n",
       "2005    0.047180\n",
       "2003    0.045526\n",
       "2012    0.043698\n",
       "2002    0.040477\n",
       "2004    0.039432\n",
       "2009    0.038997\n",
       "2011    0.035864\n",
       "None    0.034819\n",
       "Name: year, dtype: float64"
      ]
     },
     "execution_count": 12,
     "metadata": {},
     "output_type": "execute_result"
    }
   ],
   "source": [
    "motorcycles.year.value_counts()[:13] / motorcycles.year.size"
   ]
  },
  {
   "cell_type": "markdown",
   "metadata": {},
   "source": [
    "**engine_capacity:**"
   ]
  },
  {
   "cell_type": "code",
   "execution_count": 13,
   "metadata": {},
   "outputs": [
    {
     "data": {
      "text/plain": [
       "400 куб. см.      0.102890\n",
       "600 куб. см.      0.101671\n",
       "250 куб. см.      0.083565\n",
       "1 000 куб. см.    0.049530\n",
       "650 куб. см.      0.047615\n",
       "1 300 куб. см.    0.039084\n",
       "750 куб. см.      0.037169\n",
       "1 200 куб. см.    0.032382\n",
       "125 куб. см.      0.028987\n",
       "1 800 куб. см.    0.027159\n",
       "1 100 куб. см.    0.025331\n",
       "800 куб. см.      0.024634\n",
       "200 куб. см.      0.019760\n",
       "None              0.019063\n",
       "Name: engine_capacity, dtype: float64"
      ]
     },
     "execution_count": 13,
     "metadata": {},
     "output_type": "execute_result"
    }
   ],
   "source": [
    "motorcycles.engine_capacity.value_counts()[:14] / motorcycles.engine_capacity.size"
   ]
  },
  {
   "cell_type": "markdown",
   "metadata": {},
   "source": [
    "**engine_strokes:**"
   ]
  },
  {
   "cell_type": "code",
   "execution_count": 14,
   "metadata": {},
   "outputs": [
    {
     "data": {
      "text/plain": [
       "4х тактный    0.841400\n",
       "None          0.099843\n",
       "2х тактный    0.058757\n",
       "Name: engine_strokes, dtype: float64"
      ]
     },
     "execution_count": 14,
     "metadata": {},
     "output_type": "execute_result"
    }
   ],
   "source": [
    "motorcycles.engine_strokes.value_counts() / motorcycles.engine_strokes.size"
   ]
  },
  {
   "cell_type": "markdown",
   "metadata": {},
   "source": [
    "**damaged:**"
   ]
  },
  {
   "cell_type": "code",
   "execution_count": 15,
   "metadata": {},
   "outputs": [
    {
     "data": {
      "text/plain": [
       "Исправен      0.969185\n",
       "None          0.017409\n",
       "Неисправен    0.013405\n",
       "Name: damaged, dtype: float64"
      ]
     },
     "execution_count": 15,
     "metadata": {},
     "output_type": "execute_result"
    }
   ],
   "source": [
    "motorcycles.damaged.value_counts() / motorcycles.damaged.size"
   ]
  },
  {
   "cell_type": "markdown",
   "metadata": {},
   "source": [
    "**documents:**"
   ]
  },
  {
   "cell_type": "code",
   "execution_count": 16,
   "metadata": {},
   "outputs": [
    {
     "data": {
      "text/plain": [
       "Есть ПТС    0.908687\n",
       "Без ПТС     0.089224\n",
       "None        0.002089\n",
       "Name: documents, dtype: float64"
      ]
     },
     "execution_count": 16,
     "metadata": {},
     "output_type": "execute_result"
    }
   ],
   "source": [
    "motorcycles.documents.value_counts() / motorcycles.documents.size"
   ]
  },
  {
   "cell_type": "markdown",
   "metadata": {},
   "source": [
    "**city:**"
   ]
  },
  {
   "cell_type": "code",
   "execution_count": 17,
   "metadata": {},
   "outputs": [
    {
     "data": {
      "text/plain": [
       "Москва             0.597580\n",
       "Санкт-Петербург    0.270021\n",
       "Серпухов           0.009053\n",
       "Подольск           0.004788\n",
       "Мытищи             0.004526\n",
       "Одинцово           0.003743\n",
       "Жуковский          0.003743\n",
       "Дмитров            0.003395\n",
       "Зеленоград         0.003221\n",
       "Пушкино            0.003134\n",
       "Name: city, dtype: float64"
      ]
     },
     "execution_count": 17,
     "metadata": {},
     "output_type": "execute_result"
    }
   ],
   "source": [
    "motorcycles.city.value_counts()[:10] / motorcycles.city.size"
   ]
  },
  {
   "cell_type": "markdown",
   "metadata": {},
   "source": [
    "**date:**"
   ]
  },
  {
   "cell_type": "code",
   "execution_count": 18,
   "metadata": {},
   "outputs": [
    {
     "data": {
      "text/plain": [
       "id\n",
       "5835          5 мая 2015\n",
       "7076      13 января 2014\n",
       "11637      5 апреля 2011\n",
       "7488        29 июля 2013\n",
       "435               4 июля\n",
       "665               17 мая\n",
       "6770         12 мая 2014\n",
       "1413     2 сентября 2017\n",
       "4852      5 декабря 2015\n",
       "9553     11 августа 2017\n",
       "Name: date, dtype: object"
      ]
     },
     "execution_count": 18,
     "metadata": {},
     "output_type": "execute_result"
    }
   ],
   "source": [
    "motorcycles.sample(10).date"
   ]
  },
  {
   "cell_type": "markdown",
   "metadata": {},
   "source": [
    "Пройдемся по столбцам и, на основе уже имеющейся информации, дадим им некоторое описание:\n",
    "1. **id:** просто порядковый номер мотоцикла, который вряд ли несет какую либо полезную информацию.\n",
    "2. **price:** цена мотоцикла, целевая переменная. Видим, что есть объекты со значением \"Цена не указана\". Их нам придется отбросить. Также можно заметить, что не у всех мотоциклов стоит адекватная цена (290₽ и т.п.). Такие объекты тоже скорее всего можно отбросить, так как они вряд ли составляют весомую долю от всех остальных. Также следует преобразовать стоимость в числовой тип, отбросив символ \"₽\".\n",
    "3. **model:** модель мотоцикла. Можно построить отдельный столбец **manufacturer**, в котором указывать только производителя, и рассматривать его как новое свойство.\n",
    "4. **mileage:** пробег мотоцикла. 13% имеют пропуски, возможно это из за того, что такие мотоциклы являются новыми. Было бы странно, если бы продавец не указывал хотя бы примерный пробег своего подержанного транспортного средства, ведь это является один из самых главных факторов при покупке. Так что заполним пропуски нулями. Также 5.6% имеют пробег \"1 км\", это странное значение можно тоже занулить. Значения стоит привести к числовым, отбросить подстроку \"км\".\n",
    "5. **motorcycle_class:** класс мотоцикла. Как видим, около 50% всех объектов не имеют информции о классе. Возможно, этот столбец придется убрать из рассмотрения, так как заполнить пропуски сложно без искажения реальной информации. Считать отсутстиве значения как свойство не имеет смысла, так как класс присущ каждому мотоциклу, и отстуствие информации об этом характеризует скорее не мотоцикл, а человека, составляющего объявление.\n",
    "6. **year:** год выпуска мотоцикла. Как видим, значения отсутсвуют лишь у 3.5% всех объявлений, что не значительно.\n",
    "7. **engine_capacity:** объем двигателя. Пропуски имеют 2% объектов. Значения можно преобразовать с числовой тип, отбросив подстроку \"куб. см.\".\n",
    "8. **engine_strokes:** число тактов двигателя. Видим, что всего 2 разных значения, и что больше 80% мотоциклов обладают четырехтактным двигателем. Также имеем 10% пропусков. Можно попробовать заменить пропуски на \"4х тактный\", так как большинство двигателей именно такие, и скорее всего продавец скорее всего знал бы, что у него особенный \"2х тактный\" двигатель, и указал бы это. Не думаю, что ошибка будет более 1% от общего количества. Также обрежем строку до одного числа, 2 или 4.\n",
    "9. **damaged:** состояние мотоцикла. Пропуски имеют 2%, и с большой уверенностью можно заполнить их значениями \"Исправен\", так как предполагается, что если мотоцикл сломан, то продавец об этом скорее всего сообщит заранее (если он добросовестный, конечно). Также значение \"Исправен\" можно закодировать под 0, а \"Неисправен\" - под 1.\n",
    "10. **documents:** наличие ПТС у продавца. Аналогично с прошлым столбцом, можно заполнить пропуски самым популярным вариантом и закодировать \"Есть ПТС\" как 0 и \"Без ПТС\" как 1.\n",
    "11. **city:** город, в котором продается мотоцикл. Пропусков нет.\n",
    "12. **date:** как можно заметить из семпла, у некоторых объявлений есть информация о годе, а у некоторых нет. Те, у которых нет - объявления за 2018 год. Надо подправить это и дописать 2018 к этим датам."
   ]
  },
  {
   "cell_type": "markdown",
   "metadata": {},
   "source": [
    "<br>"
   ]
  },
  {
   "cell_type": "markdown",
   "metadata": {},
   "source": [
    "### 3. Предобработка данных"
   ]
  },
  {
   "cell_type": "markdown",
   "metadata": {},
   "source": [
    "Для начала избавимся от повторяющихся значений и запомним изначальное число объявлений:"
   ]
  },
  {
   "cell_type": "code",
   "execution_count": 19,
   "metadata": {},
   "outputs": [],
   "source": [
    "motorcycles = motorcycles.drop_duplicates()\n",
    "number_of_motocycles = motorcycles.shape[0]"
   ]
  },
  {
   "cell_type": "markdown",
   "metadata": {},
   "source": [
    "Напишем функцию drop_none для упрощения работы:"
   ]
  },
  {
   "cell_type": "code",
   "execution_count": 20,
   "metadata": {},
   "outputs": [],
   "source": [
    "def drop_none(df):\n",
    "    return df.replace(to_replace='None', value=np.nan).dropna()"
   ]
  },
  {
   "cell_type": "markdown",
   "metadata": {},
   "source": [
    "Теперь произведем обработку слобцов в соответствии с замечаниями, данными выше.\n",
    "\n",
    "Начнем с преобразования целевого столбца **price**:"
   ]
  },
  {
   "cell_type": "code",
   "execution_count": 21,
   "metadata": {},
   "outputs": [
    {
     "name": "stderr",
     "output_type": "stream",
     "text": [
      "C:\\Users\\Overdrive\\Anaconda3\\lib\\site-packages\\ipykernel_launcher.py:5: RuntimeWarning: invalid value encountered in less\n",
      "  \"\"\"\n"
     ]
    }
   ],
   "source": [
    "motorcycles.price = drop_none(motorcycles.price)\n",
    "motorcycles = motorcycles[motorcycles.price != \"Цена не указана\"]\n",
    "motorcycles.price = motorcycles.price.str[:-1].replace(' ', '', regex=True).astype(np.int64)\n",
    "motorcycles.price = motorcycles.loc[motorcycles.price.values > 4999, 'price']\n",
    "motorcycles.price = motorcycles.loc[motorcycles.price.values < 10000001, 'price']"
   ]
  },
  {
   "cell_type": "markdown",
   "metadata": {},
   "source": [
    "Перейдем к столбцу **model**:"
   ]
  },
  {
   "cell_type": "code",
   "execution_count": 22,
   "metadata": {},
   "outputs": [
    {
     "data": {
      "text/plain": [
       "0.0010660033756773562"
      ]
     },
     "execution_count": 22,
     "metadata": {},
     "output_type": "execute_result"
    }
   ],
   "source": [
    "(motorcycles.model.shape[0] - drop_none(motorcycles.model).shape[0]) / motorcycles.model.shape[0]"
   ]
  },
  {
   "cell_type": "markdown",
   "metadata": {},
   "source": [
    "Как видим, None имеют один процент мотоциклов, поэтому отбросим их и создадим новый столбец **manufacturer**:"
   ]
  },
  {
   "cell_type": "code",
   "execution_count": 23,
   "metadata": {},
   "outputs": [],
   "source": [
    "motorcycles.model = drop_none(motorcycles.model)\n",
    "motorcycles['manufacturer'] = [item[0] if type(item) is list else item\n",
    "                               for item in motorcycles.model.str.split(' ').values]"
   ]
  },
  {
   "cell_type": "markdown",
   "metadata": {},
   "source": [
    "Преобразуем столбец **mileage**:"
   ]
  },
  {
   "cell_type": "code",
   "execution_count": 24,
   "metadata": {},
   "outputs": [],
   "source": [
    "motorcycles.mileage = motorcycles.mileage.str.replace(\"None\", \"0\")\n",
    "motorcycles.mileage = motorcycles.mileage.str.replace(\"1 км\", \"0\", regex=True)\n",
    "motorcycles.mileage = motorcycles.mileage.str.replace(\"км\", \"\", regex=True)\n",
    "motorcycles.mileage = motorcycles.mileage.str.replace(' ', '', regex=True).astype(np.int64)"
   ]
  },
  {
   "cell_type": "markdown",
   "metadata": {},
   "source": [
    "Как решили ранее, с **motorcycle_class** работать сложно, поэтому просто не будем рассматривать этот столбец."
   ]
  },
  {
   "cell_type": "code",
   "execution_count": 25,
   "metadata": {},
   "outputs": [],
   "source": [
    "motorcycles = motorcycles.drop(['motorcycle_class'], axis=1)"
   ]
  },
  {
   "cell_type": "markdown",
   "metadata": {},
   "source": [
    "Отбросим пропуски и преобразуем тип значений столбца **year** в integer:"
   ]
  },
  {
   "cell_type": "code",
   "execution_count": 26,
   "metadata": {},
   "outputs": [],
   "source": [
    "motorcycles.year = drop_none(motorcycles.year)\n",
    "motorcycles.year = motorcycles.year.dropna().astype(np.int32)"
   ]
  },
  {
   "cell_type": "markdown",
   "metadata": {},
   "source": [
    "На очереди **engine_capacity**:"
   ]
  },
  {
   "cell_type": "code",
   "execution_count": 27,
   "metadata": {},
   "outputs": [],
   "source": [
    "motorcycles.engine_capacity = drop_none(motorcycles.engine_capacity)\n",
    "motorcycles.engine_capacity = motorcycles.engine_capacity.str.replace(\"куб. см.\", '', regex=True)\n",
    "motorcycles.engine_capacity = motorcycles.engine_capacity.str.replace(' ', '', regex=True)\n",
    "motorcycles.engine_capacity = motorcycles.engine_capacity.dropna().astype(np.int64)"
   ]
  },
  {
   "cell_type": "markdown",
   "metadata": {},
   "source": [
    "В столбце **engine_strokes** заменим None на \"4х тактный\":"
   ]
  },
  {
   "cell_type": "code",
   "execution_count": 28,
   "metadata": {},
   "outputs": [],
   "source": [
    "motorcycles.engine_strokes = motorcycles.engine_strokes.str.replace(\"None\", \"4\", regex=True)\n",
    "motorcycles.engine_strokes = motorcycles.engine_strokes.str.replace(\"х тактный\", '', regex=True)\n",
    "motorcycles.engine_strokes = motorcycles.engine_strokes.dropna().astype(np.int64)"
   ]
  },
  {
   "cell_type": "markdown",
   "metadata": {},
   "source": [
    "Преобразуем **damaged**:"
   ]
  },
  {
   "cell_type": "code",
   "execution_count": 29,
   "metadata": {},
   "outputs": [],
   "source": [
    "motorcycles.damaged = motorcycles.damaged.str.replace(\"None\", \"0\", regex=True)\n",
    "motorcycles.damaged = motorcycles.damaged.str.replace(\"Исправен\", \"0\", regex=True)\n",
    "motorcycles.damaged = motorcycles.damaged.str.replace(\"Неисправен\", \"1\", regex=True)\n",
    "motorcycles.damaged = motorcycles.damaged.dropna().astype(np.int64)"
   ]
  },
  {
   "cell_type": "markdown",
   "metadata": {},
   "source": [
    "Аналогично **documents**:"
   ]
  },
  {
   "cell_type": "code",
   "execution_count": 30,
   "metadata": {},
   "outputs": [],
   "source": [
    "motorcycles.documents = motorcycles.documents.str.replace(\"None\", \"0\", regex=True)\n",
    "motorcycles.documents = motorcycles.documents.str.replace(\"Есть ПТС\", \"0\", regex=True)\n",
    "motorcycles.documents = motorcycles.documents.str.replace(\"Без ПТС\", \"1\", regex=True)\n",
    "motorcycles.documents = motorcycles.documents.dropna().astype(np.int64)"
   ]
  },
  {
   "cell_type": "markdown",
   "metadata": {},
   "source": [
    "Наконец, преобразуем столбец **date**. Сначала добавим год тем объектам, у которых его нет:"
   ]
  },
  {
   "cell_type": "code",
   "execution_count": 31,
   "metadata": {},
   "outputs": [],
   "source": [
    "motorcycles.date = [s + \" 2018\" if len(s.split()) == 2 else s for s in motorcycles.date.values]"
   ]
  },
  {
   "cell_type": "markdown",
   "metadata": {},
   "source": [
    "По хорошему, строки с датой надо бы привести к формату datetime. Однако, не совсем понятно, как работать с названиями месяцев на русском языке. Поэтому поменяем их на английский, а потом приведем значения к datetime:"
   ]
  },
  {
   "cell_type": "code",
   "execution_count": 32,
   "metadata": {},
   "outputs": [],
   "source": [
    "rus_eng_month = {\n",
    "    'января': 'January',\n",
    "    'февраля': 'February',\n",
    "    'марта': 'March',\n",
    "    'апреля': 'April',\n",
    "    'мая': 'May',\n",
    "    'июня': 'June',\n",
    "    'июля': 'July',\n",
    "    'августа': 'August',\n",
    "    'сентября': 'September',\n",
    "    'октября': 'October',\n",
    "    'ноября': 'November',\n",
    "    'декабря': 'December',  \n",
    "}\n",
    "\n",
    "dates = []\n",
    "for s in motorcycles.date.values:\n",
    "    temp_s = s.split()\n",
    "    dates.append(temp_s[0] + ' ' + rus_eng_month[temp_s[1]] + ' ' + temp_s[2])\n",
    "    \n",
    "motorcycles.date = [datetime.strptime(s, '%d %B %Y').strftime('%Y-%m-%d') for s in dates]\n",
    "motorcycles.date = pd.to_datetime(motorcycles.date.dropna()).dt.date"
   ]
  },
  {
   "cell_type": "markdown",
   "metadata": {},
   "source": [
    "Отбросим оставшиеся неопределенные значения:"
   ]
  },
  {
   "cell_type": "code",
   "execution_count": 33,
   "metadata": {},
   "outputs": [],
   "source": [
    "motorcycles = drop_none(motorcycles)\n",
    "motorcycles = motorcycles.dropna()"
   ]
  },
  {
   "cell_type": "markdown",
   "metadata": {},
   "source": [
    "Вот так теперь выглядит таблица:"
   ]
  },
  {
   "cell_type": "code",
   "execution_count": 34,
   "metadata": {},
   "outputs": [
    {
     "data": {
      "text/html": [
       "<div>\n",
       "<style scoped>\n",
       "    .dataframe tbody tr th:only-of-type {\n",
       "        vertical-align: middle;\n",
       "    }\n",
       "\n",
       "    .dataframe tbody tr th {\n",
       "        vertical-align: top;\n",
       "    }\n",
       "\n",
       "    .dataframe thead th {\n",
       "        text-align: right;\n",
       "    }\n",
       "</style>\n",
       "<table border=\"1\" class=\"dataframe\">\n",
       "  <thead>\n",
       "    <tr style=\"text-align: right;\">\n",
       "      <th></th>\n",
       "      <th>price</th>\n",
       "      <th>model</th>\n",
       "      <th>mileage</th>\n",
       "      <th>year</th>\n",
       "      <th>engine_capacity</th>\n",
       "      <th>engine_strokes</th>\n",
       "      <th>damaged</th>\n",
       "      <th>documents</th>\n",
       "      <th>city</th>\n",
       "      <th>date</th>\n",
       "      <th>manufacturer</th>\n",
       "    </tr>\n",
       "    <tr>\n",
       "      <th>id</th>\n",
       "      <th></th>\n",
       "      <th></th>\n",
       "      <th></th>\n",
       "      <th></th>\n",
       "      <th></th>\n",
       "      <th></th>\n",
       "      <th></th>\n",
       "      <th></th>\n",
       "      <th></th>\n",
       "      <th></th>\n",
       "      <th></th>\n",
       "    </tr>\n",
       "  </thead>\n",
       "  <tbody>\n",
       "    <tr>\n",
       "      <th>2864</th>\n",
       "      <td>995000.0</td>\n",
       "      <td>Honda GL 1800 ABS</td>\n",
       "      <td>60150</td>\n",
       "      <td>2009.0</td>\n",
       "      <td>1800.0</td>\n",
       "      <td>4</td>\n",
       "      <td>0</td>\n",
       "      <td>0</td>\n",
       "      <td>Москва</td>\n",
       "      <td>2017-02-07</td>\n",
       "      <td>Honda</td>\n",
       "    </tr>\n",
       "    <tr>\n",
       "      <th>2291</th>\n",
       "      <td>115000.0</td>\n",
       "      <td>Honda CB 750</td>\n",
       "      <td>42388</td>\n",
       "      <td>1992.0</td>\n",
       "      <td>750.0</td>\n",
       "      <td>4</td>\n",
       "      <td>0</td>\n",
       "      <td>0</td>\n",
       "      <td>Москва</td>\n",
       "      <td>2017-05-05</td>\n",
       "      <td>Honda</td>\n",
       "    </tr>\n",
       "    <tr>\n",
       "      <th>5991</th>\n",
       "      <td>35000.0</td>\n",
       "      <td>Irbis TTR 125</td>\n",
       "      <td>500</td>\n",
       "      <td>2013.0</td>\n",
       "      <td>125.0</td>\n",
       "      <td>4</td>\n",
       "      <td>0</td>\n",
       "      <td>1</td>\n",
       "      <td>Зеленоград</td>\n",
       "      <td>2015-03-30</td>\n",
       "      <td>Irbis</td>\n",
       "    </tr>\n",
       "    <tr>\n",
       "      <th>8698</th>\n",
       "      <td>153000.0</td>\n",
       "      <td>Honda CBR 600</td>\n",
       "      <td>67000</td>\n",
       "      <td>1993.0</td>\n",
       "      <td>600.0</td>\n",
       "      <td>4</td>\n",
       "      <td>0</td>\n",
       "      <td>0</td>\n",
       "      <td>Санкт-Петербург</td>\n",
       "      <td>2018-11-25</td>\n",
       "      <td>Honda</td>\n",
       "    </tr>\n",
       "    <tr>\n",
       "      <th>6481</th>\n",
       "      <td>140000.0</td>\n",
       "      <td>Honda CB 750</td>\n",
       "      <td>13000</td>\n",
       "      <td>1995.0</td>\n",
       "      <td>748.0</td>\n",
       "      <td>4</td>\n",
       "      <td>0</td>\n",
       "      <td>0</td>\n",
       "      <td>Москва</td>\n",
       "      <td>2014-07-22</td>\n",
       "      <td>Honda</td>\n",
       "    </tr>\n",
       "  </tbody>\n",
       "</table>\n",
       "</div>"
      ],
      "text/plain": [
       "         price              model  mileage    year  engine_capacity  \\\n",
       "id                                                                    \n",
       "2864  995000.0  Honda GL 1800 ABS    60150  2009.0           1800.0   \n",
       "2291  115000.0       Honda CB 750    42388  1992.0            750.0   \n",
       "5991   35000.0      Irbis TTR 125      500  2013.0            125.0   \n",
       "8698  153000.0      Honda CBR 600    67000  1993.0            600.0   \n",
       "6481  140000.0       Honda CB 750    13000  1995.0            748.0   \n",
       "\n",
       "      engine_strokes  damaged  documents             city        date  \\\n",
       "id                                                                      \n",
       "2864               4        0          0           Москва  2017-02-07   \n",
       "2291               4        0          0           Москва  2017-05-05   \n",
       "5991               4        0          1       Зеленоград  2015-03-30   \n",
       "8698               4        0          0  Санкт-Петербург  2018-11-25   \n",
       "6481               4        0          0           Москва  2014-07-22   \n",
       "\n",
       "     manufacturer  \n",
       "id                 \n",
       "2864        Honda  \n",
       "2291        Honda  \n",
       "5991        Irbis  \n",
       "8698        Honda  \n",
       "6481        Honda  "
      ]
     },
     "execution_count": 34,
     "metadata": {},
     "output_type": "execute_result"
    }
   ],
   "source": [
    "motorcycles.sample(5)"
   ]
  },
  {
   "cell_type": "code",
   "execution_count": 35,
   "metadata": {},
   "outputs": [
    {
     "name": "stdout",
     "output_type": "stream",
     "text": [
      "<class 'pandas.core.frame.DataFrame'>\n",
      "Int64Index: 10718 entries, 1 to 11783\n",
      "Data columns (total 11 columns):\n",
      "price              10718 non-null float64\n",
      "model              10718 non-null object\n",
      "mileage            10718 non-null int64\n",
      "year               10718 non-null float64\n",
      "engine_capacity    10718 non-null float64\n",
      "engine_strokes     10718 non-null int64\n",
      "damaged            10718 non-null int64\n",
      "documents          10718 non-null int64\n",
      "city               10718 non-null object\n",
      "date               10718 non-null object\n",
      "manufacturer       10718 non-null object\n",
      "dtypes: float64(3), int64(4), object(4)\n",
      "memory usage: 1004.8+ KB\n"
     ]
    }
   ],
   "source": [
    "motorcycles.info()"
   ]
  },
  {
   "cell_type": "markdown",
   "metadata": {},
   "source": [
    "Посмотрим, сколько осталось объектов после всех преобразований:"
   ]
  },
  {
   "cell_type": "code",
   "execution_count": 36,
   "metadata": {},
   "outputs": [
    {
     "name": "stdout",
     "output_type": "stream",
     "text": [
      "Было: 11390\n",
      "Осталось: 10718\n",
      "Датасет уменьшился на 5.9% от первоначального размера\n"
     ]
    }
   ],
   "source": [
    "print('Было: {}'.format(number_of_motocycles))\n",
    "print('Осталось: {}'.format(motorcycles.shape[0]))\n",
    "print('Датасет уменьшился на {:.3}% от первоначального размера'.format(\n",
    "    100*(number_of_motocycles - motorcycles.shape[0]) / number_of_motocycles)\n",
    "     )"
   ]
  },
  {
   "cell_type": "markdown",
   "metadata": {},
   "source": [
    "Как видим, после данных преобразований датасет уменьшился незначительно. Теперь обратим внимание на стобец **manufacturer**."
   ]
  },
  {
   "cell_type": "code",
   "execution_count": 37,
   "metadata": {},
   "outputs": [
    {
     "data": {
      "text/plain": [
       "Honda              2483\n",
       "Yamaha             1873\n",
       "Suzuki             1379\n",
       "Kawasaki           1016\n",
       "BMW                 436\n",
       "Harley-Davidson     412\n",
       "KTM                 196\n",
       "Ducati              164\n",
       "Irbis               121\n",
       "Stels               119\n",
       "HONDA               101\n",
       "Racer                87\n",
       "Kayo                 87\n",
       "YAMAHA               86\n",
       "Triumph              79\n",
       "Урал                 74\n",
       "Aprilia              67\n",
       "Baltmotors           52\n",
       "Иж                   47\n",
       "Ява                  45\n",
       "SUZUKI               36\n",
       "BSE                  35\n",
       "Victory              33\n",
       "Sym                  31\n",
       "Минск                28\n",
       "NO.                  28\n",
       "Днепр                27\n",
       "ABM                  26\n",
       "CBR                  22\n",
       "Wels                 21\n",
       "                   ... \n",
       "CBR600F4              1\n",
       "ZXR400R               1\n",
       "хонда-црф             1\n",
       "CD-400                1\n",
       "gsx500r               1\n",
       "S1000R                1\n",
       "VT250CR               1\n",
       "ява                   1\n",
       "AVM                   1\n",
       "WRE-125               1\n",
       "klr                   1\n",
       "скутер                1\n",
       "en600r                1\n",
       "CBR600F5              1\n",
       "FJR-A                 1\n",
       "Paxus                 1\n",
       "JAWA                  1\n",
       "BANDIT                1\n",
       "foresight             1\n",
       "KLE-500               1\n",
       "Alpha                 1\n",
       "Bars                  1\n",
       "el400                 1\n",
       "мини-чёпер            1\n",
       "cz                    1\n",
       "YBR-125               1\n",
       "Мотовездеход          1\n",
       "GasGas                1\n",
       "Такт-30               1\n",
       "SL                    1\n",
       "Name: manufacturer, Length: 709, dtype: int64"
      ]
     },
     "execution_count": 37,
     "metadata": {},
     "output_type": "execute_result"
    }
   ],
   "source": [
    "motorcycles.manufacturer.value_counts()"
   ]
  },
  {
   "cell_type": "markdown",
   "metadata": {},
   "source": [
    "Как можно заметить, встречаются одинаковые названия производителей, но написанные разным способом. Компьютер их различает как разных производителей, нам же надо преобразовать их к одному единому виду."
   ]
  },
  {
   "cell_type": "markdown",
   "metadata": {},
   "source": [
    "Если \"NO.\", то название производителя начинается с третьего слова в **model**:"
   ]
  },
  {
   "cell_type": "code",
   "execution_count": 38,
   "metadata": {},
   "outputs": [],
   "source": [
    "motorcycles.loc[motorcycles.manufacturer == \"NO.\", \"manufacturer\"] = \\\n",
    "            [item[2] for item in motorcycles[motorcycles.manufacturer == \"NO.\"].model.str.split().values]"
   ]
  },
  {
   "cell_type": "markdown",
   "metadata": {},
   "source": [
    "Honda $\\leftarrow$ HONDA, honda, ХОНДА, Хонда, CBR, CB, CB400"
   ]
  },
  {
   "cell_type": "code",
   "execution_count": 39,
   "metadata": {},
   "outputs": [],
   "source": [
    "motorcycles.manufacturer = motorcycles.manufacturer.str.replace(\"HONDA\", \"Honda\", regex=True)\n",
    "motorcycles.manufacturer = motorcycles.manufacturer.str.replace(\"ХОНДА\", \"Honda\", regex=True)\n",
    "motorcycles.manufacturer = motorcycles.manufacturer.str.replace(\"Хонда\", \"Honda\", regex=True)\n",
    "motorcycles.manufacturer = motorcycles.manufacturer.str.replace(\"honda\", \"Honda\", regex=True)\n",
    "motorcycles.loc[motorcycles.manufacturer == \"CBR\", \"manufacturer\"] = \"Honda\"\n",
    "motorcycles.loc[motorcycles.manufacturer == \"CB\", \"manufacturer\"] = \"Honda\"\n",
    "motorcycles.loc[motorcycles.manufacturer == \"CB400\", \"manufacturer\"] = \"Honda\"\n",
    "motorcycles.manufacturer = motorcycles.manufacturer.str.replace(\"CBR\", \"Honda\", regex=True)\n",
    "motorcycles.manufacturer = motorcycles.manufacturer.str.replace(\"CB\", \"Honda\", regex=True)\n",
    "motorcycles.manufacturer = motorcycles.manufacturer.str.replace(\"CB400\", \"Honda\", regex=True)"
   ]
  },
  {
   "cell_type": "markdown",
   "metadata": {},
   "source": [
    "Yamaha $\\leftarrow$ YAMAHA, yamaha"
   ]
  },
  {
   "cell_type": "code",
   "execution_count": 40,
   "metadata": {},
   "outputs": [],
   "source": [
    "motorcycles.manufacturer = motorcycles.manufacturer.str.replace(\"YAMAHA\", \"Yamaha\", regex=True)\n",
    "motorcycles.manufacturer = motorcycles.manufacturer.str.replace(\"yamaha\", \"Yamaha\", regex=True)"
   ]
  },
  {
   "cell_type": "markdown",
   "metadata": {},
   "source": [
    "Harley-Davidson $\\leftarrow$ Harleu-Davidson, HARLEY-DAVIDSON, Харли, Harley, Harley-Davidson, Harley-Davidson"
   ]
  },
  {
   "cell_type": "code",
   "execution_count": 41,
   "metadata": {},
   "outputs": [],
   "source": [
    "motorcycles.manufacturer = motorcycles.manufacturer.str.replace(\"Harleu-Davidson\", \"Harley-Davidson\", regex=True)\n",
    "motorcycles.manufacturer = motorcycles.manufacturer.str.replace(\"HARLEY-DAVIDSON\", \"Harley-Davidson\", regex=True)\n",
    "motorcycles.manufacturer = motorcycles.manufacturer.str.replace(\"Харли\", \"Harley-Davidson\", regex=True)\n",
    "motorcycles.manufacturer = motorcycles.manufacturer.str.replace(\"Harley-Davidson\", \"Harley-Davidson\", regex=True)\n",
    "motorcycles.loc[motorcycles.manufacturer == \"Harley\", \"manufacturer\"] = \"Harley-Davidson\""
   ]
  },
  {
   "cell_type": "markdown",
   "metadata": {},
   "source": [
    "Kawasaki $\\leftarrow$ KAWASAKI, КАВАСАКИ, Кавасаки, кавасаки, kawasaki"
   ]
  },
  {
   "cell_type": "code",
   "execution_count": 42,
   "metadata": {},
   "outputs": [],
   "source": [
    "motorcycles.manufacturer = motorcycles.manufacturer.str.replace(\"KAWASAKI\", \"Kawasaki\", regex=True)\n",
    "motorcycles.manufacturer = motorcycles.manufacturer.str.replace(\"КАВАСАКИ\", \"Kawasaki\", regex=True)\n",
    "motorcycles.manufacturer = motorcycles.manufacturer.str.replace(\"Кавасаки\", \"Kawasaki\", regex=True)\n",
    "motorcycles.manufacturer = motorcycles.manufacturer.str.replace(\"кавасаки\", \"Kawasaki\", regex=True)\n",
    "motorcycles.manufacturer = motorcycles.manufacturer.str.replace(\"kawasaki\", \"Kawasaki\", regex=True)"
   ]
  },
  {
   "cell_type": "markdown",
   "metadata": {},
   "source": [
    "Suzuki $\\leftarrow$ сузуки, suzuki, SUZUKI, Сузуки"
   ]
  },
  {
   "cell_type": "code",
   "execution_count": 43,
   "metadata": {},
   "outputs": [],
   "source": [
    "motorcycles.manufacturer = motorcycles.manufacturer.str.replace(\"сузуки\", \"Suzuki\", regex=True)\n",
    "motorcycles.manufacturer = motorcycles.manufacturer.str.replace(\"suzuki\", \"Suzuki\", regex=True)\n",
    "motorcycles.manufacturer = motorcycles.manufacturer.str.replace(\"Сузуки\", \"Suzuki\", regex=True)\n",
    "motorcycles.manufacturer = motorcycles.manufacturer.str.replace(\"SUZUKI\", \"Suzuki\", regex=True)"
   ]
  },
  {
   "cell_type": "markdown",
   "metadata": {},
   "source": [
    "Ява $\\leftarrow$ ЯВА"
   ]
  },
  {
   "cell_type": "code",
   "execution_count": 44,
   "metadata": {},
   "outputs": [],
   "source": [
    "motorcycles.manufacturer = motorcycles.manufacturer.str.replace(\"ЯВА\", \"Ява\", regex=True)"
   ]
  },
  {
   "cell_type": "markdown",
   "metadata": {},
   "source": [
    "Иж $\\leftarrow$ ИЖ, иж, ИЖ-49, Иж-49"
   ]
  },
  {
   "cell_type": "code",
   "execution_count": 45,
   "metadata": {},
   "outputs": [],
   "source": [
    "motorcycles.manufacturer = motorcycles.manufacturer.str.replace(\"ИЖ\", \"Иж\", regex=True)\n",
    "motorcycles.manufacturer = motorcycles.manufacturer.str.replace(\"иж\", \"Иж\", regex=True)\n",
    "motorcycles.manufacturer = motorcycles.manufacturer.str.replace(\"ИЖ-49\", \"Иж\", regex=True)\n",
    "motorcycles.manufacturer = motorcycles.manufacturer.str.replace(\"Иж-49\", \"Иж\", regex=True)"
   ]
  },
  {
   "cell_type": "markdown",
   "metadata": {},
   "source": [
    "Triumph $\\leftarrow$ triumph, TRIUMPH"
   ]
  },
  {
   "cell_type": "code",
   "execution_count": 46,
   "metadata": {},
   "outputs": [],
   "source": [
    "motorcycles.manufacturer = motorcycles.manufacturer.str.replace(\"triumph\", \"Triumph\", regex=True)\n",
    "motorcycles.manufacturer = motorcycles.manufacturer.str.replace(\"TRIUMPH\", \"Triumph\", regex=True)"
   ]
  },
  {
   "cell_type": "markdown",
   "metadata": {},
   "source": [
    "Ducati $\\leftarrow$ DUCATI"
   ]
  },
  {
   "cell_type": "code",
   "execution_count": 47,
   "metadata": {},
   "outputs": [],
   "source": [
    "motorcycles.manufacturer = motorcycles.manufacturer.str.replace(\"DUCATI\", \"Ducati\", regex=True)"
   ]
  },
  {
   "cell_type": "markdown",
   "metadata": {},
   "source": [
    "Теперь самым редким производителям дадим метку Other:"
   ]
  },
  {
   "cell_type": "code",
   "execution_count": 48,
   "metadata": {
    "scrolled": false
   },
   "outputs": [
    {
     "data": {
      "text/plain": [
       "Honda              2655\n",
       "Yamaha             1971\n",
       "Other              1516\n",
       "Suzuki             1419\n",
       "Kawasaki           1031\n",
       "BMW                 442\n",
       "Harley-Davidson     420\n",
       "KTM                 196\n",
       "Ducati              168\n",
       "Irbis               121\n",
       "Stels               119\n",
       "Triumph              93\n",
       "Kayo                 87\n",
       "Racer                87\n",
       "Урал                 74\n",
       "Aprilia              67\n",
       "Иж                   54\n",
       "Baltmotors           52\n",
       "Ява                  47\n",
       "BSE                  35\n",
       "Victory              33\n",
       "Sym                  31\n",
       "Name: manufacturer, dtype: int64"
      ]
     },
     "execution_count": 48,
     "metadata": {},
     "output_type": "execute_result"
    }
   ],
   "source": [
    "names = [motorcycles.manufacturer.value_counts().index[i] \n",
    "         if m < 30 else None for i, m in enumerate(motorcycles.manufacturer.value_counts())]\n",
    "names = np.array(names)\n",
    "names = names[names != np.array(None)]\n",
    "\n",
    "for moto in motorcycles.manufacturer.values:\n",
    "    if moto in names:\n",
    "        motorcycles.loc[motorcycles.manufacturer == moto, \"manufacturer\"] = \"Other\"\n",
    "        \n",
    "motorcycles.manufacturer.value_counts()"
   ]
  },
  {
   "cell_type": "markdown",
   "metadata": {},
   "source": [
    "Теперь у нас есть неплохая информация о производителях. Можно отбросить столбец с моделями, так как нам не нужна излишняя информация:"
   ]
  },
  {
   "cell_type": "code",
   "execution_count": 49,
   "metadata": {},
   "outputs": [],
   "source": [
    "motorcycles = motorcycles.drop([\"model\"], axis=1)"
   ]
  },
  {
   "cell_type": "markdown",
   "metadata": {},
   "source": [
    "Осталось сделать некоторые преобразования со столбцом **city**:"
   ]
  },
  {
   "cell_type": "code",
   "execution_count": 50,
   "metadata": {},
   "outputs": [
    {
     "data": {
      "text/plain": [
       "Москва             6353\n",
       "Санкт-Петербург    2956\n",
       "Другой              832\n",
       "Серпухов            101\n",
       "Подольск             52\n",
       "Мытищи               47\n",
       "Жуковский            42\n",
       "Одинцово             40\n",
       "Егорьевск            36\n",
       "Дмитров              36\n",
       "Пушкино              35\n",
       "Зеленоград           34\n",
       "Ногинск              32\n",
       "Коломна              32\n",
       "Раменское            30\n",
       "Щелково              30\n",
       "Домодедово           30\n",
       "Name: city, dtype: int64"
      ]
     },
     "execution_count": 50,
     "metadata": {},
     "output_type": "execute_result"
    }
   ],
   "source": [
    "cities = [motorcycles.city.value_counts().index[i] \n",
    "         if m < 30 else None for i, m in enumerate(motorcycles.city.value_counts())]\n",
    "\n",
    "cities = np.array(cities)\n",
    "cities = cities[cities != np.array(None)]\n",
    "\n",
    "for city in motorcycles.city.values:\n",
    "    if city in cities:\n",
    "        motorcycles.loc[motorcycles.city == city, \"city\"] = \"Другой\"\n",
    "        \n",
    "motorcycles.city.value_counts()"
   ]
  },
  {
   "cell_type": "markdown",
   "metadata": {},
   "source": [
    "Предварительная обработка данных закончена. Теперь можем приступать к анализу датасета и построению моделей."
   ]
  },
  {
   "cell_type": "markdown",
   "metadata": {},
   "source": [
    "<br>"
   ]
  },
  {
   "cell_type": "markdown",
   "metadata": {},
   "source": [
    "### 4. Применение моделей анализа данных для предсказания стоимости"
   ]
  },
  {
   "cell_type": "markdown",
   "metadata": {},
   "source": [
    "Перед использованием данных в модели необходимо закодировать категориальные переменные. Для этого используем одход one-hot encoding. Для избежания эффекта мультиколлинеарности выкинем самое популярное значение (мы можем закодировать g вариантов g-1 one-hot признаками без потери информации):"
   ]
  },
  {
   "cell_type": "code",
   "execution_count": 51,
   "metadata": {},
   "outputs": [],
   "source": [
    "motorcycles = pd.concat([motorcycles,\n",
    "                         pd.get_dummies(motorcycles.loc[motorcycles.manufacturer != 'Honda', \n",
    "                                                        'manufacturer'])], axis=1)\n",
    "\n",
    "motorcycles = pd.concat([motorcycles,\n",
    "                         pd.get_dummies(motorcycles.loc[motorcycles.city != 'Москва', \n",
    "                                                        'city'])], axis=1)\n",
    "\n",
    "motorcycles = motorcycles.drop(['manufacturer'], axis=1)\n",
    "motorcycles = motorcycles.drop(['city'], axis=1)\n",
    "motorcycles = motorcycles.fillna(value=0)"
   ]
  },
  {
   "cell_type": "markdown",
   "metadata": {},
   "source": [
    "Также необходимо преобразовать дату. В качестве baseline даты выберем саммую раннюю в датасете, и от нее будет отсчитывать число прошедших дней."
   ]
  },
  {
   "cell_type": "code",
   "execution_count": 52,
   "metadata": {},
   "outputs": [],
   "source": [
    "baseline_date = motorcycles.tail(1).date.values\n",
    "date_code = []\n",
    "for date in motorcycles.date.values:\n",
    "    date_code.append((date - baseline_date)[0].days)\n",
    "    \n",
    "motorcycles['date_code'] = date_code\n",
    "motorcycles = motorcycles.drop(['date'], axis=1)"
   ]
  },
  {
   "cell_type": "markdown",
   "metadata": {},
   "source": [
    "Теперь датасет готов для применения в моделях. Разобъем его на обучающую и тестовую выборки и стандартизуем:"
   ]
  },
  {
   "cell_type": "code",
   "execution_count": 53,
   "metadata": {},
   "outputs": [],
   "source": [
    "X_train, X_test, y_train, y_test = train_test_split(motorcycles.drop(['price'], axis=1), \n",
    "                                                    motorcycles.price, test_size=0.25, \n",
    "                                                    random_state=42)\n",
    "\n",
    "scaler = StandardScaler()\n",
    "scaler.fit(X_train)\n",
    "X_train_scaled = scaler.transform(X_train)\n",
    "X_test_scaled = scaler.transform(X_test)"
   ]
  },
  {
   "cell_type": "markdown",
   "metadata": {},
   "source": [
    "Определим две функции для вычисления качества модели. Первая будет просто рассчитывать RMSE, вторая же - проводить кросс-валидацию. Так как мы решаем задачу регрессии, то в качестве метрики качества для кросс валидации будет использоваться коэффициент детерминации ($R^2$ score)."
   ]
  },
  {
   "cell_type": "markdown",
   "metadata": {},
   "source": [
    "Пара слов об $R^2$ score. Для приемлемых моделей предполагается, что коэффициент детерминации должен быть хотя бы не меньше 50 % (в этом случае коэффициент множественной корреляции превышает по модулю 70 %). Модели с коэффициентом детерминации выше 80 % можно признать достаточно хорошими (коэффициент корреляции превышает 90 %). Значение коэффициента детерминации 1 означает функциональную зависимость между переменными. В общем случае коэффициент детерминации может быть и отрицательным, это говорит о крайней неадекватности модели: простое среднее приближает лучше.\n",
    "\n",
    "$$ R^2 = 1 - \\frac{\\sum_{i=1}^{n}(y_i - \\hat{y_i})^2}{\\sum_{i=1}^{n}(y_i - \\bar{y_i})^2} = 1 - \\frac{\\sum_{i=1}^{n}(y_i - \\hat{y_i})^2}{n\\hat{\\sigma_y}^2}, \\:\\: \\bar{y} = \\frac{1}{n}\\sum_{i=1}^n y_i $$"
   ]
  },
  {
   "cell_type": "code",
   "execution_count": 54,
   "metadata": {},
   "outputs": [],
   "source": [
    "def test_model(model, X_train, y_train, X_test=None, y_test=None, model_name=''):\n",
    "    model.fit(X_train, y_train)\n",
    "    prediction = model.predict(X_train)\n",
    "    rmse = np.sqrt(mean_squared_error(y_train, prediction))\n",
    "    print(\"{} train RMSE: {:.3f}\".format(model_name, rmse))\n",
    "    \n",
    "    if X_test is not None and y_test is not None:\n",
    "        prediction_test = model.predict(X_test)\n",
    "        rmse_test = np.sqrt(mean_squared_error(y_test, prediction_test))\n",
    "        print(\"{} test RMSE: {:.3f}\".format(model_name, rmse_test))"
   ]
  },
  {
   "cell_type": "code",
   "execution_count": 55,
   "metadata": {},
   "outputs": [],
   "source": [
    "def model_score(model, X_train, y_train, cv=5, model_name='', scoring='r2'):\n",
    "    scores = cross_val_score(model, X_train, y=y_train, cv=cv, scoring=scoring)\n",
    "    print(\"{} {} score: {:.2f} (+/- {:.2f})\".format(model_name, scoring, scores.mean(), scores.std()*2))"
   ]
  },
  {
   "cell_type": "markdown",
   "metadata": {},
   "source": [
    "Попробуем разные модели для решения задач регрессии. Использовать будем готовые реализации из библиотеки sklearn."
   ]
  },
  {
   "cell_type": "markdown",
   "metadata": {},
   "source": [
    "**K-ближайших соседей**:"
   ]
  },
  {
   "cell_type": "code",
   "execution_count": 56,
   "metadata": {},
   "outputs": [
    {
     "name": "stdout",
     "output_type": "stream",
     "text": [
      "kNN train RMSE: 158949.680\n",
      "kNN test RMSE: 193216.615\n",
      "kNN r2 score: 0.47 (+/- 0.08)\n"
     ]
    }
   ],
   "source": [
    "model_knn = KNeighborsRegressor()\n",
    "\n",
    "test_model(model_knn, X_train_scaled, y_train, X_test_scaled, y_test, model_name='kNN')\n",
    "model_score(model_knn, X_train_scaled, y_train, model_name='kNN')"
   ]
  },
  {
   "cell_type": "markdown",
   "metadata": {},
   "source": [
    "**Линейная регрессия**:"
   ]
  },
  {
   "cell_type": "code",
   "execution_count": 57,
   "metadata": {},
   "outputs": [
    {
     "name": "stdout",
     "output_type": "stream",
     "text": [
      "Linear train RMSE: 218503.426\n",
      "Linear test RMSE: 221092.340\n",
      "Linear r2 score: 0.37 (+/- 0.07)\n"
     ]
    }
   ],
   "source": [
    "model_linear = LinearRegression()\n",
    "\n",
    "test_model(model_linear, X_train_scaled, y_train, X_test_scaled, y_test, model_name='Linear')\n",
    "model_score(model_linear, X_train_scaled, y_train, model_name='Linear')"
   ]
  },
  {
   "cell_type": "markdown",
   "metadata": {},
   "source": [
    "**Дерево решений**:"
   ]
  },
  {
   "cell_type": "code",
   "execution_count": 58,
   "metadata": {},
   "outputs": [
    {
     "name": "stdout",
     "output_type": "stream",
     "text": [
      "Tree train RMSE: 86558.139\n",
      "Tree test RMSE: 190568.800\n",
      "Tree r2 score: 0.55 (+/- 0.25)\n"
     ]
    }
   ],
   "source": [
    "model_tree = DecisionTreeRegressor(max_depth=10)\n",
    "\n",
    "test_model(model_tree, X_train, y_train, X_test, y_test, model_name='Tree')\n",
    "model_score(model_tree, X_train, y_train, model_name='Tree')"
   ]
  },
  {
   "cell_type": "markdown",
   "metadata": {},
   "source": [
    "**Случайный лес**:"
   ]
  },
  {
   "cell_type": "code",
   "execution_count": 59,
   "metadata": {},
   "outputs": [
    {
     "name": "stdout",
     "output_type": "stream",
     "text": [
      "Forest train RMSE: 64734.174\n",
      "Forest test RMSE: 164980.858\n",
      "Forest r2 score: 0.71 (+/- 0.08)\n"
     ]
    }
   ],
   "source": [
    "model_forest = RandomForestRegressor()\n",
    "\n",
    "test_model(model_forest, X_train, y_train, X_test, y_test, model_name='Forest')\n",
    "model_score(model_forest, X_train, y_train, model_name='Forest')"
   ]
  },
  {
   "cell_type": "markdown",
   "metadata": {},
   "source": [
    "Как видим, наилучший результат показал случайный лес (что вполне логично), поэтому в качестве рабочей модели будем использовать именно его."
   ]
  },
  {
   "cell_type": "markdown",
   "metadata": {},
   "source": [
    "Для того, чтобы добиться наилучшего результата, необходимо провести подбор оптимальных гиперпараметров модели. Для этого будем использовать случайный поиск:"
   ]
  },
  {
   "cell_type": "code",
   "execution_count": 60,
   "metadata": {},
   "outputs": [],
   "source": [
    "param_grid = {\n",
    "    'criterion': ['mse', 'mae'],\n",
    "    'max_depth': randint(6, 20),\n",
    "    'min_samples_leaf': randint(1, 5),\n",
    "    'max_features': ['auto', 'sqrt', 'log2'] }\n",
    "\n",
    "n_iter = 200\n",
    "\n",
    "model = RandomForestRegressor()\n",
    "random_search = RandomizedSearchCV(model, param_distributions=param_grid, n_iter=n_iter,\n",
    "                                   n_jobs=2, cv=5, scoring='r2')\n",
    "random_search = random_search.fit(X_train, y_train)"
   ]
  },
  {
   "cell_type": "markdown",
   "metadata": {},
   "source": [
    "Наилучшие параметры:"
   ]
  },
  {
   "cell_type": "code",
   "execution_count": 61,
   "metadata": {},
   "outputs": [
    {
     "data": {
      "text/plain": [
       "{'criterion': 'mse',\n",
       " 'max_depth': 9,\n",
       " 'max_features': 'auto',\n",
       " 'min_samples_leaf': 1}"
      ]
     },
     "execution_count": 61,
     "metadata": {},
     "output_type": "execute_result"
    }
   ],
   "source": [
    "random_search.best_params_"
   ]
  },
  {
   "cell_type": "markdown",
   "metadata": {},
   "source": [
    "Наилучший достигнутый score:"
   ]
  },
  {
   "cell_type": "code",
   "execution_count": 62,
   "metadata": {},
   "outputs": [
    {
     "data": {
      "text/plain": [
       "0.7284887129167079"
      ]
     },
     "execution_count": 62,
     "metadata": {},
     "output_type": "execute_result"
    }
   ],
   "source": [
    "random_search.best_score_"
   ]
  },
  {
   "cell_type": "markdown",
   "metadata": {},
   "source": [
    "Выберем модель с наилучшими параметрами:"
   ]
  },
  {
   "cell_type": "code",
   "execution_count": 63,
   "metadata": {},
   "outputs": [],
   "source": [
    "best_model = random_search.best_estimator_"
   ]
  }
 ],
 "metadata": {
  "kernelspec": {
   "display_name": "Python 3",
   "language": "python",
   "name": "python3"
  },
  "language_info": {
   "codemirror_mode": {
    "name": "ipython",
    "version": 3
   },
   "file_extension": ".py",
   "mimetype": "text/x-python",
   "name": "python",
   "nbconvert_exporter": "python",
   "pygments_lexer": "ipython3",
   "version": "3.6.5"
  }
 },
 "nbformat": 4,
 "nbformat_minor": 2
}
