{
 "cells": [
  {
   "cell_type": "markdown",
   "metadata": {},
   "source": [
    "# Оценка рыночной стоимости мотоцикла с пробегом"
   ]
  },
  {
   "cell_type": "markdown",
   "metadata": {},
   "source": [
    "## Выполнили: Болгарин Максим, Моисеенков Павел. BD-11"
   ]
  },
  {
   "cell_type": "markdown",
   "metadata": {},
   "source": [
    "<br>"
   ]
  },
  {
   "cell_type": "markdown",
   "metadata": {},
   "source": [
    "**Цель проекта:** проанализировать факторы, влияющие на рыночную стоимость подержанных мотоциклов, и научиться её предсказывать. Какую пользу можно вынести из этого простому человеку? Зная, как образуется стоимость мотоцикла, владелец подобного транспортного средства может подобрать подходящую для него цену для продажи. С другой стороны, будущий владелец сможет оценить адекватность заинтересовавшего его предложения."
   ]
  },
  {
   "cell_type": "markdown",
   "metadata": {},
   "source": [
    "**План выполнения:**\n",
    "1. Поиск данных, формирование датасета\n",
    "    * Скачивание и парсинг данных.\n",
    "    * Формирование датасета.\n",
    "2. Первичный анализ данных\n",
    "    * Изучение данных: определение смысла признаков, типов данных, наличия пропусков и т.д.\n",
    "3. Предобработка данных\n",
    "    * Очистка и отбор данных, выполнение необходимых преобразований.\n",
    "4. Визуальный анализ данных\n",
    "    * Поиск скрытых особенностей в данных, анализ корреляций.\n",
    "5. Применение моделей анализа данных для предсказания стоимости\n",
    "    * Тестирование нескольких простых моделей, сравнение качества, выбор baseline.\n",
    "    * Обучение и проверка модели, показывающей наилучшее качество.\n",
    "6. Вывод"
   ]
  },
  {
   "cell_type": "markdown",
   "metadata": {},
   "source": [
    "<br>"
   ]
  },
  {
   "cell_type": "markdown",
   "metadata": {},
   "source": [
    "### 1. Поиск данных, формирование датасета"
   ]
  },
  {
   "cell_type": "markdown",
   "metadata": {},
   "source": [
    "Источником данных послужил архив объявлений на сайте moto.drom.ru\n",
    "\n",
    "Всего было обработано около 7000 объявлений из Москвы. Скачивание производилось в [другом Jupyter Notebook](https://github.com/maxbolgarin/datamining_project/blob/master/project/parce.ipynb). На выходе мы имеем .csv файл, с ним нам и предстоит работать."
   ]
  },
  {
   "cell_type": "markdown",
   "metadata": {},
   "source": [
    "#### Подключим необходимые библиотеки"
   ]
  },
  {
   "cell_type": "code",
   "execution_count": 119,
   "metadata": {},
   "outputs": [],
   "source": [
    "%matplotlib inline\n",
    "import numpy as np\n",
    "import pandas as pd\n",
    "from datetime import datetime\n",
    "import matplotlib.pyplot as plt \n",
    "\n",
    "import statsmodels.api as sm\n",
    "from pylab import rcParams\n",
    "\n",
    "import seaborn as sns"
   ]
  },
  {
   "cell_type": "markdown",
   "metadata": {},
   "source": [
    "#### Теперь загрузим данные"
   ]
  },
  {
   "cell_type": "code",
   "execution_count": 120,
   "metadata": {},
   "outputs": [],
   "source": [
    "motorcycles = pd.read_csv('data/motorcycles.csv', index_col='id')"
   ]
  },
  {
   "cell_type": "code",
   "execution_count": 121,
   "metadata": {},
   "outputs": [
    {
     "data": {
      "text/html": [
       "<div>\n",
       "<style scoped>\n",
       "    .dataframe tbody tr th:only-of-type {\n",
       "        vertical-align: middle;\n",
       "    }\n",
       "\n",
       "    .dataframe tbody tr th {\n",
       "        vertical-align: top;\n",
       "    }\n",
       "\n",
       "    .dataframe thead th {\n",
       "        text-align: right;\n",
       "    }\n",
       "</style>\n",
       "<table border=\"1\" class=\"dataframe\">\n",
       "  <thead>\n",
       "    <tr style=\"text-align: right;\">\n",
       "      <th></th>\n",
       "      <th>price</th>\n",
       "      <th>model</th>\n",
       "      <th>mileage</th>\n",
       "      <th>motorcycle_class</th>\n",
       "      <th>year</th>\n",
       "      <th>engine_capacity</th>\n",
       "      <th>engine_strokes</th>\n",
       "      <th>damaged</th>\n",
       "      <th>documents</th>\n",
       "      <th>city</th>\n",
       "      <th>date</th>\n",
       "    </tr>\n",
       "    <tr>\n",
       "      <th>id</th>\n",
       "      <th></th>\n",
       "      <th></th>\n",
       "      <th></th>\n",
       "      <th></th>\n",
       "      <th></th>\n",
       "      <th></th>\n",
       "      <th></th>\n",
       "      <th></th>\n",
       "      <th></th>\n",
       "      <th></th>\n",
       "      <th></th>\n",
       "    </tr>\n",
       "  </thead>\n",
       "  <tbody>\n",
       "    <tr>\n",
       "      <th>8721</th>\n",
       "      <td>341 000₽</td>\n",
       "      <td>Aprilia SXV 450</td>\n",
       "      <td>6 000 км</td>\n",
       "      <td>Мотард</td>\n",
       "      <td>2007</td>\n",
       "      <td>450 куб. см.</td>\n",
       "      <td>4х тактный</td>\n",
       "      <td>Исправен</td>\n",
       "      <td>Есть ПТС</td>\n",
       "      <td>Санкт-Петербург</td>\n",
       "      <td>20 ноября</td>\n",
       "    </tr>\n",
       "    <tr>\n",
       "      <th>5843</th>\n",
       "      <td>1 220 000₽</td>\n",
       "      <td>Harley-Davidson Touring Street Glide Special</td>\n",
       "      <td>25 000 км</td>\n",
       "      <td>Чоппер</td>\n",
       "      <td>2011</td>\n",
       "      <td>1 690 куб. см.</td>\n",
       "      <td>4х тактный</td>\n",
       "      <td>Исправен</td>\n",
       "      <td>Есть ПТС</td>\n",
       "      <td>Москва</td>\n",
       "      <td>3 мая 2015</td>\n",
       "    </tr>\n",
       "    <tr>\n",
       "      <th>5657</th>\n",
       "      <td>495 000₽</td>\n",
       "      <td>Kawasaki Ninja ZX-14</td>\n",
       "      <td>19 000 км</td>\n",
       "      <td>None</td>\n",
       "      <td>2006</td>\n",
       "      <td>1 400 куб. см.</td>\n",
       "      <td>4х тактный</td>\n",
       "      <td>Исправен</td>\n",
       "      <td>Есть ПТС</td>\n",
       "      <td>Москва</td>\n",
       "      <td>18 июня 2015</td>\n",
       "    </tr>\n",
       "    <tr>\n",
       "      <th>2476</th>\n",
       "      <td>507 000₽</td>\n",
       "      <td>Yamaha Stryker</td>\n",
       "      <td>13 871 км</td>\n",
       "      <td>Круизер</td>\n",
       "      <td>2012</td>\n",
       "      <td>1 300 куб. см.</td>\n",
       "      <td>4х тактный</td>\n",
       "      <td>Исправен</td>\n",
       "      <td>Есть ПТС</td>\n",
       "      <td>Москва</td>\n",
       "      <td>29 апреля 2017</td>\n",
       "    </tr>\n",
       "    <tr>\n",
       "      <th>11456</th>\n",
       "      <td>375 000₽</td>\n",
       "      <td>HONDA VFR800</td>\n",
       "      <td>None</td>\n",
       "      <td>None</td>\n",
       "      <td>2007</td>\n",
       "      <td>800 куб. см.</td>\n",
       "      <td>None</td>\n",
       "      <td>Исправен</td>\n",
       "      <td>Есть ПТС</td>\n",
       "      <td>Санкт-Петербург</td>\n",
       "      <td>2 ноября 2012</td>\n",
       "    </tr>\n",
       "  </tbody>\n",
       "</table>\n",
       "</div>"
      ],
      "text/plain": [
       "            price                                         model    mileage  \\\n",
       "id                                                                           \n",
       "8721     341 000₽                               Aprilia SXV 450   6 000 км   \n",
       "5843   1 220 000₽  Harley-Davidson Touring Street Glide Special  25 000 км   \n",
       "5657     495 000₽                          Kawasaki Ninja ZX-14  19 000 км   \n",
       "2476     507 000₽                                Yamaha Stryker  13 871 км   \n",
       "11456    375 000₽                                  HONDA VFR800       None   \n",
       "\n",
       "      motorcycle_class  year engine_capacity engine_strokes   damaged  \\\n",
       "id                                                                      \n",
       "8721            Мотард  2007    450 куб. см.     4х тактный  Исправен   \n",
       "5843            Чоппер  2011  1 690 куб. см.     4х тактный  Исправен   \n",
       "5657              None  2006  1 400 куб. см.     4х тактный  Исправен   \n",
       "2476           Круизер  2012  1 300 куб. см.     4х тактный  Исправен   \n",
       "11456             None  2007    800 куб. см.           None  Исправен   \n",
       "\n",
       "      documents             city            date  \n",
       "id                                                \n",
       "8721   Есть ПТС  Санкт-Петербург       20 ноября  \n",
       "5843   Есть ПТС           Москва      3 мая 2015  \n",
       "5657   Есть ПТС           Москва    18 июня 2015  \n",
       "2476   Есть ПТС           Москва  29 апреля 2017  \n",
       "11456  Есть ПТС  Санкт-Петербург   2 ноября 2012  "
      ]
     },
     "execution_count": 121,
     "metadata": {},
     "output_type": "execute_result"
    }
   ],
   "source": [
    "motorcycles.sample(5)"
   ]
  },
  {
   "cell_type": "code",
   "execution_count": 122,
   "metadata": {},
   "outputs": [
    {
     "data": {
      "text/html": [
       "<div>\n",
       "<style scoped>\n",
       "    .dataframe tbody tr th:only-of-type {\n",
       "        vertical-align: middle;\n",
       "    }\n",
       "\n",
       "    .dataframe tbody tr th {\n",
       "        vertical-align: top;\n",
       "    }\n",
       "\n",
       "    .dataframe thead th {\n",
       "        text-align: right;\n",
       "    }\n",
       "</style>\n",
       "<table border=\"1\" class=\"dataframe\">\n",
       "  <thead>\n",
       "    <tr style=\"text-align: right;\">\n",
       "      <th></th>\n",
       "      <th>price</th>\n",
       "      <th>model</th>\n",
       "      <th>mileage</th>\n",
       "      <th>motorcycle_class</th>\n",
       "      <th>year</th>\n",
       "      <th>engine_capacity</th>\n",
       "      <th>engine_strokes</th>\n",
       "      <th>damaged</th>\n",
       "      <th>documents</th>\n",
       "      <th>city</th>\n",
       "      <th>date</th>\n",
       "    </tr>\n",
       "    <tr>\n",
       "      <th>id</th>\n",
       "      <th></th>\n",
       "      <th></th>\n",
       "      <th></th>\n",
       "      <th></th>\n",
       "      <th></th>\n",
       "      <th></th>\n",
       "      <th></th>\n",
       "      <th></th>\n",
       "      <th></th>\n",
       "      <th></th>\n",
       "      <th></th>\n",
       "    </tr>\n",
       "  </thead>\n",
       "  <tbody>\n",
       "    <tr>\n",
       "      <th>1</th>\n",
       "      <td>150 000₽</td>\n",
       "      <td>Honda CRM 250</td>\n",
       "      <td>2 150 км</td>\n",
       "      <td>Эндуро</td>\n",
       "      <td>1992</td>\n",
       "      <td>250 куб. см.</td>\n",
       "      <td>2х тактный</td>\n",
       "      <td>Исправен</td>\n",
       "      <td>Есть ПТС</td>\n",
       "      <td>Москва</td>\n",
       "      <td>30 ноября</td>\n",
       "    </tr>\n",
       "    <tr>\n",
       "      <th>2</th>\n",
       "      <td>595 000₽</td>\n",
       "      <td>Suzuki V-Strom DL650A</td>\n",
       "      <td>2 км</td>\n",
       "      <td>Эндуро</td>\n",
       "      <td>2014</td>\n",
       "      <td>645 куб. см.</td>\n",
       "      <td>4х тактный</td>\n",
       "      <td>Исправен</td>\n",
       "      <td>Есть ПТС</td>\n",
       "      <td>Москва</td>\n",
       "      <td>30 ноября</td>\n",
       "    </tr>\n",
       "    <tr>\n",
       "      <th>3</th>\n",
       "      <td>159 000₽</td>\n",
       "      <td>Yamaha XVS 400</td>\n",
       "      <td>36 000 км</td>\n",
       "      <td>Чоппер</td>\n",
       "      <td>1997</td>\n",
       "      <td>400 куб. см.</td>\n",
       "      <td>4х тактный</td>\n",
       "      <td>Исправен</td>\n",
       "      <td>Есть ПТС</td>\n",
       "      <td>Краснознаменск</td>\n",
       "      <td>30 ноября</td>\n",
       "    </tr>\n",
       "    <tr>\n",
       "      <th>4</th>\n",
       "      <td>98 000₽</td>\n",
       "      <td>Suzuki GN 125</td>\n",
       "      <td>2 677 км</td>\n",
       "      <td>Классика</td>\n",
       "      <td>2008</td>\n",
       "      <td>125 куб. см.</td>\n",
       "      <td>4х тактный</td>\n",
       "      <td>Исправен</td>\n",
       "      <td>Есть ПТС</td>\n",
       "      <td>Москва</td>\n",
       "      <td>30 ноября</td>\n",
       "    </tr>\n",
       "    <tr>\n",
       "      <th>5</th>\n",
       "      <td>350 000₽</td>\n",
       "      <td>Yamaha XJ</td>\n",
       "      <td>22 446 км</td>\n",
       "      <td>Спорт-турист</td>\n",
       "      <td>2011</td>\n",
       "      <td>600 куб. см.</td>\n",
       "      <td>4х тактный</td>\n",
       "      <td>Исправен</td>\n",
       "      <td>Есть ПТС</td>\n",
       "      <td>Москва</td>\n",
       "      <td>30 ноября</td>\n",
       "    </tr>\n",
       "  </tbody>\n",
       "</table>\n",
       "</div>"
      ],
      "text/plain": [
       "       price                  model    mileage motorcycle_class  year  \\\n",
       "id                                                                      \n",
       "1   150 000₽          Honda CRM 250   2 150 км           Эндуро  1992   \n",
       "2   595 000₽  Suzuki V-Strom DL650A       2 км           Эндуро  2014   \n",
       "3   159 000₽         Yamaha XVS 400  36 000 км           Чоппер  1997   \n",
       "4    98 000₽          Suzuki GN 125   2 677 км         Классика  2008   \n",
       "5   350 000₽              Yamaha XJ  22 446 км     Спорт-турист  2011   \n",
       "\n",
       "   engine_capacity engine_strokes   damaged documents            city  \\\n",
       "id                                                                      \n",
       "1     250 куб. см.     2х тактный  Исправен  Есть ПТС          Москва   \n",
       "2     645 куб. см.     4х тактный  Исправен  Есть ПТС          Москва   \n",
       "3     400 куб. см.     4х тактный  Исправен  Есть ПТС  Краснознаменск   \n",
       "4     125 куб. см.     4х тактный  Исправен  Есть ПТС          Москва   \n",
       "5     600 куб. см.     4х тактный  Исправен  Есть ПТС          Москва   \n",
       "\n",
       "         date  \n",
       "id             \n",
       "1   30 ноября  \n",
       "2   30 ноября  \n",
       "3   30 ноября  \n",
       "4   30 ноября  \n",
       "5   30 ноября  "
      ]
     },
     "execution_count": 122,
     "metadata": {},
     "output_type": "execute_result"
    }
   ],
   "source": [
    "motorcycles.head()"
   ]
  },
  {
   "cell_type": "code",
   "execution_count": 123,
   "metadata": {},
   "outputs": [
    {
     "data": {
      "text/plain": [
       "(11488, 11)"
      ]
     },
     "execution_count": 123,
     "metadata": {},
     "output_type": "execute_result"
    }
   ],
   "source": [
    "motorcycles.shape"
   ]
  },
  {
   "cell_type": "markdown",
   "metadata": {},
   "source": [
    "Видим, что данные успешно загрузились и выглядят вполне адекватно. Можем работать дальше."
   ]
  },
  {
   "cell_type": "markdown",
   "metadata": {},
   "source": [
    "<br>"
   ]
  },
  {
   "cell_type": "markdown",
   "metadata": {},
   "source": [
    "### 2. Первичный анализ данных"
   ]
  },
  {
   "cell_type": "markdown",
   "metadata": {},
   "source": [
    "Посмотрим общую информацию по датасету:"
   ]
  },
  {
   "cell_type": "code",
   "execution_count": 124,
   "metadata": {
    "scrolled": true
   },
   "outputs": [
    {
     "name": "stdout",
     "output_type": "stream",
     "text": [
      "<class 'pandas.core.frame.DataFrame'>\n",
      "Int64Index: 11488 entries, 1 to 11783\n",
      "Data columns (total 11 columns):\n",
      "price               11488 non-null object\n",
      "model               11488 non-null object\n",
      "mileage             11488 non-null object\n",
      "motorcycle_class    11488 non-null object\n",
      "year                11488 non-null object\n",
      "engine_capacity     11488 non-null object\n",
      "engine_strokes      11488 non-null object\n",
      "damaged             11488 non-null object\n",
      "documents           11488 non-null object\n",
      "city                11488 non-null object\n",
      "date                11488 non-null object\n",
      "dtypes: object(11)\n",
      "memory usage: 1.1+ MB\n"
     ]
    }
   ],
   "source": [
    "motorcycles.info()"
   ]
  },
  {
   "cell_type": "code",
   "execution_count": 125,
   "metadata": {},
   "outputs": [
    {
     "data": {
      "text/plain": [
       "price               1250\n",
       "model               3156\n",
       "mileage             2506\n",
       "motorcycle_class      16\n",
       "year                  64\n",
       "engine_capacity      434\n",
       "engine_strokes         3\n",
       "damaged                3\n",
       "documents              3\n",
       "city                 116\n",
       "date                2518\n",
       "dtype: int64"
      ]
     },
     "execution_count": 125,
     "metadata": {},
     "output_type": "execute_result"
    }
   ],
   "source": [
    "motorcycles.nunique()"
   ]
  },
  {
   "cell_type": "code",
   "execution_count": 126,
   "metadata": {},
   "outputs": [
    {
     "data": {
      "text/plain": [
       "(11390, 11)"
      ]
     },
     "execution_count": 126,
     "metadata": {},
     "output_type": "execute_result"
    }
   ],
   "source": [
    "motorcycles.drop_duplicates().shape"
   ]
  },
  {
   "cell_type": "markdown",
   "metadata": {},
   "source": [
    "Теперь подробнее рассмотрим столбцы:"
   ]
  },
  {
   "cell_type": "markdown",
   "metadata": {},
   "source": [
    "**price:**"
   ]
  },
  {
   "cell_type": "code",
   "execution_count": 127,
   "metadata": {},
   "outputs": [
    {
     "data": {
      "text/plain": [
       "150 000₽           240\n",
       "200 000₽           218\n",
       "250 000₽           214\n",
       "300 000₽           192\n",
       "350 000₽           184\n",
       "120 000₽           172\n",
       "180 000₽           164\n",
       "220 000₽           153\n",
       "160 000₽           148\n",
       "230 000₽           147\n",
       "100 000₽           146\n",
       "140 000₽           143\n",
       "130 000₽           142\n",
       "110 000₽           141\n",
       "190 000₽           134\n",
       "Цена не указана    134\n",
       "170 000₽           130\n",
       "450 000₽           126\n",
       "210 000₽           119\n",
       "280 000₽           118\n",
       "165 000₽           117\n",
       "320 000₽           111\n",
       "90 000₽            110\n",
       "400 000₽           108\n",
       "240 000₽           102\n",
       "80 000₽             96\n",
       "50 000₽             95\n",
       "260 000₽            94\n",
       "135 000₽            90\n",
       "60 000₽             88\n",
       "                  ... \n",
       "209 500₽             1\n",
       "1 469 000₽           1\n",
       "879 000₽             1\n",
       "18 800₽              1\n",
       "243 500₽             1\n",
       "84 200₽              1\n",
       "428 000₽             1\n",
       "212 500₽             1\n",
       "1 620 000₽           1\n",
       "913 000₽             1\n",
       "71 900₽              1\n",
       "136 700₽             1\n",
       "11 500₽              1\n",
       "810 250₽             1\n",
       "125 300₽             1\n",
       "180₽                 1\n",
       "273 000₽             1\n",
       "1 485 000₽           1\n",
       "762 000₽             1\n",
       "317 000₽             1\n",
       "250₽                 1\n",
       "394 000₽             1\n",
       "136 500₽             1\n",
       "2 800₽               1\n",
       "502 000₽             1\n",
       "723 000₽             1\n",
       "819 999₽             1\n",
       "84 500₽              1\n",
       "200 002₽             1\n",
       "301 000₽             1\n",
       "Name: price, Length: 1250, dtype: int64"
      ]
     },
     "execution_count": 127,
     "metadata": {},
     "output_type": "execute_result"
    }
   ],
   "source": [
    "motorcycles.price.value_counts()"
   ]
  },
  {
   "cell_type": "markdown",
   "metadata": {},
   "source": [
    "**model:**"
   ]
  },
  {
   "cell_type": "code",
   "execution_count": 128,
   "metadata": {},
   "outputs": [
    {
     "data": {
      "text/plain": [
       "Yamaha YZF R6             162\n",
       "Honda CBR 600RR           110\n",
       "Suzuki Boulevard M109R    107\n",
       "Honda CB 400SF            107\n",
       "Kawasaki Ninja ZX-6R       91\n",
       "Yamaha YZF R1              83\n",
       "Yamaha FZ 6                82\n",
       "Yamaha                     80\n",
       "Name: model, dtype: int64"
      ]
     },
     "execution_count": 128,
     "metadata": {},
     "output_type": "execute_result"
    }
   ],
   "source": [
    "motorcycles.model.value_counts()[:8]"
   ]
  },
  {
   "cell_type": "markdown",
   "metadata": {},
   "source": [
    "**mileage:**"
   ]
  },
  {
   "cell_type": "code",
   "execution_count": 129,
   "metadata": {},
   "outputs": [
    {
     "data": {
      "text/plain": [
       "None         0.129439\n",
       "1 км         0.055710\n",
       "30 000 км    0.017584\n",
       "20 000 км    0.016104\n",
       "25 000 км    0.013057\n",
       "40 000 км    0.012013\n",
       "10 000 км    0.011490\n",
       "35 000 км    0.010794\n",
       "15 000 км    0.010010\n",
       "12 000 км    0.009749\n",
       "Name: mileage, dtype: float64"
      ]
     },
     "execution_count": 129,
     "metadata": {},
     "output_type": "execute_result"
    }
   ],
   "source": [
    "motorcycles.mileage.value_counts()[:10] / motorcycles.mileage.size"
   ]
  },
  {
   "cell_type": "markdown",
   "metadata": {},
   "source": [
    "**motorcycle_class:**"
   ]
  },
  {
   "cell_type": "code",
   "execution_count": 130,
   "metadata": {},
   "outputs": [
    {
     "data": {
      "text/plain": [
       "None               0.496431\n",
       "Чоппер             0.181581\n",
       "Классика           0.071901\n",
       "Спортивный         0.062326\n",
       "Спорт-турист       0.039171\n",
       "Эндуро             0.034645\n",
       "Круизер            0.034558\n",
       "Питбайк            0.022371\n",
       "Туристический      0.020717\n",
       "Кроссовый          0.011316\n",
       "Стритфайтер        0.010097\n",
       "Кастом             0.009488\n",
       "Мотард             0.002786\n",
       "Трайк (трицикл)    0.001306\n",
       "Детский            0.001219\n",
       "Триал              0.000087\n",
       "Name: motorcycle_class, dtype: float64"
      ]
     },
     "execution_count": 130,
     "metadata": {},
     "output_type": "execute_result"
    }
   ],
   "source": [
    "motorcycles.motorcycle_class.value_counts() / motorcycles.motorcycle_class.size"
   ]
  },
  {
   "cell_type": "markdown",
   "metadata": {},
   "source": [
    "**year:**"
   ]
  },
  {
   "cell_type": "code",
   "execution_count": 131,
   "metadata": {},
   "outputs": [
    {
     "data": {
      "text/plain": [
       "2014    0.065721\n",
       "2006    0.061368\n",
       "2008    0.060498\n",
       "2007    0.059018\n",
       "2013    0.054840\n",
       "2005    0.047180\n",
       "2003    0.045526\n",
       "2012    0.043698\n",
       "2002    0.040477\n",
       "2004    0.039432\n",
       "2009    0.038997\n",
       "2011    0.035864\n",
       "None    0.034819\n",
       "Name: year, dtype: float64"
      ]
     },
     "execution_count": 131,
     "metadata": {},
     "output_type": "execute_result"
    }
   ],
   "source": [
    "motorcycles.year.value_counts()[:13] / motorcycles.year.size"
   ]
  },
  {
   "cell_type": "markdown",
   "metadata": {},
   "source": [
    "**engine_capacity:**"
   ]
  },
  {
   "cell_type": "code",
   "execution_count": 132,
   "metadata": {},
   "outputs": [
    {
     "data": {
      "text/plain": [
       "400 куб. см.      0.102890\n",
       "600 куб. см.      0.101671\n",
       "250 куб. см.      0.083565\n",
       "1 000 куб. см.    0.049530\n",
       "650 куб. см.      0.047615\n",
       "1 300 куб. см.    0.039084\n",
       "750 куб. см.      0.037169\n",
       "1 200 куб. см.    0.032382\n",
       "125 куб. см.      0.028987\n",
       "1 800 куб. см.    0.027159\n",
       "1 100 куб. см.    0.025331\n",
       "800 куб. см.      0.024634\n",
       "200 куб. см.      0.019760\n",
       "None              0.019063\n",
       "Name: engine_capacity, dtype: float64"
      ]
     },
     "execution_count": 132,
     "metadata": {},
     "output_type": "execute_result"
    }
   ],
   "source": [
    "motorcycles.engine_capacity.value_counts()[:14] / motorcycles.engine_capacity.size"
   ]
  },
  {
   "cell_type": "markdown",
   "metadata": {},
   "source": [
    "**engine_strokes:**"
   ]
  },
  {
   "cell_type": "code",
   "execution_count": 133,
   "metadata": {},
   "outputs": [
    {
     "data": {
      "text/plain": [
       "4х тактный    0.841400\n",
       "None          0.099843\n",
       "2х тактный    0.058757\n",
       "Name: engine_strokes, dtype: float64"
      ]
     },
     "execution_count": 133,
     "metadata": {},
     "output_type": "execute_result"
    }
   ],
   "source": [
    "motorcycles.engine_strokes.value_counts() / motorcycles.engine_strokes.size"
   ]
  },
  {
   "cell_type": "markdown",
   "metadata": {},
   "source": [
    "**damaged:**"
   ]
  },
  {
   "cell_type": "code",
   "execution_count": 134,
   "metadata": {},
   "outputs": [
    {
     "data": {
      "text/plain": [
       "Исправен      0.969185\n",
       "None          0.017409\n",
       "Неисправен    0.013405\n",
       "Name: damaged, dtype: float64"
      ]
     },
     "execution_count": 134,
     "metadata": {},
     "output_type": "execute_result"
    }
   ],
   "source": [
    "motorcycles.damaged.value_counts() / motorcycles.damaged.size"
   ]
  },
  {
   "cell_type": "markdown",
   "metadata": {},
   "source": [
    "**documents:**"
   ]
  },
  {
   "cell_type": "code",
   "execution_count": 135,
   "metadata": {},
   "outputs": [
    {
     "data": {
      "text/plain": [
       "Есть ПТС    0.908687\n",
       "Без ПТС     0.089224\n",
       "None        0.002089\n",
       "Name: documents, dtype: float64"
      ]
     },
     "execution_count": 135,
     "metadata": {},
     "output_type": "execute_result"
    }
   ],
   "source": [
    "motorcycles.documents.value_counts() / motorcycles.documents.size"
   ]
  },
  {
   "cell_type": "markdown",
   "metadata": {},
   "source": [
    "**city:**"
   ]
  },
  {
   "cell_type": "code",
   "execution_count": 136,
   "metadata": {},
   "outputs": [
    {
     "data": {
      "text/plain": [
       "Москва             0.597580\n",
       "Санкт-Петербург    0.270021\n",
       "Серпухов           0.009053\n",
       "Подольск           0.004788\n",
       "Мытищи             0.004526\n",
       "Одинцово           0.003743\n",
       "Жуковский          0.003743\n",
       "Дмитров            0.003395\n",
       "Зеленоград         0.003221\n",
       "Пушкино            0.003134\n",
       "Name: city, dtype: float64"
      ]
     },
     "execution_count": 136,
     "metadata": {},
     "output_type": "execute_result"
    }
   ],
   "source": [
    "motorcycles.city.value_counts()[:10] / motorcycles.city.size"
   ]
  },
  {
   "cell_type": "markdown",
   "metadata": {},
   "source": [
    "**date:**"
   ]
  },
  {
   "cell_type": "code",
   "execution_count": 137,
   "metadata": {},
   "outputs": [
    {
     "data": {
      "text/plain": [
       "id\n",
       "8699           25 ноября\n",
       "10841       30 июля 2014\n",
       "10703    10 октября 2014\n",
       "1700        11 июля 2017\n",
       "9349           19 января\n",
       "6404     31 августа 2014\n",
       "9198           20 апреля\n",
       "3228      6 октября 2016\n",
       "10719     3 октября 2014\n",
       "687               12 мая\n",
       "Name: date, dtype: object"
      ]
     },
     "execution_count": 137,
     "metadata": {},
     "output_type": "execute_result"
    }
   ],
   "source": [
    "motorcycles.sample(10).date"
   ]
  },
  {
   "cell_type": "markdown",
   "metadata": {},
   "source": [
    "Пройдемся по столбцам и, на основе уже имеющейся информации, дадим им некоторое описание:\n",
    "1. **id:** просто порядковый номер мотоцикла, который вряд ли несет какую либо полезную информацию.\n",
    "2. **price:** цена мотоцикла, целевая переменная. Видим, что есть объекты со значением \"Цена не указана\". Их нам придется отбросить. Также можно заметить, что не у всех мотоциклов стоит адекватная цена (290₽ и т.п.). Такие объекты тоже скорее всего можно отбросить, так как они вряд ли составляют весомую долю от всех остальных. Также следует преобразовать стоимость в числовой тип, отбросив символ \"₽\".\n",
    "3. **model:** модель мотоцикла. Можно построить отдельный столбец **manufacturer**, в котором указывать только производителя, и рассматривать его как новое свойство.\n",
    "4. **mileage:** пробег мотоцикла. 13% имеют пропуски, возможно это из за того, что такие мотоциклы являются новыми. Было бы странно, если бы продавец не указывал хотя бы примерный пробег своего подержанного транспортного средства, ведь это является один из самых главных факторов при покупке. Так что заполним пропуски нулями. Также 5.6% имеют пробег \"1 км\", это странное значение можно тоже занулить. Значения стоит привести к числовым, отбросить подстроку \"км\".\n",
    "5. **motorcycle_class:** класс мотоцикла. Как видим, около 50% всех объектов не имеют информции о классе. Возможно, этот столбец придется убрать из рассмотрения, так как заполнить пропуски сложно без искажения реальной информации. Считать отсутстиве значения как свойство не имеет смысла, так как класс присущ каждому мотоциклу, и отстуствие информации об этом характеризует скорее не мотоцикл, а человека, составляющего объявление.\n",
    "6. **year:** год выпуска мотоцикла. Как видим, значения отсутсвуют лишь у 3.5% всех объявлений, что не значительно.\n",
    "7. **engine_capacity:** объем двигателя. Пропуски имеют 2% объектов. Значения можно преобразовать с числовой тип, отбросив подстроку \"куб. см.\".\n",
    "8. **engine_strokes:** число тактов двигателя. Видим, что всего 2 разных значения, и что больше 80% мотоциклов обладают четырехтактным двигателем. Также имеем 10% пропусков. Можно попробовать заменить пропуски на \"4х тактный\", так как большинство двигателей именно такие, и скорее всего продавец скорее всего знал бы, что у него особенный \"2х тактный\" двигатель, и указал бы это. Не думаю, что ошибка будет более 1% от общего количества. Также обрежем строку до одного числа, 2 или 4.\n",
    "9. **damaged:** состояние мотоцикла. Пропуски имеют 2%, и с большой уверенностью можно заполнить их значениями \"Исправен\", так как предполагается, что если мотоцикл сломан, то продавец об этом скорее всего сообщит заранее (если он добросовестный, конечно). Также значение \"Исправен\" можно закодировать под 0, а \"Неисправен\" - под 1.\n",
    "10. **documents:** наличие ПТС у продавца. Аналогично с прошлым столбцом, можно заполнить пропуски самым популярным вариантом и закодировать \"Есть ПТС\" как 0 и \"Без ПТС\" как 1.\n",
    "11. **city:** город, в котором продается мотоцикл. Пропусков нет.\n",
    "12. **date:** как можно заметить из семпла, у некоторых объявлений есть информация о годе, а у некоторых нет. Те, у которых нет - объявления за 2018 год. Надо подправить это и дописать 2018 к этим датам."
   ]
  },
  {
   "cell_type": "markdown",
   "metadata": {},
   "source": [
    "<br>"
   ]
  },
  {
   "cell_type": "markdown",
   "metadata": {},
   "source": [
    "### 3. Предобработка данных"
   ]
  },
  {
   "cell_type": "markdown",
   "metadata": {},
   "source": [
    "Для начала избавимся от повторяющихся значений и запомним изначальное число объявлений:"
   ]
  },
  {
   "cell_type": "code",
   "execution_count": 138,
   "metadata": {},
   "outputs": [],
   "source": [
    "motorcycles = motorcycles.drop_duplicates()\n",
    "number_of_motocycles = motorcycles.shape[0]"
   ]
  },
  {
   "cell_type": "markdown",
   "metadata": {},
   "source": [
    "Напишем функцию drop_none для упрощения работы:"
   ]
  },
  {
   "cell_type": "code",
   "execution_count": 139,
   "metadata": {},
   "outputs": [],
   "source": [
    "def drop_none(df):\n",
    "    return df.replace(to_replace='None', value=np.nan).dropna()"
   ]
  },
  {
   "cell_type": "markdown",
   "metadata": {},
   "source": [
    "Теперь произведем обработку слобцов в соответствии с замечаниями, данными выше.\n",
    "\n",
    "Начнем с преобразования целевого столбца **price**:"
   ]
  },
  {
   "cell_type": "code",
   "execution_count": 140,
   "metadata": {},
   "outputs": [],
   "source": [
    "motorcycles.price = drop_none(motorcycles.price)\n",
    "motorcycles = motorcycles[motorcycles.price != \"Цена не указана\"]\n",
    "motorcycles.price = motorcycles.price.str[:-1].replace(' ', '', regex=True).astype(np.int64)\n",
    "motorcycles.price = motorcycles.price[motorcycles.price.values > 4999]"
   ]
  },
  {
   "cell_type": "markdown",
   "metadata": {},
   "source": [
    "Перейдем к столбцу **model**:"
   ]
  },
  {
   "cell_type": "code",
   "execution_count": 141,
   "metadata": {},
   "outputs": [
    {
     "data": {
      "text/plain": [
       "0.0010660033756773562"
      ]
     },
     "execution_count": 141,
     "metadata": {},
     "output_type": "execute_result"
    }
   ],
   "source": [
    "(motorcycles.model.shape[0] - drop_none(motorcycles.model).shape[0]) / motorcycles.model.shape[0]"
   ]
  },
  {
   "cell_type": "markdown",
   "metadata": {},
   "source": [
    "Как видим, None имеют один процент мотоциклов, поэтому отбросим их и создадим новый столбец **manufacturer**:"
   ]
  },
  {
   "cell_type": "code",
   "execution_count": 142,
   "metadata": {},
   "outputs": [],
   "source": [
    "motorcycles.model = drop_none(motorcycles.model)\n",
    "motorcycles['manufacturer'] = [item[0] if type(item) is list else item\n",
    "                               for item in motorcycles.model.str.split(' ').values]"
   ]
  },
  {
   "cell_type": "markdown",
   "metadata": {},
   "source": [
    "Преобразуем столбец **mileage**:"
   ]
  },
  {
   "cell_type": "code",
   "execution_count": 143,
   "metadata": {},
   "outputs": [],
   "source": [
    "motorcycles.mileage = motorcycles.mileage.str.replace(\"None\", \"0\")\n",
    "motorcycles.mileage = motorcycles.mileage.str.replace(\"1 км\", \"0\", regex=True)\n",
    "motorcycles.mileage = motorcycles.mileage.str.replace(\"км\", \"\", regex=True)\n",
    "motorcycles.mileage = motorcycles.mileage.str.replace(' ', '', regex=True).astype(np.int64)"
   ]
  },
  {
   "cell_type": "markdown",
   "metadata": {},
   "source": [
    "Как решили ранее, с **motorcycle_class** работать сложно, поэтому просто не будем рассматривать этот столбец."
   ]
  },
  {
   "cell_type": "code",
   "execution_count": 144,
   "metadata": {},
   "outputs": [],
   "source": [
    "motorcycles = motorcycles.drop(['motorcycle_class'], axis=1)"
   ]
  },
  {
   "cell_type": "markdown",
   "metadata": {},
   "source": [
    "Отбросим пропуски и преобразуем тип значений столбца **year** в integer:"
   ]
  },
  {
   "cell_type": "code",
   "execution_count": 145,
   "metadata": {},
   "outputs": [],
   "source": [
    "motorcycles.year = drop_none(motorcycles.year)\n",
    "motorcycles.year = motorcycles.year.dropna().astype(np.int32)"
   ]
  },
  {
   "cell_type": "markdown",
   "metadata": {},
   "source": [
    "На очереди **engine_capacity**:"
   ]
  },
  {
   "cell_type": "code",
   "execution_count": 146,
   "metadata": {},
   "outputs": [],
   "source": [
    "motorcycles.engine_capacity = drop_none(motorcycles.engine_capacity)\n",
    "motorcycles.engine_capacity = motorcycles.engine_capacity.str.replace(\"куб. см.\", '', regex=True)\n",
    "motorcycles.engine_capacity = motorcycles.engine_capacity.str.replace(' ', '', regex=True)\n",
    "motorcycles.engine_capacity = motorcycles.engine_capacity.dropna().astype(np.int64)"
   ]
  },
  {
   "cell_type": "markdown",
   "metadata": {},
   "source": [
    "В столбце **engine_strokes** заменим None на \"4х тактный\":"
   ]
  },
  {
   "cell_type": "code",
   "execution_count": 147,
   "metadata": {},
   "outputs": [],
   "source": [
    "motorcycles.engine_strokes = motorcycles.engine_strokes.str.replace(\"None\", \"4\", regex=True)\n",
    "motorcycles.engine_strokes = motorcycles.engine_strokes.str.replace(\"х тактный\", '', regex=True)\n",
    "motorcycles.engine_strokes = motorcycles.engine_strokes.dropna().astype(np.int64)"
   ]
  },
  {
   "cell_type": "markdown",
   "metadata": {},
   "source": [
    "Преобразуем **damaged**:"
   ]
  },
  {
   "cell_type": "code",
   "execution_count": 148,
   "metadata": {},
   "outputs": [],
   "source": [
    "motorcycles.damaged = motorcycles.damaged.str.replace(\"None\", \"0\", regex=True)\n",
    "motorcycles.damaged = motorcycles.damaged.str.replace(\"Исправен\", \"0\", regex=True)\n",
    "motorcycles.damaged = motorcycles.damaged.str.replace(\"Неисправен\", \"1\", regex=True)\n",
    "motorcycles.damaged = motorcycles.damaged.dropna().astype(np.int64)"
   ]
  },
  {
   "cell_type": "markdown",
   "metadata": {},
   "source": [
    "Аналогично **documents**:"
   ]
  },
  {
   "cell_type": "code",
   "execution_count": 149,
   "metadata": {},
   "outputs": [],
   "source": [
    "motorcycles.documents = motorcycles.documents.str.replace(\"None\", \"0\", regex=True)\n",
    "motorcycles.documents = motorcycles.documents.str.replace(\"Есть ПТС\", \"0\", regex=True)\n",
    "motorcycles.documents = motorcycles.documents.str.replace(\"Без ПТС\", \"1\", regex=True)\n",
    "motorcycles.documents = motorcycles.documents.dropna().astype(np.int64)"
   ]
  },
  {
   "cell_type": "markdown",
   "metadata": {},
   "source": [
    "Наконец, преобразуем столбец **date**. Сначала добавим год тем объектам, у которых его нет:"
   ]
  },
  {
   "cell_type": "code",
   "execution_count": 150,
   "metadata": {},
   "outputs": [],
   "source": [
    "motorcycles.date = [s + \" 2018\" if len(s.split()) == 2 else s for s in motorcycles.date.values]"
   ]
  },
  {
   "cell_type": "markdown",
   "metadata": {},
   "source": [
    "По хорошему, строки с датой надо бы привести к формату datetime. Однако, не совсем понятно, как работать с названиями месяцев на русском языке. Поэтому поменяем их на английский, а потом приведем значения к datetime:"
   ]
  },
  {
   "cell_type": "code",
   "execution_count": 151,
   "metadata": {},
   "outputs": [],
   "source": [
    "rus_eng_month = {\n",
    "    'января': 'January',\n",
    "    'февраля': 'February',\n",
    "    'марта': 'March',\n",
    "    'апреля': 'April',\n",
    "    'мая': 'May',\n",
    "    'июня': 'June',\n",
    "    'июля': 'July',\n",
    "    'августа': 'August',\n",
    "    'сентября': 'September',\n",
    "    'октября': 'October',\n",
    "    'ноября': 'November',\n",
    "    'декабря': 'December',  \n",
    "}\n",
    "\n",
    "dates = []\n",
    "for s in motorcycles.date.values:\n",
    "    temp_s = s.split()\n",
    "    dates.append(temp_s[0] + ' ' + rus_eng_month[temp_s[1]] + ' ' + temp_s[2])\n",
    "    \n",
    "motorcycles.date = [datetime.strptime(s, '%d %B %Y').strftime('%Y-%m-%d') for s in dates]\n",
    "motorcycles.date = pd.to_datetime(motorcycles.date.dropna()).dt.date"
   ]
  },
  {
   "cell_type": "markdown",
   "metadata": {},
   "source": [
    "Отбросим оставшиеся неопределенные значения:"
   ]
  },
  {
   "cell_type": "code",
   "execution_count": 152,
   "metadata": {},
   "outputs": [],
   "source": [
    "motorcycles = drop_none(motorcycles)\n",
    "motorcycles = motorcycles.dropna()"
   ]
  },
  {
   "cell_type": "markdown",
   "metadata": {},
   "source": [
    "Вот так теперь выглядит таблица:"
   ]
  },
  {
   "cell_type": "code",
   "execution_count": 153,
   "metadata": {},
   "outputs": [
    {
     "data": {
      "text/html": [
       "<div>\n",
       "<style scoped>\n",
       "    .dataframe tbody tr th:only-of-type {\n",
       "        vertical-align: middle;\n",
       "    }\n",
       "\n",
       "    .dataframe tbody tr th {\n",
       "        vertical-align: top;\n",
       "    }\n",
       "\n",
       "    .dataframe thead th {\n",
       "        text-align: right;\n",
       "    }\n",
       "</style>\n",
       "<table border=\"1\" class=\"dataframe\">\n",
       "  <thead>\n",
       "    <tr style=\"text-align: right;\">\n",
       "      <th></th>\n",
       "      <th>price</th>\n",
       "      <th>model</th>\n",
       "      <th>mileage</th>\n",
       "      <th>year</th>\n",
       "      <th>engine_capacity</th>\n",
       "      <th>engine_strokes</th>\n",
       "      <th>damaged</th>\n",
       "      <th>documents</th>\n",
       "      <th>city</th>\n",
       "      <th>date</th>\n",
       "      <th>manufacturer</th>\n",
       "    </tr>\n",
       "    <tr>\n",
       "      <th>id</th>\n",
       "      <th></th>\n",
       "      <th></th>\n",
       "      <th></th>\n",
       "      <th></th>\n",
       "      <th></th>\n",
       "      <th></th>\n",
       "      <th></th>\n",
       "      <th></th>\n",
       "      <th></th>\n",
       "      <th></th>\n",
       "      <th></th>\n",
       "    </tr>\n",
       "  </thead>\n",
       "  <tbody>\n",
       "    <tr>\n",
       "      <th>132</th>\n",
       "      <td>295000.0</td>\n",
       "      <td>Honda X4</td>\n",
       "      <td>50000</td>\n",
       "      <td>2001.0</td>\n",
       "      <td>1300.0</td>\n",
       "      <td>4</td>\n",
       "      <td>0</td>\n",
       "      <td>0</td>\n",
       "      <td>Чехов</td>\n",
       "      <td>2018-10-04</td>\n",
       "      <td>Honda</td>\n",
       "    </tr>\n",
       "    <tr>\n",
       "      <th>819</th>\n",
       "      <td>420000.0</td>\n",
       "      <td>BMW K 1200 LT</td>\n",
       "      <td>48000</td>\n",
       "      <td>2001.0</td>\n",
       "      <td>1200.0</td>\n",
       "      <td>4</td>\n",
       "      <td>0</td>\n",
       "      <td>0</td>\n",
       "      <td>Сергиев Посад</td>\n",
       "      <td>2018-04-11</td>\n",
       "      <td>BMW</td>\n",
       "    </tr>\n",
       "    <tr>\n",
       "      <th>7608</th>\n",
       "      <td>899000.0</td>\n",
       "      <td>HONDA VALKYRIE RUNE</td>\n",
       "      <td>0</td>\n",
       "      <td>2005.0</td>\n",
       "      <td>1900.0</td>\n",
       "      <td>4</td>\n",
       "      <td>0</td>\n",
       "      <td>0</td>\n",
       "      <td>Москва</td>\n",
       "      <td>2013-06-28</td>\n",
       "      <td>HONDA</td>\n",
       "    </tr>\n",
       "    <tr>\n",
       "      <th>8273</th>\n",
       "      <td>115000.0</td>\n",
       "      <td>CBR1100</td>\n",
       "      <td>38954</td>\n",
       "      <td>1998.0</td>\n",
       "      <td>1100.0</td>\n",
       "      <td>4</td>\n",
       "      <td>0</td>\n",
       "      <td>0</td>\n",
       "      <td>Москва</td>\n",
       "      <td>2010-03-24</td>\n",
       "      <td>CBR1100</td>\n",
       "    </tr>\n",
       "    <tr>\n",
       "      <th>2885</th>\n",
       "      <td>375000.0</td>\n",
       "      <td>KTM 250 EXC-F</td>\n",
       "      <td>2550</td>\n",
       "      <td>2012.0</td>\n",
       "      <td>250.0</td>\n",
       "      <td>4</td>\n",
       "      <td>0</td>\n",
       "      <td>0</td>\n",
       "      <td>Москва</td>\n",
       "      <td>2017-01-26</td>\n",
       "      <td>KTM</td>\n",
       "    </tr>\n",
       "  </tbody>\n",
       "</table>\n",
       "</div>"
      ],
      "text/plain": [
       "         price                model  mileage    year  engine_capacity  \\\n",
       "id                                                                      \n",
       "132   295000.0             Honda X4    50000  2001.0           1300.0   \n",
       "819   420000.0        BMW K 1200 LT    48000  2001.0           1200.0   \n",
       "7608  899000.0  HONDA VALKYRIE RUNE        0  2005.0           1900.0   \n",
       "8273  115000.0              CBR1100    38954  1998.0           1100.0   \n",
       "2885  375000.0        KTM 250 EXC-F     2550  2012.0            250.0   \n",
       "\n",
       "      engine_strokes  damaged  documents           city        date  \\\n",
       "id                                                                    \n",
       "132                4        0          0          Чехов  2018-10-04   \n",
       "819                4        0          0  Сергиев Посад  2018-04-11   \n",
       "7608               4        0          0         Москва  2013-06-28   \n",
       "8273               4        0          0         Москва  2010-03-24   \n",
       "2885               4        0          0         Москва  2017-01-26   \n",
       "\n",
       "     manufacturer  \n",
       "id                 \n",
       "132         Honda  \n",
       "819           BMW  \n",
       "7608        HONDA  \n",
       "8273      CBR1100  \n",
       "2885          KTM  "
      ]
     },
     "execution_count": 153,
     "metadata": {},
     "output_type": "execute_result"
    }
   ],
   "source": [
    "motorcycles.sample(5)"
   ]
  },
  {
   "cell_type": "code",
   "execution_count": 154,
   "metadata": {},
   "outputs": [
    {
     "name": "stdout",
     "output_type": "stream",
     "text": [
      "<class 'pandas.core.frame.DataFrame'>\n",
      "Int64Index: 10719 entries, 1 to 11783\n",
      "Data columns (total 11 columns):\n",
      "price              10719 non-null float64\n",
      "model              10719 non-null object\n",
      "mileage            10719 non-null int64\n",
      "year               10719 non-null float64\n",
      "engine_capacity    10719 non-null float64\n",
      "engine_strokes     10719 non-null int64\n",
      "damaged            10719 non-null int64\n",
      "documents          10719 non-null int64\n",
      "city               10719 non-null object\n",
      "date               10719 non-null object\n",
      "manufacturer       10719 non-null object\n",
      "dtypes: float64(3), int64(4), object(4)\n",
      "memory usage: 1004.9+ KB\n"
     ]
    }
   ],
   "source": [
    "motorcycles.info()"
   ]
  },
  {
   "cell_type": "markdown",
   "metadata": {},
   "source": [
    "Посмотрим, сколько осталось объектов после всех преобразований:"
   ]
  },
  {
   "cell_type": "code",
   "execution_count": 155,
   "metadata": {},
   "outputs": [
    {
     "name": "stdout",
     "output_type": "stream",
     "text": [
      "Было: 11390\n",
      "Осталось: 10719\n",
      "Датасет уменьшился на 5.89% от первоначального размера\n"
     ]
    }
   ],
   "source": [
    "print('Было: {}'.format(number_of_motocycles))\n",
    "print('Осталось: {}'.format(motorcycles.shape[0]))\n",
    "print('Датасет уменьшился на {:.3}% от первоначального размера'.format(\n",
    "    100*(number_of_motocycles - motorcycles.shape[0]) / number_of_motocycles)\n",
    "     )"
   ]
  },
  {
   "cell_type": "markdown",
   "metadata": {},
   "source": [
    "Как видим, после данных преобразований датасет уменьшился незначительно. Теперь обратим внимание на стобец **manufacturer**."
   ]
  },
  {
   "cell_type": "code",
   "execution_count": 156,
   "metadata": {},
   "outputs": [
    {
     "data": {
      "text/plain": [
       "Honda                 2483\n",
       "Yamaha                1873\n",
       "Suzuki                1379\n",
       "Kawasaki              1016\n",
       "BMW                    436\n",
       "Harley-Davidson        412\n",
       "KTM                    196\n",
       "Ducati                 164\n",
       "Irbis                  121\n",
       "Stels                  119\n",
       "HONDA                  101\n",
       "Racer                   87\n",
       "Kayo                    87\n",
       "YAMAHA                  86\n",
       "Triumph                 79\n",
       "Урал                    74\n",
       "Aprilia                 67\n",
       "Baltmotors              52\n",
       "Иж                      47\n",
       "Ява                     45\n",
       "SUZUKI                  36\n",
       "BSE                     35\n",
       "Victory                 33\n",
       "Sym                     31\n",
       "Минск                   28\n",
       "NO.                     28\n",
       "Днепр                   27\n",
       "ABM                     26\n",
       "CBR                     22\n",
       "Lifan                   21\n",
       "                      ... \n",
       "Fazer                    1\n",
       "NANFANG                  1\n",
       "WRE-125                  1\n",
       "ER-6n                    1\n",
       "KAYO                     1\n",
       "GPX-150                  1\n",
       "ST1100                   1\n",
       "Полноприводный           1\n",
       "Diversion                1\n",
       "SV400S                   1\n",
       "VRX                      1\n",
       "ZZR1200                  1\n",
       "детский                  1\n",
       "Харли                    1\n",
       "VFR400R(nc30)            1\n",
       "VF750                    1\n",
       "GSXR-750                 1\n",
       "Savage                   1\n",
       "Сп                       1\n",
       "Atlant                   1\n",
       "CBR600F-4i               1\n",
       "ТРИЦИКЛ                  1\n",
       "FZ1-SA                   1\n",
       "FZS                      1\n",
       "cz                       1\n",
       "Motoped                  1\n",
       "z750                     1\n",
       "XV1900MidnightStar       1\n",
       "DAYELIM                  1\n",
       "SUPER                    1\n",
       "Name: manufacturer, Length: 710, dtype: int64"
      ]
     },
     "execution_count": 156,
     "metadata": {},
     "output_type": "execute_result"
    }
   ],
   "source": [
    "motorcycles.manufacturer.value_counts()"
   ]
  },
  {
   "cell_type": "markdown",
   "metadata": {},
   "source": [
    "Как можно заметить, встречаются одинаковые названия производителей, но написанные разным способом. Компьютер их различает как разных производителей, нам же надо преобразовать их к одному единому виду."
   ]
  },
  {
   "cell_type": "markdown",
   "metadata": {},
   "source": [
    "Если \"NO.\", то название производителя начинается с третьего слова в **model**:"
   ]
  },
  {
   "cell_type": "code",
   "execution_count": 157,
   "metadata": {},
   "outputs": [],
   "source": [
    "motorcycles.loc[motorcycles.manufacturer == \"NO.\", \"manufacturer\"] = \\\n",
    "            [item[2] for item in motorcycles[motorcycles.manufacturer == \"NO.\"].model.str.split().values]"
   ]
  },
  {
   "cell_type": "markdown",
   "metadata": {},
   "source": [
    "Honda $\\leftarrow$ HONDA, honda, ХОНДА, Хонда, CBR, CB, CB400"
   ]
  },
  {
   "cell_type": "code",
   "execution_count": 158,
   "metadata": {},
   "outputs": [],
   "source": [
    "motorcycles.manufacturer = motorcycles.manufacturer.str.replace(\"HONDA\", \"Honda\", regex=True)\n",
    "motorcycles.manufacturer = motorcycles.manufacturer.str.replace(\"ХОНДА\", \"Honda\", regex=True)\n",
    "motorcycles.manufacturer = motorcycles.manufacturer.str.replace(\"Хонда\", \"Honda\", regex=True)\n",
    "motorcycles.manufacturer = motorcycles.manufacturer.str.replace(\"honda\", \"Honda\", regex=True)\n",
    "motorcycles.loc[motorcycles.manufacturer == \"CBR\", \"manufacturer\"] = \"Honda\"\n",
    "motorcycles.loc[motorcycles.manufacturer == \"CB\", \"manufacturer\"] = \"Honda\"\n",
    "motorcycles.loc[motorcycles.manufacturer == \"CB400\", \"manufacturer\"] = \"Honda\"\n",
    "motorcycles.manufacturer = motorcycles.manufacturer.str.replace(\"CBR\", \"Honda\", regex=True)\n",
    "motorcycles.manufacturer = motorcycles.manufacturer.str.replace(\"CB\", \"Honda\", regex=True)\n",
    "motorcycles.manufacturer = motorcycles.manufacturer.str.replace(\"CB400\", \"Honda\", regex=True)"
   ]
  },
  {
   "cell_type": "markdown",
   "metadata": {},
   "source": [
    "Yamaha $\\leftarrow$ YAMAHA, yamaha"
   ]
  },
  {
   "cell_type": "code",
   "execution_count": 159,
   "metadata": {},
   "outputs": [],
   "source": [
    "motorcycles.manufacturer = motorcycles.manufacturer.str.replace(\"YAMAHA\", \"Yamaha\", regex=True)\n",
    "motorcycles.manufacturer = motorcycles.manufacturer.str.replace(\"yamaha\", \"Yamaha\", regex=True)"
   ]
  },
  {
   "cell_type": "markdown",
   "metadata": {},
   "source": [
    "Harley-Davidson $\\leftarrow$ Harleu-Davidson, HARLEY-DAVIDSON, Харли, Harley, Harley-Davidson, Harley-Davidson"
   ]
  },
  {
   "cell_type": "code",
   "execution_count": 160,
   "metadata": {},
   "outputs": [],
   "source": [
    "motorcycles.manufacturer = motorcycles.manufacturer.str.replace(\"Harleu-Davidson\", \"Harley-Davidson\", regex=True)\n",
    "motorcycles.manufacturer = motorcycles.manufacturer.str.replace(\"HARLEY-DAVIDSON\", \"Harley-Davidson\", regex=True)\n",
    "motorcycles.manufacturer = motorcycles.manufacturer.str.replace(\"Харли\", \"Harley-Davidson\", regex=True)\n",
    "motorcycles.manufacturer = motorcycles.manufacturer.str.replace(\"Harley-Davidson\", \"Harley-Davidson\", regex=True)\n",
    "motorcycles.loc[motorcycles.manufacturer == \"Harley\", \"manufacturer\"] = \"Harley-Davidson\""
   ]
  },
  {
   "cell_type": "markdown",
   "metadata": {},
   "source": [
    "Kawasaki $\\leftarrow$ KAWASAKI, КАВАСАКИ, Кавасаки, кавасаки, kawasaki"
   ]
  },
  {
   "cell_type": "code",
   "execution_count": 161,
   "metadata": {},
   "outputs": [],
   "source": [
    "motorcycles.manufacturer = motorcycles.manufacturer.str.replace(\"KAWASAKI\", \"Kawasaki\", regex=True)\n",
    "motorcycles.manufacturer = motorcycles.manufacturer.str.replace(\"КАВАСАКИ\", \"Kawasaki\", regex=True)\n",
    "motorcycles.manufacturer = motorcycles.manufacturer.str.replace(\"Кавасаки\", \"Kawasaki\", regex=True)\n",
    "motorcycles.manufacturer = motorcycles.manufacturer.str.replace(\"кавасаки\", \"Kawasaki\", regex=True)\n",
    "motorcycles.manufacturer = motorcycles.manufacturer.str.replace(\"kawasaki\", \"Kawasaki\", regex=True)"
   ]
  },
  {
   "cell_type": "markdown",
   "metadata": {},
   "source": [
    "Suzuki $\\leftarrow$ сузуки, suzuki, SUZUKI, Сузуки"
   ]
  },
  {
   "cell_type": "code",
   "execution_count": 162,
   "metadata": {},
   "outputs": [],
   "source": [
    "motorcycles.manufacturer = motorcycles.manufacturer.str.replace(\"сузуки\", \"Suzuki\", regex=True)\n",
    "motorcycles.manufacturer = motorcycles.manufacturer.str.replace(\"suzuki\", \"Suzuki\", regex=True)\n",
    "motorcycles.manufacturer = motorcycles.manufacturer.str.replace(\"Сузуки\", \"Suzuki\", regex=True)\n",
    "motorcycles.manufacturer = motorcycles.manufacturer.str.replace(\"SUZUKI\", \"Suzuki\", regex=True)"
   ]
  },
  {
   "cell_type": "markdown",
   "metadata": {},
   "source": [
    "Ява $\\leftarrow$ ЯВА"
   ]
  },
  {
   "cell_type": "code",
   "execution_count": 163,
   "metadata": {},
   "outputs": [],
   "source": [
    "motorcycles.manufacturer = motorcycles.manufacturer.str.replace(\"ЯВА\", \"Ява\", regex=True)"
   ]
  },
  {
   "cell_type": "markdown",
   "metadata": {},
   "source": [
    "Иж $\\leftarrow$ ИЖ, иж, ИЖ-49, Иж-49"
   ]
  },
  {
   "cell_type": "code",
   "execution_count": 164,
   "metadata": {},
   "outputs": [],
   "source": [
    "motorcycles.manufacturer = motorcycles.manufacturer.str.replace(\"ИЖ\", \"Иж\", regex=True)\n",
    "motorcycles.manufacturer = motorcycles.manufacturer.str.replace(\"иж\", \"Иж\", regex=True)\n",
    "motorcycles.manufacturer = motorcycles.manufacturer.str.replace(\"ИЖ-49\", \"Иж\", regex=True)\n",
    "motorcycles.manufacturer = motorcycles.manufacturer.str.replace(\"Иж-49\", \"Иж\", regex=True)"
   ]
  },
  {
   "cell_type": "markdown",
   "metadata": {},
   "source": [
    "CFMOTO $\\leftarrow$ Cfmoto"
   ]
  },
  {
   "cell_type": "code",
   "execution_count": 165,
   "metadata": {},
   "outputs": [],
   "source": [
    "motorcycles.manufacturer = motorcycles.manufacturer.str.replace(\"Cfmoto\", \"CFMOTO\", regex=True)"
   ]
  },
  {
   "cell_type": "markdown",
   "metadata": {},
   "source": [
    "Минск $\\leftarrow$ минск"
   ]
  },
  {
   "cell_type": "code",
   "execution_count": 166,
   "metadata": {},
   "outputs": [],
   "source": [
    "motorcycles.manufacturer = motorcycles.manufacturer.str.replace(\"минск\", \"Минск\", regex=True)"
   ]
  },
  {
   "cell_type": "markdown",
   "metadata": {},
   "source": [
    "Triumph $\\leftarrow$ triumph, TRIUMPH"
   ]
  },
  {
   "cell_type": "code",
   "execution_count": 167,
   "metadata": {},
   "outputs": [],
   "source": [
    "motorcycles.manufacturer = motorcycles.manufacturer.str.replace(\"triumph\", \"Triumph\", regex=True)\n",
    "motorcycles.manufacturer = motorcycles.manufacturer.str.replace(\"TRIUMPH\", \"Triumph\", regex=True)"
   ]
  },
  {
   "cell_type": "markdown",
   "metadata": {},
   "source": [
    "Ducati $\\leftarrow$ DUCATI"
   ]
  },
  {
   "cell_type": "code",
   "execution_count": 168,
   "metadata": {},
   "outputs": [],
   "source": [
    "motorcycles.manufacturer = motorcycles.manufacturer.str.replace(\"DUCATI\", \"Ducati\", regex=True)"
   ]
  },
  {
   "cell_type": "markdown",
   "metadata": {},
   "source": [
    "Dio $\\leftarrow$ dio"
   ]
  },
  {
   "cell_type": "code",
   "execution_count": 169,
   "metadata": {},
   "outputs": [],
   "source": [
    "motorcycles.manufacturer = motorcycles.manufacturer.str.replace(\"dio\", \"Dio\", regex=True)"
   ]
  },
  {
   "cell_type": "markdown",
   "metadata": {},
   "source": [
    "Теперь самым редким производителям дадим метку Other:"
   ]
  },
  {
   "cell_type": "code",
   "execution_count": 175,
   "metadata": {
    "scrolled": false
   },
   "outputs": [
    {
     "data": {
      "text/plain": [
       "Honda              2655\n",
       "Yamaha             1971\n",
       "Suzuki             1419\n",
       "Other              1060\n",
       "Kawasaki           1031\n",
       "BMW                 442\n",
       "Harley-Davidson     420\n",
       "KTM                 196\n",
       "Ducati              168\n",
       "Irbis               121\n",
       "Stels               119\n",
       "Triumph              93\n",
       "Racer                87\n",
       "Kayo                 87\n",
       "Урал                 74\n",
       "Aprilia              67\n",
       "Иж                   54\n",
       "Baltmotors           52\n",
       "Ява                  47\n",
       "BSE                  35\n",
       "Victory              33\n",
       "Sym                  31\n",
       "Минск                29\n",
       "Днепр                27\n",
       "ABM                  26\n",
       "Wels                 21\n",
       "Lifan                21\n",
       "BRP                  21\n",
       "CFMOTO               20\n",
       "Husqvarna            20\n",
       "Patron               20\n",
       "Hyosung              19\n",
       "Pitster              18\n",
       "Apollo               17\n",
       "Dio                  17\n",
       "YCF                  16\n",
       "Motoland             15\n",
       "TriumphRocket        15\n",
       "MV                   15\n",
       "Moto                 13\n",
       "Jmc                  12\n",
       "Bajaj                12\n",
       "ZZR                  11\n",
       "Восход               11\n",
       "Benelli              11\n",
       "VTX                  10\n",
       "Indian               10\n",
       "Bandit               10\n",
       "Yamasaki             10\n",
       "Royal                10\n",
       "Name: manufacturer, dtype: int64"
      ]
     },
     "execution_count": 175,
     "metadata": {},
     "output_type": "execute_result"
    }
   ],
   "source": [
    "names = [motorcycles.manufacturer.value_counts().index[i] \n",
    "         if m < 10 else None for i, m in enumerate(motorcycles.manufacturer.value_counts())]\n",
    "names.append(\"Мотоцикл\")\n",
    "names.append(\"Кроссовый\")\n",
    "names.append(\"Moto\")\n",
    "names = np.array(names)\n",
    "names = names[names != np.array(None)]\n",
    "\n",
    "for moto in motorcycles.manufacturer.values:\n",
    "    if moto in names:\n",
    "        motorcycles.loc[motorcycles.manufacturer == moto, \"manufacturer\"] = \"Other\"\n",
    "        \n",
    "motorcycles.manufacturer.value_counts()    "
   ]
  },
  {
   "cell_type": "markdown",
   "metadata": {},
   "source": [
    "Теперь у нас есть неплохая информация о производителях. Можно отбросить столбец с моделями, так как нам не нужна подобная излишняя информация:"
   ]
  },
  {
   "cell_type": "code",
   "execution_count": 178,
   "metadata": {},
   "outputs": [],
   "source": [
    "motorcycles = motorcycles.drop([\"model\"], axis=1)"
   ]
  },
  {
   "cell_type": "markdown",
   "metadata": {},
   "source": [
    "Осталось сделать некоторые преобразования со столбцом **city**:"
   ]
  },
  {
   "cell_type": "code",
   "execution_count": 179,
   "metadata": {},
   "outputs": [
    {
     "data": {
      "text/plain": [
       "Москва               6353\n",
       "Санкт-Петербург      2957\n",
       "Серпухов              101\n",
       "Подольск               52\n",
       "Мытищи                 47\n",
       "Жуковский              42\n",
       "Одинцово               40\n",
       "Дмитров                36\n",
       "Егорьевск              36\n",
       "Пушкино                35\n",
       "Зеленоград             34\n",
       "Ногинск                32\n",
       "Коломна                32\n",
       "Домодедово             30\n",
       "Щелково                30\n",
       "Раменское              30\n",
       "Ступино                29\n",
       "Воскресенск            28\n",
       "Балашиха               27\n",
       "Химки                  27\n",
       "Дубна                  27\n",
       "Люберцы                26\n",
       "Сергиев Посад          26\n",
       "Королев                25\n",
       "Орехово-Зуево          25\n",
       "Наро-Фоминск           25\n",
       "Железнодорожный        24\n",
       "Лобня                  24\n",
       "Луховицы               23\n",
       "Истра                  21\n",
       "                     ... \n",
       "Краснозаводск           2\n",
       "Хотьково                2\n",
       "Куровское               2\n",
       "Никольское              2\n",
       "Дрезна                  2\n",
       "Одинцово-1              2\n",
       "Кингисепп               2\n",
       "Старая Купавна          2\n",
       "Лосино-Петровский       2\n",
       "Тосно                   2\n",
       "Юбилейный               2\n",
       "Пересвет                1\n",
       "Солнечногорск-30        1\n",
       "Солнечногорск-7         1\n",
       "Новая Ладога            1\n",
       "Высоковск               1\n",
       "Лодейное Поле           1\n",
       "Одинцово-10             1\n",
       "Пушкин                  1\n",
       "Подпорожье              1\n",
       "Верея                   1\n",
       "Электроугли             1\n",
       "Щербинка                1\n",
       "Сясьстрой               1\n",
       "Сходня                  1\n",
       "Светогорск              1\n",
       "Чехов-1                 1\n",
       "Рошаль                  1\n",
       "Сестрорецк              1\n",
       "Коммунар                1\n",
       "Name: city, Length: 112, dtype: int64"
      ]
     },
     "execution_count": 179,
     "metadata": {},
     "output_type": "execute_result"
    }
   ],
   "source": [
    "motorcycles.city.value_counts()"
   ]
  },
  {
   "cell_type": "code",
   "execution_count": null,
   "metadata": {},
   "outputs": [],
   "source": []
  },
  {
   "cell_type": "code",
   "execution_count": null,
   "metadata": {},
   "outputs": [],
   "source": []
  },
  {
   "cell_type": "code",
   "execution_count": null,
   "metadata": {},
   "outputs": [],
   "source": []
  },
  {
   "cell_type": "code",
   "execution_count": null,
   "metadata": {},
   "outputs": [],
   "source": []
  },
  {
   "cell_type": "markdown",
   "metadata": {},
   "source": [
    "Предварительная обработка данных закончена. Теперь можем приступать к анализу датасета и построению моделей."
   ]
  },
  {
   "cell_type": "markdown",
   "metadata": {},
   "source": [
    "<br>"
   ]
  },
  {
   "cell_type": "markdown",
   "metadata": {},
   "source": [
    "### 4. Визуальный анализ данных"
   ]
  },
  {
   "cell_type": "code",
   "execution_count": null,
   "metadata": {},
   "outputs": [],
   "source": []
  }
 ],
 "metadata": {
  "kernelspec": {
   "display_name": "Python 3",
   "language": "python",
   "name": "python3"
  },
  "language_info": {
   "codemirror_mode": {
    "name": "ipython",
    "version": 3
   },
   "file_extension": ".py",
   "mimetype": "text/x-python",
   "name": "python",
   "nbconvert_exporter": "python",
   "pygments_lexer": "ipython3",
   "version": "3.6.5"
  }
 },
 "nbformat": 4,
 "nbformat_minor": 2
}
