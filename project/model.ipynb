{
 "cells": [
  {
   "cell_type": "markdown",
   "metadata": {},
   "source": [
    "# Оценка рыночной стоимости мотоцикла с пробегом"
   ]
  },
  {
   "cell_type": "markdown",
   "metadata": {},
   "source": [
    "## Выполнили: Болгарин Максим, Моисеенков Павел. BD-11"
   ]
  },
  {
   "cell_type": "markdown",
   "metadata": {},
   "source": [
    "<br>"
   ]
  },
  {
   "cell_type": "markdown",
   "metadata": {},
   "source": [
    "**Цель проекта:** проанализировать факторы, влияющие на рыночную стоимость подержанных мотоциклов, и научиться её предсказывать. Какую пользу можно вынести из этого простому человеку? Зная, как образуется стоимость мотоцикла, владелец подобного транспортного средства может подобрать подходящую для него цену для продажи. С другой стороны, будущий владелец сможет оценить адекватность заинтересовавшего его предложения."
   ]
  },
  {
   "cell_type": "markdown",
   "metadata": {},
   "source": [
    "**План выполнения:**\n",
    "1. Поиск данных, формирование датасета\n",
    "    * Скачивание и парсинг данных.\n",
    "    * Формирование датасета.\n",
    "2. Первичный анализ данных\n",
    "    * Изучение данных: определение смысла признаков, типов данных, наличия пропусков и т.д.\n",
    "3. Предобработка данных\n",
    "    * Очистка и отбор данных, выполнение необходимых преобразований.\n",
    "4. Визуальный анализ данных\n",
    "    * Поиск скрытых особенностей в данных, анализ корреляций.\n",
    "5. Применение моделей анализа данных для предсказания стоимости\n",
    "    * Тестирование нескольких простых моделей, сравнение качества, выбор baseline.\n",
    "    * Обучение и проверка модели, показывающей наилучшее качество.\n",
    "6. Вывод"
   ]
  },
  {
   "cell_type": "markdown",
   "metadata": {},
   "source": [
    "<br>"
   ]
  },
  {
   "cell_type": "markdown",
   "metadata": {},
   "source": [
    "### 1. Поиск данных, формирование датасета"
   ]
  },
  {
   "cell_type": "markdown",
   "metadata": {},
   "source": [
    "Источником данных послужил архив объявлений на сайте moto.drom.ru\n",
    "\n",
    "Всего было обработано около 7000 объявлений из Москвы. Скачивание производилось в [другом Jupyter Notebook](https://github.com/maxbolgarin/datamining_project/blob/master/project/parce.ipynb). На выходе мы имеем .csv файл, с ним нам и предстоит работать."
   ]
  },
  {
   "cell_type": "markdown",
   "metadata": {},
   "source": [
    "#### Подключим необходимые библиотеки"
   ]
  },
  {
   "cell_type": "code",
   "execution_count": 3,
   "metadata": {},
   "outputs": [],
   "source": [
    "import numpy as np\n",
    "import pandas as pd"
   ]
  },
  {
   "cell_type": "markdown",
   "metadata": {},
   "source": [
    "#### Теперь загрузим данные"
   ]
  },
  {
   "cell_type": "code",
   "execution_count": 4,
   "metadata": {},
   "outputs": [],
   "source": [
    "motorcycles = pd.read_csv('data/motorcycles.csv', index_col='id')"
   ]
  },
  {
   "cell_type": "code",
   "execution_count": 5,
   "metadata": {},
   "outputs": [
    {
     "data": {
      "text/html": [
       "<div>\n",
       "<style scoped>\n",
       "    .dataframe tbody tr th:only-of-type {\n",
       "        vertical-align: middle;\n",
       "    }\n",
       "\n",
       "    .dataframe tbody tr th {\n",
       "        vertical-align: top;\n",
       "    }\n",
       "\n",
       "    .dataframe thead th {\n",
       "        text-align: right;\n",
       "    }\n",
       "</style>\n",
       "<table border=\"1\" class=\"dataframe\">\n",
       "  <thead>\n",
       "    <tr style=\"text-align: right;\">\n",
       "      <th></th>\n",
       "      <th>price</th>\n",
       "      <th>model</th>\n",
       "      <th>mileage</th>\n",
       "      <th>motorcycle_class</th>\n",
       "      <th>year</th>\n",
       "      <th>engine_capacity</th>\n",
       "      <th>engine_strokes</th>\n",
       "      <th>damaged</th>\n",
       "      <th>documents</th>\n",
       "      <th>city</th>\n",
       "      <th>date</th>\n",
       "    </tr>\n",
       "    <tr>\n",
       "      <th>id</th>\n",
       "      <th></th>\n",
       "      <th></th>\n",
       "      <th></th>\n",
       "      <th></th>\n",
       "      <th></th>\n",
       "      <th></th>\n",
       "      <th></th>\n",
       "      <th></th>\n",
       "      <th></th>\n",
       "      <th></th>\n",
       "      <th></th>\n",
       "    </tr>\n",
       "  </thead>\n",
       "  <tbody>\n",
       "    <tr>\n",
       "      <th>4311</th>\n",
       "      <td>419 000₽</td>\n",
       "      <td>Yamaha FZ 8 SA</td>\n",
       "      <td>9 304 км</td>\n",
       "      <td>None</td>\n",
       "      <td>2012</td>\n",
       "      <td>798 куб. см.</td>\n",
       "      <td>4х тактный</td>\n",
       "      <td>Исправен</td>\n",
       "      <td>Есть ПТС</td>\n",
       "      <td>Москва</td>\n",
       "      <td>1 октября 2015</td>\n",
       "    </tr>\n",
       "    <tr>\n",
       "      <th>3666</th>\n",
       "      <td>500 000₽</td>\n",
       "      <td>Triumph Street Triple 675 ABS</td>\n",
       "      <td>5 400 км</td>\n",
       "      <td>None</td>\n",
       "      <td>2014</td>\n",
       "      <td>675 куб. см.</td>\n",
       "      <td>4х тактный</td>\n",
       "      <td>Исправен</td>\n",
       "      <td>Есть ПТС</td>\n",
       "      <td>Москва</td>\n",
       "      <td>3 апреля 2016</td>\n",
       "    </tr>\n",
       "    <tr>\n",
       "      <th>763</th>\n",
       "      <td>149 000₽</td>\n",
       "      <td>Yamaha YBR 125</td>\n",
       "      <td>1 км</td>\n",
       "      <td>Классика</td>\n",
       "      <td>2016</td>\n",
       "      <td>125 куб. см.</td>\n",
       "      <td>4х тактный</td>\n",
       "      <td>None</td>\n",
       "      <td>Есть ПТС</td>\n",
       "      <td>Москва</td>\n",
       "      <td>24 февраля</td>\n",
       "    </tr>\n",
       "    <tr>\n",
       "      <th>3622</th>\n",
       "      <td>200 000₽</td>\n",
       "      <td>Honda CBR 900RR</td>\n",
       "      <td>41 000 км</td>\n",
       "      <td>None</td>\n",
       "      <td>1998</td>\n",
       "      <td>918 куб. см.</td>\n",
       "      <td>4х тактный</td>\n",
       "      <td>Исправен</td>\n",
       "      <td>Есть ПТС</td>\n",
       "      <td>Москва</td>\n",
       "      <td>10 апреля 2016</td>\n",
       "    </tr>\n",
       "    <tr>\n",
       "      <th>5736</th>\n",
       "      <td>460 000₽</td>\n",
       "      <td>Harley-Davidson</td>\n",
       "      <td>850 км</td>\n",
       "      <td>None</td>\n",
       "      <td>2011</td>\n",
       "      <td>1 200 куб. см.</td>\n",
       "      <td>4х тактный</td>\n",
       "      <td>Исправен</td>\n",
       "      <td>Есть ПТС</td>\n",
       "      <td>Москва</td>\n",
       "      <td>5 марта 2014</td>\n",
       "    </tr>\n",
       "  </tbody>\n",
       "</table>\n",
       "</div>"
      ],
      "text/plain": [
       "         price                          model    mileage motorcycle_class  \\\n",
       "id                                                                          \n",
       "4311  419 000₽                 Yamaha FZ 8 SA   9 304 км             None   \n",
       "3666  500 000₽  Triumph Street Triple 675 ABS   5 400 км             None   \n",
       "763   149 000₽                 Yamaha YBR 125       1 км         Классика   \n",
       "3622  200 000₽                Honda CBR 900RR  41 000 км             None   \n",
       "5736  460 000₽                Harley-Davidson     850 км             None   \n",
       "\n",
       "      year engine_capacity engine_strokes   damaged documents    city  \\\n",
       "id                                                                      \n",
       "4311  2012    798 куб. см.     4х тактный  Исправен  Есть ПТС  Москва   \n",
       "3666  2014    675 куб. см.     4х тактный  Исправен  Есть ПТС  Москва   \n",
       "763   2016    125 куб. см.     4х тактный      None  Есть ПТС  Москва   \n",
       "3622  1998    918 куб. см.     4х тактный  Исправен  Есть ПТС  Москва   \n",
       "5736  2011  1 200 куб. см.     4х тактный  Исправен  Есть ПТС  Москва   \n",
       "\n",
       "                date  \n",
       "id                    \n",
       "4311  1 октября 2015  \n",
       "3666   3 апреля 2016  \n",
       "763       24 февраля  \n",
       "3622  10 апреля 2016  \n",
       "5736    5 марта 2014  "
      ]
     },
     "execution_count": 5,
     "metadata": {},
     "output_type": "execute_result"
    }
   ],
   "source": [
    "motorcycles.sample(5)"
   ]
  },
  {
   "cell_type": "code",
   "execution_count": 6,
   "metadata": {},
   "outputs": [
    {
     "data": {
      "text/plain": [
       "(6848, 11)"
      ]
     },
     "execution_count": 6,
     "metadata": {},
     "output_type": "execute_result"
    }
   ],
   "source": [
    "motorcycles.shape"
   ]
  },
  {
   "cell_type": "markdown",
   "metadata": {},
   "source": [
    "Видим, что данные успешно загрузились и выглядят вполне адекватно. Можем работать дальше."
   ]
  },
  {
   "cell_type": "markdown",
   "metadata": {},
   "source": [
    "<br>"
   ]
  },
  {
   "cell_type": "markdown",
   "metadata": {},
   "source": [
    "### 2. Первичный анализ данных"
   ]
  },
  {
   "cell_type": "markdown",
   "metadata": {},
   "source": [
    "Посмотрим общую информацию по датасету:"
   ]
  },
  {
   "cell_type": "code",
   "execution_count": 7,
   "metadata": {},
   "outputs": [
    {
     "name": "stdout",
     "output_type": "stream",
     "text": [
      "<class 'pandas.core.frame.DataFrame'>\n",
      "Int64Index: 6848 entries, 1 to 7100\n",
      "Data columns (total 11 columns):\n",
      "price               6848 non-null object\n",
      "model               6848 non-null object\n",
      "mileage             6848 non-null object\n",
      "motorcycle_class    6848 non-null object\n",
      "year                6848 non-null object\n",
      "engine_capacity     6848 non-null object\n",
      "engine_strokes      6848 non-null object\n",
      "damaged             6848 non-null object\n",
      "documents           6848 non-null object\n",
      "city                6848 non-null object\n",
      "date                6848 non-null object\n",
      "dtypes: object(11)\n",
      "memory usage: 642.0+ KB\n"
     ]
    }
   ],
   "source": [
    "motorcycles.info()"
   ]
  },
  {
   "cell_type": "code",
   "execution_count": 8,
   "metadata": {},
   "outputs": [
    {
     "data": {
      "text/plain": [
       "price               1059\n",
       "model               2284\n",
       "mileage             1958\n",
       "motorcycle_class      15\n",
       "year                  56\n",
       "engine_capacity      348\n",
       "engine_strokes         3\n",
       "damaged                3\n",
       "documents              3\n",
       "city                   1\n",
       "date                2133\n",
       "dtype: int64"
      ]
     },
     "execution_count": 8,
     "metadata": {},
     "output_type": "execute_result"
    }
   ],
   "source": [
    "motorcycles.nunique()"
   ]
  },
  {
   "cell_type": "code",
   "execution_count": 9,
   "metadata": {},
   "outputs": [
    {
     "data": {
      "text/plain": [
       "(6797, 11)"
      ]
     },
     "execution_count": 9,
     "metadata": {},
     "output_type": "execute_result"
    }
   ],
   "source": [
    "motorcycles.drop_duplicates().shape"
   ]
  },
  {
   "cell_type": "markdown",
   "metadata": {},
   "source": [
    "Теперь посмотрим на некоторые столбцы, вызывающие вопросы:"
   ]
  },
  {
   "cell_type": "markdown",
   "metadata": {},
   "source": [
    "**price:**"
   ]
  },
  {
   "cell_type": "code",
   "execution_count": 30,
   "metadata": {},
   "outputs": [
    {
     "data": {
      "text/plain": [
       "array(['300 000₽', '98 000₽', '595 000₽', ..., '90₽', '9 000₽', '100₽'],\n",
       "      dtype=object)"
      ]
     },
     "execution_count": 30,
     "metadata": {},
     "output_type": "execute_result"
    }
   ],
   "source": [
    "motorcycles.price.unique()"
   ]
  },
  {
   "cell_type": "markdown",
   "metadata": {},
   "source": [
    "**motorcycle_class:**"
   ]
  },
  {
   "cell_type": "code",
   "execution_count": 13,
   "metadata": {},
   "outputs": [
    {
     "data": {
      "text/plain": [
       "None               0.518400\n",
       "Чоппер             0.178592\n",
       "Классика           0.067465\n",
       "Спортивный         0.053154\n",
       "Круизер            0.040888\n",
       "Спорт-турист       0.037967\n",
       "Эндуро             0.025263\n",
       "Питбайк            0.024971\n",
       "Туристический      0.018692\n",
       "Стритфайтер        0.011536\n",
       "Кроссовый          0.008470\n",
       "Кастом             0.007155\n",
       "Мотард             0.003213\n",
       "Детский            0.002482\n",
       "Трайк (трицикл)    0.001752\n",
       "Name: motorcycle_class, dtype: float64"
      ]
     },
     "execution_count": 13,
     "metadata": {},
     "output_type": "execute_result"
    }
   ],
   "source": [
    "motorcycles.motorcycle_class.value_counts() / motorcycles.motorcycle_class.size"
   ]
  },
  {
   "cell_type": "markdown",
   "metadata": {},
   "source": [
    "**engine_capacity:**"
   ]
  },
  {
   "cell_type": "code",
   "execution_count": 14,
   "metadata": {},
   "outputs": [
    {
     "data": {
      "text/plain": [
       "400 куб. см.      0.110981\n",
       "600 куб. см.      0.097985\n",
       "250 куб. см.      0.088347\n",
       "1 000 куб. см.    0.049504\n",
       "650 куб. см.      0.045999\n",
       "750 куб. см.      0.036069\n",
       "1 200 куб. см.    0.035193\n",
       "1 300 куб. см.    0.032856\n",
       "125 куб. см.      0.027599\n",
       "Name: engine_capacity, dtype: float64"
      ]
     },
     "execution_count": 14,
     "metadata": {},
     "output_type": "execute_result"
    }
   ],
   "source": [
    "motorcycles.engine_capacity.value_counts()[:9] / motorcycles.engine_capacity.size"
   ]
  },
  {
   "cell_type": "markdown",
   "metadata": {},
   "source": [
    "**engine_strokes:**"
   ]
  },
  {
   "cell_type": "code",
   "execution_count": 10,
   "metadata": {},
   "outputs": [
    {
     "data": {
      "text/plain": [
       "4х тактный    0.863902\n",
       "None          0.081484\n",
       "2х тактный    0.054614\n",
       "Name: engine_strokes, dtype: float64"
      ]
     },
     "execution_count": 10,
     "metadata": {},
     "output_type": "execute_result"
    }
   ],
   "source": [
    "motorcycles.engine_strokes.value_counts() / motorcycles.engine_strokes.size"
   ]
  },
  {
   "cell_type": "markdown",
   "metadata": {},
   "source": [
    "**damaged:**"
   ]
  },
  {
   "cell_type": "code",
   "execution_count": 11,
   "metadata": {},
   "outputs": [
    {
     "data": {
      "text/plain": [
       "Исправен      0.968166\n",
       "None          0.019568\n",
       "Неисправен    0.012266\n",
       "Name: damaged, dtype: float64"
      ]
     },
     "execution_count": 11,
     "metadata": {},
     "output_type": "execute_result"
    }
   ],
   "source": [
    "motorcycles.damaged.value_counts() / motorcycles.damaged.size"
   ]
  },
  {
   "cell_type": "markdown",
   "metadata": {},
   "source": [
    "**documents:**"
   ]
  },
  {
   "cell_type": "code",
   "execution_count": 16,
   "metadata": {},
   "outputs": [
    {
     "data": {
      "text/plain": [
       "Есть ПТС    0.908732\n",
       "Без ПТС     0.089223\n",
       "None        0.002044\n",
       "Name: documents, dtype: float64"
      ]
     },
     "execution_count": 16,
     "metadata": {},
     "output_type": "execute_result"
    }
   ],
   "source": [
    "motorcycles.documents.value_counts() / motorcycles.documents.size"
   ]
  },
  {
   "cell_type": "markdown",
   "metadata": {},
   "source": [
    "Теперь пройдемся по столбцам и, на основе уже имеющейся информации, дадим им некоторое описание:\n",
    "1. **id:**\n",
    "2. **price:**"
   ]
  },
  {
   "cell_type": "code",
   "execution_count": null,
   "metadata": {},
   "outputs": [],
   "source": []
  }
 ],
 "metadata": {
  "kernelspec": {
   "display_name": "Python 3",
   "language": "python",
   "name": "python3"
  },
  "language_info": {
   "codemirror_mode": {
    "name": "ipython",
    "version": 3
   },
   "file_extension": ".py",
   "mimetype": "text/x-python",
   "name": "python",
   "nbconvert_exporter": "python",
   "pygments_lexer": "ipython3",
   "version": "3.6.5"
  }
 },
 "nbformat": 4,
 "nbformat_minor": 2
}
